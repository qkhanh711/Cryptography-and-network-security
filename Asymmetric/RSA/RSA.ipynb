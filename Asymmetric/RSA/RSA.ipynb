{
 "cells": [
  {
   "cell_type": "markdown",
   "metadata": {},
   "source": [
    "# Implement from lecture"
   ]
  },
  {
   "cell_type": "markdown",
   "metadata": {},
   "source": [
    "## Extend GCD"
   ]
  },
  {
   "cell_type": "code",
   "execution_count": 4,
   "metadata": {},
   "outputs": [
    {
     "data": {
      "text/plain": [
       "(1, -111, 355)"
      ]
     },
     "execution_count": 4,
     "metadata": {},
     "output_type": "execute_result"
    }
   ],
   "source": [
    "def ext_gcd(a, b):\n",
    "    m, n = a, b\n",
    "    xm, xn = 1, 0\n",
    "    ym, yn = 0, 1\n",
    "    while n != 0:\n",
    "        q = m // n\n",
    "        m, n = n, m % n\n",
    "        xm, xn = xn, xm - xn * q\n",
    "        ym, yn = yn, ym - yn * q\n",
    "    return m, xm, ym\n",
    "\n",
    "ext_gcd(1759, 550)"
   ]
  },
  {
   "cell_type": "code",
   "execution_count": 5,
   "metadata": {},
   "outputs": [
    {
     "data": {
      "text/plain": [
       "(1, -111, 355)"
      ]
     },
     "execution_count": 5,
     "metadata": {},
     "output_type": "execute_result"
    }
   ],
   "source": [
    "def ext_gcd(a, b):\n",
    "    m, n = a, b\n",
    "    xm, xn = 1, 0\n",
    "    ym, yn = 0, 1\n",
    "    while n != 0:\n",
    "        q = m // n\n",
    "        r = m % n\n",
    "        xr,yr = xm - q* xn, ym - q* yn\n",
    "        m, n = n, r\n",
    "        xm, ym = xn, yn\n",
    "        xn, yn = xr, yr\n",
    "    return m, xm, ym\n",
    "\n",
    "ext_gcd(1759, 550)"
   ]
  },
  {
   "cell_type": "code",
   "execution_count": 4,
   "metadata": {},
   "outputs": [
    {
     "data": {
      "text/plain": [
       "355"
      ]
     },
     "execution_count": 4,
     "metadata": {},
     "output_type": "execute_result"
    }
   ],
   "source": [
    "def extended_gcd(a, b):\n",
    "    if not b:\n",
    "        return 1, 0\n",
    "\n",
    "    u, v = extended_gcd(b, a % b)\n",
    "    return v, u - v * (a // b)\n",
    "\n",
    "extended_gcd(1759, 550) "
   ]
  },
  {
   "cell_type": "markdown",
   "metadata": {},
   "source": [
    "## RSA"
   ]
  },
  {
   "cell_type": "code",
   "execution_count": 7,
   "metadata": {},
   "outputs": [
    {
     "data": {
      "text/plain": [
       "[3314, 2262, 17, 462, 2414, 2066]"
      ]
     },
     "execution_count": 7,
     "metadata": {},
     "output_type": "execute_result"
    }
   ],
   "source": [
    "def encode(plaintext):\n",
    "    string = \"abcdefghijklmnopqrstuvwxyzABCDEFGHIJKLMNOPQRSTUVWXYZ\"\n",
    "    encoded_values = []\n",
    "    for character in plaintext:\n",
    "        # print(character)\n",
    "        if character == \" \":\n",
    "            encoded_values.append(62)\n",
    "            continue\n",
    "        if character == \"?\":\n",
    "            encoded_values.append(66)\n",
    "            continue\n",
    "        index = string.find(character)\n",
    "        encoded_values.append(index)\n",
    "\n",
    "    four_digit_number = []\n",
    "    for i in range(0, len(encoded_values), 2):\n",
    "        two_digit_number = str(encoded_values[i]) + str(encoded_values[i + 1])\n",
    "        four_digit_number.append(int(two_digit_number))\n",
    "    return four_digit_number\n",
    "\n",
    "encode_string = encode(\"How are you?\")\n",
    "encode_string"
   ]
  },
  {
   "cell_type": "code",
   "execution_count": 8,
   "metadata": {},
   "outputs": [],
   "source": [
    "def int_zero(number):\n",
    "    if number < 10:\n",
    "        return 0\n",
    "    else:\n",
    "        return number\n",
    "\n",
    "def convert_list(list_input):\n",
    "    list_output = []\n",
    "    for num in list_input:\n",
    "        num_str = str(num)\n",
    "        if len(num_str) == 2:\n",
    "            num_str = \"00\" + num_str\n",
    "        if len(num_str) < 4:\n",
    "            num_str = \"0\" + num_str\n",
    "        list_output.append(int(num_str[:2]))\n",
    "        list_output.append(int(num_str[2:]))\n",
    "    return list_output\n",
    "\n",
    "def decode(encoded_values):\n",
    "    string = \"abcdefghijklmnopqrstuvwxyzABCDEFGHIJKLMNOPQRSTUVWXYZ\"\n",
    "    decoded_string = \"\"\n",
    "    for encoded_value in encoded_values:\n",
    "        if encoded_value == 62:\n",
    "            decoded_string += \" \"\n",
    "            continue\n",
    "        if encoded_value == 66:\n",
    "            decoded_string += \"?\"\n",
    "            continue\n",
    "        character = string[encoded_value]\n",
    "        decoded_string += character\n",
    "    return decoded_string\n"
   ]
  },
  {
   "cell_type": "code",
   "execution_count": 9,
   "metadata": {},
   "outputs": [],
   "source": [
    "import random\n",
    "import math \n",
    "\n",
    "def miller_rabin(n):\n",
    "    if n<=3:\n",
    "        raise Exception(\"n must be greater than 3\")\n",
    "    if n%2 == 0:\n",
    "        return False\n",
    "    u = n - 1\n",
    "    k = 0\n",
    "    while u%2 == 0:\n",
    "        u = u//2\n",
    "        k += 1\n",
    "    a = random.randint(2, n-2)\n",
    "    b = pow(a, u, n)\n",
    "    if b == 1 or b == n-1:\n",
    "        return True\n",
    "    for i in range(k-1):\n",
    "        b = pow(b, 2, n)\n",
    "        if b == n-1:\n",
    "            return True\n",
    "        if b == 1:\n",
    "            return False\n",
    "    return False\n",
    "\n",
    "def is_Prime(n):\n",
    "    if n == 2:\n",
    "        return True\n",
    "    if n % 2 == 0:\n",
    "        return False\n",
    "    for i in range(3, int(n ** 0.5)+1, 2):\n",
    "        if n % i == 0:\n",
    "            return False\n",
    "    return True\n",
    "\n",
    "def generate_prime(min_value, max_value):\n",
    "    while True:\n",
    "        p = random.randint(min_value, max_value)\n",
    "        if miller_rabin(p): \n",
    "            return p\n",
    "\n",
    "def mod_inverse(e, phi): # Extended GCD\n",
    "    for i in range(2, phi):\n",
    "        if (e * i) % phi == 1:\n",
    "            return i\n",
    "    raise Exception(\"No mod inverse found\")\n",
    "\n",
    "p, q = generate_prime(100, 1000), generate_prime(100, 1000)\n",
    "\n",
    "while p == q:\n",
    "    q = generate_prime(100, 1000)"
   ]
  },
  {
   "cell_type": "code",
   "execution_count": 10,
   "metadata": {},
   "outputs": [
    {
     "name": "stdout",
     "output_type": "stream",
     "text": [
      "        Pulic key: 11 Private key: 5891\n",
      "        n        : 11023 phi_n      : 10800\n",
      "        p        : 73 q          : 151\n"
     ]
    }
   ],
   "source": [
    "\n",
    "p = 73\n",
    "q = 151\n",
    "\n",
    "n = p * q\n",
    "\n",
    "phi_n = (p-1) * (q-1)\n",
    "\n",
    "e = random.randint(2, phi_n)\n",
    "\n",
    "e = 11\n",
    "\n",
    "while math.gcd(e, phi_n) != 1:\n",
    "    e = random.randint(2, phi_n)\n",
    "\n",
    "d = mod_inverse(e, phi_n)\n",
    "d = 5891\n",
    "\n",
    "print(f\"\\\n",
    "        Pulic key: {e} Private key: {d}\\n\\\n",
    "        n        : {n} phi_n      : {phi_n}\\n\\\n",
    "        p        : {p} q          : {q}\")\n"
   ]
  },
  {
   "cell_type": "code",
   "execution_count": 11,
   "metadata": {},
   "outputs": [
    {
     "name": "stdout",
     "output_type": "stream",
     "text": [
      "plaintext: How are you?\n",
      "plaintext_encode: [3314, 2262, 17, 462, 2414, 2066]\n",
      "ciphertext: [10260, 9489, 1782, 727, 10032, 2253]\n",
      "decrypted: [3314, 2262, 17, 462, 2414, 2066]\n",
      "decrypted message: How are you?\n"
     ]
    }
   ],
   "source": [
    "plaintext = \"How are you?\"\n",
    "print(f\"plaintext: {plaintext}\")\n",
    "\n",
    "encoded_values = encode(plaintext)\n",
    "print(f\"plaintext_encode: {encoded_values}\")\n",
    "\n",
    "ciphertext = [pow(char, e, n) for char in encoded_values]\n",
    "print(f\"ciphertext: {ciphertext}\")\n",
    "\n",
    "decrypted = [pow(char, d, n) for char in ciphertext]\n",
    "print(f\"decrypted: {decrypted}\")\n",
    "\n",
    "one_digit_numbers = [int_zero(number) for number in decrypted]\n",
    "list_output = convert_list(one_digit_numbers)\n",
    "message = decode(list_output)\n",
    "\n",
    "print(f\"decrypted message: {message}\")"
   ]
  },
  {
   "cell_type": "code",
   "execution_count": null,
   "metadata": {},
   "outputs": [],
   "source": []
  }
 ],
 "metadata": {
  "kernelspec": {
   "display_name": "base",
   "language": "python",
   "name": "python3"
  },
  "language_info": {
   "codemirror_mode": {
    "name": "ipython",
    "version": 3
   },
   "file_extension": ".py",
   "mimetype": "text/x-python",
   "name": "python",
   "nbconvert_exporter": "python",
   "pygments_lexer": "ipython3",
   "version": "3.10.9"
  },
  "orig_nbformat": 4
 },
 "nbformat": 4,
 "nbformat_minor": 2
}
