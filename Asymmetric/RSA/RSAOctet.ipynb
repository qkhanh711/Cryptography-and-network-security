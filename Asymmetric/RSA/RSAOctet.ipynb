{
 "cells": [
  {
   "cell_type": "code",
   "execution_count": 49,
   "metadata": {},
   "outputs": [
    {
     "name": "stdout",
     "output_type": "stream",
     "text": [
      "72\n",
      "111\n",
      "119\n",
      "32\n",
      "97\n",
      "114\n",
      "101\n",
      "32\n",
      "121\n",
      "111\n",
      "117\n",
      "63\n",
      "[91, 4, 91, 252, 100, 44, 61, 169, 51, 30, 81, 6, 83]\n",
      "7211111932971141013212111111763\n",
      "20282409603651670423947251286016\n"
     ]
    }
   ],
   "source": [
    "def char_to_int(plaintext):\n",
    "    new_plaintext = \"\"\n",
    "    for character in plaintext:\n",
    "        print(ord(character))\n",
    "        new_plaintext += str(ord(character))\n",
    "    return int(new_plaintext)\n",
    "# char_to_int(\"How are you?\")\n",
    "\n",
    "def encodeI2OSP(x, xLen):\n",
    "    if x >= 256 ** xLen:\n",
    "        raise ValueError(\"integer too large\")\n",
    "    digits = []\n",
    "    while x:\n",
    "        digits.append(int(x % 256))\n",
    "        x //= 256\n",
    "    for i in range(xLen - len(digits)):\n",
    "        digits.append(0)\n",
    "    digits.reverse()\n",
    "    return digits\n",
    "\n",
    "def decodeOS2IP(x):\n",
    "    x = x[::-1]\n",
    "    n = 0\n",
    "    for i in range(len(x)):\n",
    "        n += x[i] * (256 ** i)\n",
    "    return n\n",
    "\n",
    "# test\n",
    "xLen = 13\n",
    "x = encodeI2OSP(char_to_int(\"How are you?\"), xLen)\n",
    "print(x)\n",
    "x = decodeOS2IP(x)\n",
    "print(x)\n",
    "print(256**13)"
   ]
  },
  {
   "cell_type": "code",
   "execution_count": null,
   "metadata": {},
   "outputs": [],
   "source": []
  }
 ],
 "metadata": {
  "kernelspec": {
   "display_name": "QuocKhanh",
   "language": "python",
   "name": "python3"
  },
  "language_info": {
   "codemirror_mode": {
    "name": "ipython",
    "version": 3
   },
   "file_extension": ".py",
   "mimetype": "text/x-python",
   "name": "python",
   "nbconvert_exporter": "python",
   "pygments_lexer": "ipython3",
   "version": "3.9.16"
  },
  "orig_nbformat": 4
 },
 "nbformat": 4,
 "nbformat_minor": 2
}
