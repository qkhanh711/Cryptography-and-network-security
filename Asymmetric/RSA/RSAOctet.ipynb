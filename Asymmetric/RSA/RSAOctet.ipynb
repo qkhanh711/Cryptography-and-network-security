{
 "cells": [
  {
   "cell_type": "markdown",
   "metadata": {},
   "source": [
    "# I2OSP"
   ]
  },
  {
   "cell_type": "code",
   "execution_count": 108,
   "metadata": {},
   "outputs": [
    {
     "name": "stdout",
     "output_type": "stream",
     "text": [
      "[73, 150, 2, 210]\n",
      "1234567890\n"
     ]
    }
   ],
   "source": [
    "def I2OSP(integer):\n",
    "  \"\"\"Converts a (potentially very large) non-negative integer into a sequence of bytes (octet string).\n",
    "\n",
    "  Args:\n",
    "    integer: A non-negative integer.\n",
    "\n",
    "  Returns:\n",
    "    A sequence of bytes representing the integer.\n",
    "  \"\"\"\n",
    "\n",
    "  if integer < 0:\n",
    "    raise ValueError(\"Integer must be non-negative.\")\n",
    "\n",
    "  bytes = []\n",
    "  while integer > 0:\n",
    "    byte = integer & 0xFF\n",
    "    bytes.append(byte)\n",
    "    integer >>= 8\n",
    "\n",
    "  return bytes[::-1]\n",
    "\n",
    "\n",
    "def OS2IP(bytes):\n",
    "  \"\"\"Interprets a sequence of bytes as a non-negative integer.\n",
    "\n",
    "  Args:\n",
    "    bytes: A sequence of bytes.\n",
    "\n",
    "  Returns:\n",
    "    A non-negative integer represented by the bytes.\n",
    "  \"\"\"\n",
    "\n",
    "  integer = 0\n",
    "  for byte in bytes:\n",
    "    integer <<= 8\n",
    "    integer |= byte\n",
    "\n",
    "  return integer\n",
    "\n",
    "\n",
    "# Example usage:\n",
    "\n",
    "integer = 1234567890\n",
    "bytes = I2OSP(integer)\n",
    "print(bytes)\n",
    "\n",
    "integer = OS2IP(bytes)\n",
    "print(integer)\n"
   ]
  },
  {
   "cell_type": "markdown",
   "metadata": {},
   "source": [
    "# Func"
   ]
  },
  {
   "cell_type": "code",
   "execution_count": 109,
   "metadata": {},
   "outputs": [
    {
     "name": "stdout",
     "output_type": "stream",
     "text": [
      "55\n",
      "[0, 0, 73, 150, 2, 210]\n",
      "1234567890\n"
     ]
    }
   ],
   "source": [
    "def char_to_int(plaintext):\n",
    "    new_plaintext = \"\"\n",
    "    for character in plaintext:\n",
    "        # print(ord(character))\n",
    "        new_plaintext += str(ord(character))\n",
    "    return int(new_plaintext)\n",
    "# char_to_int(\"How are you?\")\n",
    "\n",
    "def encodeI2OSP(x, xLen):\n",
    "    if x >= 256 ** xLen:\n",
    "        raise ValueError(\"integer too large\")\n",
    "    digits = []\n",
    "    while x:\n",
    "        digits.append(int(x % 256))\n",
    "        x //= 256\n",
    "    for i in range(xLen - len(digits)):\n",
    "        digits.append(0)\n",
    "    digits.reverse()\n",
    "    return digits\n",
    "\n",
    "def decodeOS2IP(x):\n",
    "    x = x[::-1]\n",
    "    n = 0\n",
    "    for i in range(len(x)):\n",
    "        n += x[i] * (256 ** i)\n",
    "    return n\n",
    "\n",
    "# test\n",
    "X = char_to_int(\"7\")\n",
    "print(X)\n",
    "xLen = 6\n",
    "x = encodeI2OSP(1234567890, xLen)\n",
    "print(x)\n",
    "x = decodeOS2IP(x)\n",
    "print(x)"
   ]
  },
  {
   "cell_type": "code",
   "execution_count": 110,
   "metadata": {},
   "outputs": [],
   "source": [
    "import random\n",
    "import math \n",
    "\n",
    "def miller_rabin(n):\n",
    "    if n<=3:\n",
    "        raise Exception(\"n must be greater than 3\")\n",
    "    if n%2 == 0:\n",
    "        return False\n",
    "    u = n - 1\n",
    "    k = 0\n",
    "    while u%2 == 0:\n",
    "        u = u//2\n",
    "        k += 1\n",
    "    a = random.randint(2, n-2)\n",
    "    b = pow(a, u, n)\n",
    "    if b == 1 or b == n-1:\n",
    "        return True\n",
    "    for i in range(k-1):\n",
    "        b = pow(b, 2, n)\n",
    "        if b == n-1:\n",
    "            return True\n",
    "        if b == 1:\n",
    "            return False\n",
    "    return False\n",
    "\n",
    "def generate_prime(min_value, max_value):\n",
    "    while True:\n",
    "        p = random.randint(min_value, max_value)\n",
    "        if miller_rabin(p): \n",
    "            return p\n",
    "\n",
    "def mod_inverse(e, phi):\n",
    "    for i in range(2, phi):\n",
    "        if (e * i) % phi == 1:\n",
    "            return i\n",
    "    raise Exception(\"No mod inverse found\")\n",
    "\n",
    "p, q = generate_prime(100, 1000), generate_prime(100, 1000)\n",
    "\n",
    "while p == q:\n",
    "    q = generate_prime(100, 1000)"
   ]
  },
  {
   "cell_type": "code",
   "execution_count": 111,
   "metadata": {},
   "outputs": [
    {
     "name": "stdout",
     "output_type": "stream",
     "text": [
      "        Pulic key: 11 Private key: 5891\n",
      "        n        : 11023 phi_n      : 10800\n",
      "        p        : 73 q          : 151\n"
     ]
    }
   ],
   "source": [
    "\n",
    "p = 73\n",
    "q = 151\n",
    "\n",
    "n = p * q\n",
    "\n",
    "phi_n = (p-1) * (q-1)\n",
    "\n",
    "e = random.randint(2, phi_n)\n",
    "\n",
    "e = 11\n",
    "\n",
    "while math.gcd(e, phi_n) != 1:\n",
    "    e = random.randint(2, phi_n)\n",
    "\n",
    "d = mod_inverse(e, phi_n)\n",
    "d = 5891\n",
    "\n",
    "print(f\"\\\n",
    "        Pulic key: {e} Private key: {d}\\n\\\n",
    "        n        : {n} phi_n      : {phi_n}\\n\\\n",
    "        p        : {p} q          : {q}\")\n"
   ]
  },
  {
   "cell_type": "code",
   "execution_count": 115,
   "metadata": {},
   "outputs": [
    {
     "name": "stdout",
     "output_type": "stream",
     "text": [
      "plaintext: 7211111932971141013212111111763\n",
      "plaintext_encode: [91, 4, 91, 252, 100, 44, 61, 169, 51, 30, 81, 6, 83]\n",
      "ciphertext: [990, 5564, 990, 7506, 9025, 836, 4472, 4113, 10303, 2280, 1086, 8080, 6256]\n",
      "decrypted: [91, 4, 91, 252, 100, 44, 61, 169, 51, 30, 81, 6, 83]\n",
      "decrypted message: 7211111932971141013212111111763\n"
     ]
    }
   ],
   "source": [
    "plaintext = char_to_int(\"How are you?\")\n",
    "xLen = 13\n",
    "print(f\"plaintext: {plaintext}\")\n",
    "\n",
    "encoded_values = encodeI2OSP(plaintext, xLen)\n",
    "print(f\"plaintext_encode: {encoded_values}\")\n",
    "\n",
    "ciphertext = [pow(char, e, n) for char in encoded_values]\n",
    "print(f\"ciphertext: {ciphertext}\")\n",
    "\n",
    "decrypted = [pow(char, d, n) for char in ciphertext]\n",
    "print(f\"decrypted: {decrypted}\")\n",
    "\n",
    "message = decodeOS2IP(decrypted)\n",
    "\n",
    "print(f\"decrypted message: {message}\")"
   ]
  }
 ],
 "metadata": {
  "kernelspec": {
   "display_name": "QuocKhanh",
   "language": "python",
   "name": "python3"
  },
  "language_info": {
   "codemirror_mode": {
    "name": "ipython",
    "version": 3
   },
   "file_extension": ".py",
   "mimetype": "text/x-python",
   "name": "python",
   "nbconvert_exporter": "python",
   "pygments_lexer": "ipython3",
   "version": "3.10.9"
  },
  "orig_nbformat": 4
 },
 "nbformat": 4,
 "nbformat_minor": 2
}
