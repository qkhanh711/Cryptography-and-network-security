{
 "cells": [
  {
   "cell_type": "code",
   "execution_count": 2,
   "metadata": {},
   "outputs": [],
   "source": [
    "import random\n",
    "\n",
    "class Diffie_Hellman():\n",
    "    def __init__(self, p, alpha, Xa, Xb, option = \"random\"):\n",
    "        self.p = p\n",
    "        self.alpha = alpha\n",
    "        if option == \"random\":\n",
    "            self.Xa = random.randint(1, p)\n",
    "            self.Xb = random.randint(1, p)\n",
    "        else:\n",
    "            self.Xa = Xa\n",
    "            self.Xb = Xb\n",
    "        self.Ya = self.alpha ** self.Xa % self.p\n",
    "        self.Yb = self.alpha ** self.Xb % self.p\n",
    "        self.Ka = self.Yb ** self.Xa % self.p\n",
    "        self.Kb = self.Ya ** self.Xb % self.p\n",
    "\n",
    "    def is_prime(self, n):\n",
    "        if n == 2:\n",
    "            return True\n",
    "        if n % 2 == 0:\n",
    "            return False\n",
    "        for i in range(3, int(n ** 0.5)+1, 2):\n",
    "            if n % i == 0:\n",
    "                return False\n",
    "        return True\n",
    "        \n",
    "    def checkGenerator(self, alpha, p):\n",
    "        if alpha > 1:\n",
    "            for i in range(1, p):\n",
    "                if (alpha ** i) % p == 1:\n",
    "                    if pow(alpha, (p-1)/i) == 1:\n",
    "                        return False\n",
    "            return True\n",
    "        else:\n",
    "            return False\n",
    "\n",
    "    def main(self):\n",
    "        if self.Xa > self.p or self.Xb > self.p:\n",
    "            print(\"Xa or Xb is bigger than p \\n Choose value less than p\")\n",
    "            return\n",
    "        print(\"q: \", self.)\n",
    "        if self.is_prime(self.p) == False:\n",
    "            print(\"p is not a prime number\")\n",
    "            return\n",
    "        print(\"alpha: \", self.alpha)\n",
    "        if self.checkGenerator(self.alpha, self.p) == False:\n",
    "            print(\"alpha is not a primitive root of Zq*\")\n",
    "            return\n",
    "        print(\"Xa: \", self.Xa)\n",
    "        print(\"Xb: \", self.Xb)\n",
    "        print(\"Ya: \", self.Ya)\n",
    "        print(\"Yb: \", self.Yb)\n",
    "        print(\"Ka: \", self.Ka)\n",
    "        print(\"Kb: \", self.Kb)\n",
    "    \n"
   ]
  },
  {
   "cell_type": "code",
   "execution_count": 4,
   "metadata": {},
   "outputs": [
    {
     "ename": "AttributeError",
     "evalue": "'Diffie_Hellman' object has no attribute 'main'",
     "output_type": "error",
     "traceback": [
      "\u001b[0;31m---------------------------------------------------------------------------\u001b[0m",
      "\u001b[0;31mAttributeError\u001b[0m                            Traceback (most recent call last)",
      "\u001b[1;32m/home/nyanmaruk/Uni/Cryptography-and-network-security/Asymmetric/Diffie-Hellman/DH.ipynb Cell 2\u001b[0m line \u001b[0;36m2\n\u001b[1;32m      <a href='vscode-notebook-cell:/home/nyanmaruk/Uni/Cryptography-and-network-security/Asymmetric/Diffie-Hellman/DH.ipynb#W1sZmlsZQ%3D%3D?line=0'>1</a>\u001b[0m \u001b[39mfrom\u001b[39;00m \u001b[39mDiffie_Hellman\u001b[39;00m \u001b[39mimport\u001b[39;00m Diffie_Hellman\n\u001b[0;32m----> <a href='vscode-notebook-cell:/home/nyanmaruk/Uni/Cryptography-and-network-security/Asymmetric/Diffie-Hellman/DH.ipynb#W1sZmlsZQ%3D%3D?line=1'>2</a>\u001b[0m Diffie_Hellman(\u001b[39m353\u001b[39;49m,\u001b[39m3\u001b[39;49m, \u001b[39m97\u001b[39;49m, \u001b[39m233\u001b[39;49m, option\u001b[39m=\u001b[39;49m\u001b[39m\"\u001b[39;49m\u001b[39mrandom\u001b[39;49m\u001b[39m\"\u001b[39;49m)\u001b[39m.\u001b[39;49mmain()\n",
      "\u001b[0;31mAttributeError\u001b[0m: 'Diffie_Hellman' object has no attribute 'main'"
     ]
    }
   ],
   "source": [
    "from Diffie_Hellman import Diffie_Hellman\n",
    "Diffie_Hellman(353,3, 97, 233, option=\"random\").main()"
   ]
  },
  {
   "cell_type": "code",
   "execution_count": null,
   "metadata": {},
   "outputs": [],
   "source": []
  }
 ],
 "metadata": {
  "kernelspec": {
   "display_name": "base",
   "language": "python",
   "name": "python3"
  },
  "language_info": {
   "codemirror_mode": {
    "name": "ipython",
    "version": 3
   },
   "file_extension": ".py",
   "mimetype": "text/x-python",
   "name": "python",
   "nbconvert_exporter": "python",
   "pygments_lexer": "ipython3",
   "version": "3.10.9"
  },
  "orig_nbformat": 4
 },
 "nbformat": 4,
 "nbformat_minor": 2
}
