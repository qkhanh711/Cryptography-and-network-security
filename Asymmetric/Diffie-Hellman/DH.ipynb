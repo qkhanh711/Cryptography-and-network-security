{
 "cells": [
  {
   "cell_type": "code",
   "execution_count": 1,
   "metadata": {},
   "outputs": [],
   "source": [
    "import random\n",
    "\n",
    "class Diffie_Hellman():\n",
    "    def __init__(self, p, alpha, Xa, Xb, option = \"random\"):\n",
    "        self.p = p\n",
    "        self.alpha = alpha\n",
    "        if option == \"random\":\n",
    "            self.Xa = random.randint(1, p)\n",
    "            self.Xb = random.randint(1, p)\n",
    "        else:\n",
    "            self.Xa = Xa\n",
    "            self.Xb = Xb\n",
    "        self.Ya = self.alpha ** self.Xa % self.p\n",
    "        self.Yb = self.alpha ** self.Xb % self.p\n",
    "        self.Ka = self.Yb ** self.Xa % self.p\n",
    "        self.Kb = self.Ya ** self.Xb % self.p\n",
    "\n",
    "    def is_prime(self, n):\n",
    "        if n == 2:\n",
    "            return True\n",
    "        if n % 2 == 0:\n",
    "            return False\n",
    "        for i in range(3, int(n ** 0.5)+1, 2):\n",
    "            if n % i == 0:\n",
    "                return False\n",
    "        return True\n",
    "        \n",
    "    def checkGenerator(self, alpha, p):\n",
    "        if alpha > 1:\n",
    "            for i in range(1, p):\n",
    "                if (alpha ** i) % p == 1:\n",
    "                    if pow(alpha, (p-1)/i) == 1:\n",
    "                        return False\n",
    "            return True\n",
    "        else:\n",
    "            return False\n",
    "\n",
    "    def main(self):\n",
    "        if self.Xa > self.p or self.Xb > self.p:\n",
    "            print(\"Xa or Xb is bigger than p \\n Choose value less than p\")\n",
    "            return\n",
    "        print(\"q: \", self.p)\n",
    "        if self.is_prime(self.p) == False:\n",
    "            print(\"p is not a prime number\")\n",
    "            return\n",
    "        print(\"alpha: \", self.alpha)\n",
    "        if self.checkGenerator(self.alpha, self.p) == False:\n",
    "            print(\"alpha is not a primitive root of Zq*\")\n",
    "            return\n",
    "        print(\"Xa: \", self.Xa)\n",
    "        print(\"Xb: \", self.Xb)\n",
    "        print(\"Ya: \", self.Ya)\n",
    "        print(\"Yb: \", self.Yb)\n",
    "        print(\"Ka: \", self.Ka)\n",
    "        print(\"Kb: \", self.Kb)\n",
    "    \n"
   ]
  },
  {
   "cell_type": "code",
   "execution_count": 2,
   "metadata": {},
   "outputs": [
    {
     "name": "stdout",
     "output_type": "stream",
     "text": [
      "q:  353\n",
      "alpha:  3\n",
      "Xa:  97\n",
      "Xb:  233\n",
      "Ya:  40\n",
      "Yb:  248\n",
      "Ka:  160\n",
      "Kb:  160\n"
     ]
    }
   ],
   "source": [
    "Diffie_Hellman(353,3, 97, 233, option=\"int\").main()"
   ]
  }
 ],
 "metadata": {
  "kernelspec": {
   "display_name": "base",
   "language": "python",
   "name": "python3"
  },
  "language_info": {
   "codemirror_mode": {
    "name": "ipython",
    "version": 3
   },
   "file_extension": ".py",
   "mimetype": "text/x-python",
   "name": "python",
   "nbconvert_exporter": "python",
   "pygments_lexer": "ipython3",
   "version": "3.10.9"
  },
  "orig_nbformat": 4
 },
 "nbformat": 4,
 "nbformat_minor": 2
}
