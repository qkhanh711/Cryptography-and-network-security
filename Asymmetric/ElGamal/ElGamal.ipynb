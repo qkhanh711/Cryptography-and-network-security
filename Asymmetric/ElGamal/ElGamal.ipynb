{
 "cells": [
  {
   "cell_type": "code",
   "execution_count": 4,
   "metadata": {},
   "outputs": [
    {
     "data": {
      "text/plain": [
       "11"
      ]
     },
     "execution_count": 4,
     "metadata": {},
     "output_type": "execute_result"
    }
   ],
   "source": [
    "def extended_gcd(a, b):\n",
    "    if not b:\n",
    "        return 1, 0\n",
    "\n",
    "    u, v = extended_gcd(b, a % b)\n",
    "    return v, u - v * (a // b)\n",
    "\n",
    "extended_gcd(7, 19)[0] % 19"
   ]
  },
  {
   "cell_type": "code",
   "execution_count": 3,
   "metadata": {},
   "outputs": [],
   "source": [
    "import random\n",
    "\n",
    "class ElGamal():\n",
    "    def __init__(self, Plaintext, Key, p, alpha, Xa, Xb, option=\"random\"):\n",
    "        self.p = p\n",
    "        self.alpha = alpha \n",
    "        self.option = option\n",
    "        if self.option == \"random\":\n",
    "            self.Xa = random.randint(1, p)\n",
    "            self.Xb = random.randint(1, p)\n",
    "        else:\n",
    "            self.Xa = Xa\n",
    "            self.Xb = Xb\n",
    "        self.Ya = pow(self.alpha, self.Xa) % self.p\n",
    "        self.Yb = pow(self.alpha, self.Xb) % self.p\n",
    "        self.Key = Key\n",
    "        self.P = Plaintext\n",
    "    \n",
    "    def getKey(self):\n",
    "        return {\"KApu\": (self.alpha, self.p, self.Ya), \n",
    "                \"KBpu\": (self.alpha, self.p, self.Yb), \n",
    "                \"KApr\": (self.Xa, self.p, self.Ya), \n",
    "                \"KBpr\": (self.Xb, self.p, self.Yb)}\n",
    "    \n",
    "    def is_prime(self, n):\n",
    "        if n == 2:\n",
    "            return True\n",
    "        if n % 2 == 0:\n",
    "            return False\n",
    "        for i in range(3, int(n ** 0.5)+1, 2):\n",
    "            if n % i == 0:\n",
    "                return False\n",
    "        return True\n",
    "        \n",
    "    def checkGenerator(self, alpha, p):\n",
    "        if alpha > 1:\n",
    "            for i in range(1, p):\n",
    "                if (alpha ** i) % p == 1:\n",
    "                    if pow(alpha, (p-1)/i) == 1:\n",
    "                        return False\n",
    "            return True\n",
    "        else:\n",
    "            return False\n",
    "        \n",
    "    def encrypt(self):\n",
    "        if self.P >= self.p:\n",
    "            print(\"Message is bigger than p \\n Choose value less than p\")\n",
    "            return\n",
    "\n",
    "        One_time_K = pow(self.Ya, self.Key, self.p)\n",
    "        C1 = pow(self.alpha, self.Key, self.p)\n",
    "        C2 = pow(One_time_K * self.P, 1, self.p)\n",
    "        return C1,C2\n",
    "\n",
    "    def decrypt(self, C1, C2):\n",
    "        Key = pow(C1, self.Xa, self.p)\n",
    "        # print(Key, C2, Key, self.p)\n",
    "        return extended_gcd(Key, self.p)[0] * C2 % self.p\n",
    "        # return pow((C2 * C1), 1, self.p)\n",
    "        \n",
    "    def main(self):\n",
    "        if self.Xa > self.p or self.Xb > self.p:\n",
    "            print(\"Xa or Xb is bigger than p \\n Choose value less than p\")\n",
    "            return\n",
    "        if self.option == \"random\":\n",
    "            self.Key = random.randint(1, self.p)\n",
    "        \n",
    "        C1, C2 = self.encrypt()\n",
    "        print(\"Message: \", self.P)\n",
    "        print(\"Public Key of A: \", self.getKey()[\"KApu\"])\n",
    "        print(\"Public Key of B: \", self.getKey()[\"KBpu\"])\n",
    "        print(\"Private Key of A: \", self.getKey()[\"KApr\"])\n",
    "        print(\"Private Key of B: \", self.getKey()[\"KBpr\"])\n",
    "        print(\"Key: \", self.Key)\n",
    "        print(\"C1: \", C1)\n",
    "        print(\"C2: \", C2)\n",
    "        print(\"Decrypted Message: \", self.decrypt(C1, C2))"
   ]
  },
  {
   "cell_type": "code",
   "execution_count": 61,
   "metadata": {},
   "outputs": [
    {
     "name": "stdout",
     "output_type": "stream",
     "text": [
      "Message:  17\n",
      "Public Key of A:  (10, 19, 3)\n",
      "Public Key of B:  (10, 19, 6)\n",
      "Private Key of A:  (5, 19, 3)\n",
      "Private Key of B:  (4, 19, 6)\n",
      "Key:  6\n",
      "C1:  11\n",
      "C2:  5\n",
      "Decrypted Message:  17\n"
     ]
    }
   ],
   "source": [
    "ElGamal(Plaintext=17, Key=6, p=19, alpha=10, Xa=5, Xb=4, option=\"int\").main()"
   ]
  }
 ],
 "metadata": {
  "kernelspec": {
   "display_name": "base",
   "language": "python",
   "name": "python3"
  },
  "language_info": {
   "codemirror_mode": {
    "name": "ipython",
    "version": 3
   },
   "file_extension": ".py",
   "mimetype": "text/x-python",
   "name": "python",
   "nbconvert_exporter": "python",
   "pygments_lexer": "ipython3",
   "version": "3.10.9"
  },
  "orig_nbformat": 4
 },
 "nbformat": 4,
 "nbformat_minor": 2
}
