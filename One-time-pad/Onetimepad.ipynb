{
 "cells": [
  {
   "cell_type": "code",
   "execution_count": 29,
   "metadata": {},
   "outputs": [
    {
     "name": "stdout",
     "output_type": "stream",
     "text": [
      "Plaintext:  b'Do ban pha duoc ma nay'\n",
      "Ciphertext:  2ed0d82510cdcd2d46e4cb4a3ee5752a0fdbcbdca00f\n",
      "Decrypted Text:  b'Do ban pha duoc ma nay'\n"
     ]
    }
   ],
   "source": [
    "import os\n",
    "def generate_one_time_pad(length):\n",
    "    return bytes([os.urandom(1)[0] for _ in range(length)])\n",
    "\n",
    "def one_time_pad_encrypt(plaintext, key):\n",
    "    if len(plaintext) != len(key):\n",
    "        raise ValueError(\"Plaintext and key must be the same length\")\n",
    "    ciphertext = bytes([p ^ k for p, k in zip(plaintext, key)])\n",
    "    return ciphertext\n",
    "\n",
    "def one_time_pad_decrypt(ciphertext, key):\n",
    "    if len(ciphertext) != len(key):\n",
    "        raise ValueError(\"Ciphertext and key must be the same length\")\n",
    "    plaintext = bytes([c ^ k for c, k in zip(ciphertext, key)])\n",
    "    return plaintext\n",
    "\n",
    "# Example usage:\n",
    "plaintext = b\"Do ban pha duoc ma nay\"  \n",
    "key = generate_one_time_pad(len(plaintext))  \n",
    "ciphertext = one_time_pad_encrypt(plaintext, key) \n",
    "decrypted_text = one_time_pad_decrypt(ciphertext, key)  \n",
    "\n",
    "print(\"Plaintext: \", plaintext)\n",
    "print(\"Ciphertext: \", ciphertext.hex()) \n",
    "print(\"Decrypted Text: \", decrypted_text)\n"
   ]
  }
 ],
 "metadata": {
  "kernelspec": {
   "display_name": "base",
   "language": "python",
   "name": "python3"
  },
  "language_info": {
   "codemirror_mode": {
    "name": "ipython",
    "version": 3
   },
   "file_extension": ".py",
   "mimetype": "text/x-python",
   "name": "python",
   "nbconvert_exporter": "python",
   "pygments_lexer": "ipython3",
   "version": "3.10.9"
  },
  "orig_nbformat": 4
 },
 "nbformat": 4,
 "nbformat_minor": 2
}
