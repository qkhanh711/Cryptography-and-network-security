{
 "cells": [
  {
   "cell_type": "code",
   "execution_count": 1,
   "metadata": {},
   "outputs": [
    {
     "name": "stdout",
     "output_type": "stream",
     "text": [
      "Plain Text:  02468ACEECA86420\n",
      "Key       :  0F1571C947D9E859\n",
      "16 16\n",
      "Encryption\n",
      "After initial permutation 5A005A003CF03C0F\n",
      "Round  1   3CF03C0F   BAD22845   7833C320DA70\n",
      "Round  2   BAD22845   99E9B723   2B1A74CA48D8\n",
      "Round  3   99E9B723   0BAE3B9E   8C78D881D31D\n",
      "Round  4   0BAE3B9E   42415649   1667789316A0\n",
      "Round  5   42415649   18B3FA41   CE5D01D80B25\n",
      "Round  6   18B3FA41   9616FE23   4BAB4D126A9C\n",
      "Round  7   9616FE23   67117CF2   09F48B713191\n",
      "Round  8   67117CF2   C11BFC09   710DEAA3202B\n",
      "Round  9   C11BFC09   887FBC6C   129AB83347C3\n",
      "Round  10   887FBC6C   600F7E8B   9C38661E8103\n",
      "Round  11   600F7E8B   F596506E   A26E4CC66544\n",
      "Round  12   F596506E   738538B8   48772468A3C8\n",
      "Round  13   738538B8   C6A62C4E   C09D79F0D40B\n",
      "Round  14   C6A62C4E   56B0BD75   C5E2634E162A\n",
      "Round  15   56B0BD75   75E8FD8F   A3DF829C7968\n",
      "Round  16   25896490   75E8FD8F   A6120B4D4C25\n",
      "Cipher Text :  DA02CE3A89ECAC3B\n",
      "Decryption\n",
      "After initial permutation 2589649075E8FD8F\n",
      "Round  1   75E8FD8F   56B0BD75   A6120B4D4C25\n",
      "Round  2   56B0BD75   C6A62C4E   A3DF829C7968\n",
      "Round  3   C6A62C4E   738538B8   C5E2634E162A\n",
      "Round  4   738538B8   F596506E   C09D79F0D40B\n",
      "Round  5   F596506E   600F7E8B   48772468A3C8\n",
      "Round  6   600F7E8B   887FBC6C   A26E4CC66544\n",
      "Round  7   887FBC6C   C11BFC09   9C38661E8103\n",
      "Round  8   C11BFC09   67117CF2   129AB83347C3\n",
      "Round  9   67117CF2   9616FE23   710DEAA3202B\n",
      "Round  10   9616FE23   18B3FA41   09F48B713191\n",
      "Round  11   18B3FA41   42415649   4BAB4D126A9C\n",
      "Round  12   42415649   0BAE3B9E   CE5D01D80B25\n",
      "Round  13   0BAE3B9E   99E9B723   1667789316A0\n",
      "Round  14   99E9B723   BAD22845   8C78D881D31D\n",
      "Round  15   BAD22845   3CF03C0F   2B1A74CA48D8\n",
      "Round  16   5A005A00   3CF03C0F   7833C320DA70\n",
      "Plain Text :  02468ACEECA86420\n"
     ]
    }
   ],
   "source": [
    "from utils import *\n",
    "\n",
    "\n",
    "def encrypt(pt, rkb, rk):\n",
    "\tpt = hex2bin(pt)\n",
    "\n",
    "\tpt = permute(pt, initial_perm, 64)\n",
    "\tprint(\"After initial permutation\", bin2hex(pt))\n",
    "\n",
    "\t# Splitting\n",
    "\tleft = pt[0:32]\n",
    "\tright = pt[32:64]\n",
    "\tfor i in range(0, 16):\n",
    "\t\tright_expanded = permute(right, exp_d, 48)\n",
    "\n",
    "\t\txor_x = xor(right_expanded, rkb[i])\n",
    "\n",
    "\t\tsbox_str = \"\"\n",
    "\t\tfor j in range(0, 8):\n",
    "\t\t\trow = bin2dec(int(xor_x[j * 6] + xor_x[j * 6 + 5]))\n",
    "\t\t\tcol = bin2dec(\n",
    "\t\t\t\tint(xor_x[j * 6 + 1] + xor_x[j * 6 + 2] + xor_x[j * 6 + 3] + xor_x[j * 6 + 4]))\n",
    "\t\t\tval = sbox[j][row][col]\n",
    "\t\t\tsbox_str = sbox_str + dec2bin(val)\n",
    "\n",
    "\t\tsbox_str = permute(sbox_str, per, 32)\n",
    "\n",
    "\t\tresult = xor(left, sbox_str)\n",
    "\t\tleft = result\n",
    "\n",
    "\t\tif(i != 15):\n",
    "\t\t\tleft, right = right, left\n",
    "\t\tprint(\"Round \", i + 1, \" \", bin2hex(left),\n",
    "\t\t\t\" \", bin2hex(right), \" \", rk[i])\n",
    "\n",
    "\tcombine = left + right\n",
    "\n",
    "\tcipher_text = permute(combine, final_perm, 64)\n",
    "\treturn cipher_text\n",
    "\n",
    "if __name__ == \"__main__\":\n",
    "\tpt = \"02468ACEECA86420\"\n",
    "\tkey = \"0F1571C947D9E859\"\n",
    "\n",
    "\tprint(\"Plain Text: \", pt)\n",
    "\tprint(\"Key       : \", key)\n",
    "\n",
    "\trkb, rk = Key_chedule(key)\n",
    "\tprint(\"Encryption\")\n",
    "\tcipher_text = bin2hex(encrypt(pt, rkb, rk))\n",
    "\tprint(\"Cipher Text : \", cipher_text)\n",
    "\n",
    "\tprint(\"Decryption\")\n",
    "\trkb_rev = rkb[::-1]\n",
    "\trk_rev = rk[::-1]\n",
    "\ttext = bin2hex(encrypt(cipher_text, rkb_rev, rk_rev))\n",
    "\tprint(\"Plain Text : \", text)\n"
   ]
  },
  {
   "cell_type": "markdown",
   "metadata": {},
   "source": [
    "# <h2 style=\"text-align:center\">Data Encryption Standard </h2>"
   ]
  },
  {
   "cell_type": "code",
   "execution_count": 2,
   "metadata": {},
   "outputs": [],
   "source": [
    "def shift_left(k, nth_shifts):\n",
    "\ts = \"\"\n",
    "\tfor i in range(nth_shifts):\n",
    "\t\tfor j in range(1, len(k)):\n",
    "\t\t\ts = s + k[j]\n",
    "\t\ts = s + k[0]\n",
    "\t\tk = s\n",
    "\t\ts = \"\"\n",
    "\treturn k\n",
    "\n",
    "sboxFun1 = [[14, 4, 13, 1, 2, 15, 11, 8, 3, 10, 6, 12, 5, 9, 0, 7],\n",
    "            [0, 15, 7, 4, 14, 2, 13, 1, 10, 6, 12, 11, 9, 5, 3, 8],\n",
    "            [4, 1, 14, 8, 13, 6, 2, 11, 15, 12, 9, 7, 3, 10, 5, 0],\n",
    "            [15, 12, 8, 2, 4, 9, 1, 7, 5, 11, 3, 14, 10, 0, 6, 13]]\n",
    "\n"
   ]
  },
  {
   "cell_type": "markdown",
   "metadata": {},
   "source": [
    "# <p style=\"text-align:center\">Author: Nguyen Quoc Khanh </p>"
   ]
  }
 ],
 "metadata": {
  "kernelspec": {
   "display_name": "base",
   "language": "python",
   "name": "python3"
  },
  "language_info": {
   "codemirror_mode": {
    "name": "ipython",
    "version": 3
   },
   "file_extension": ".py",
   "mimetype": "text/x-python",
   "name": "python",
   "nbconvert_exporter": "python",
   "pygments_lexer": "ipython3",
   "version": "3.10.9"
  },
  "orig_nbformat": 4
 },
 "nbformat": 4,
 "nbformat_minor": 2
}
