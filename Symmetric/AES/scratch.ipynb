{
 "cells": [
  {
   "cell_type": "markdown",
   "metadata": {},
   "source": [
    "# <h1 style=\"color:red; text-align:center\">San pham nay la cua Nguyen Quoc Khanh<h1>"
   ]
  },
  {
   "cell_type": "code",
   "execution_count": 23,
   "metadata": {
    "ExecuteTime": {
     "end_time": "2023-09-16T08:01:48.189563450Z",
     "start_time": "2023-09-16T08:01:47.973910371Z"
    }
   },
   "outputs": [],
   "source": [
    "from AES import ENCRYPT, DECRYPT\n",
    "from utils import *\n",
    "from config import *"
   ]
  },
  {
   "cell_type": "code",
   "execution_count": 24,
   "metadata": {},
   "outputs": [],
   "source": [
    "# sbox"
   ]
  },
  {
   "cell_type": "code",
   "execution_count": 25,
   "metadata": {
    "ExecuteTime": {
     "end_time": "2023-09-16T08:01:48.332044686Z",
     "start_time": "2023-09-16T08:01:47.983012050Z"
    }
   },
   "outputs": [],
   "source": [
    "# print(sbox)\n",
    "# for row in range(16):\n",
    "#     for col in range(16):\n",
    "#         print(sbox[row * 4 + col], end=' ')\n",
    "#     print()\n",
    "# print()"
   ]
  },
  {
   "cell_type": "markdown",
   "metadata": {},
   "source": [
    "## Char to hex"
   ]
  },
  {
   "cell_type": "code",
   "execution_count": 26,
   "metadata": {
    "ExecuteTime": {
     "end_time": "2023-09-16T08:01:48.332622986Z",
     "start_time": "2023-09-16T08:01:48.028606761Z"
    }
   },
   "outputs": [
    {
     "name": "stdout",
     "output_type": "stream",
     "text": [
      "Hex State ['01', '89', 'fe', '76', '23', 'ab', 'dc', '54', '45', 'cd', 'ba', '32', '67', 'ef', '98', '10']\n",
      "Int Values [1, 137, 254, 118, 35, 171, 220, 84, 69, 205, 186, 50, 103, 239, 152, 16]\n"
     ]
    }
   ],
   "source": [
    "plaintext = \"0123456789abcdeffedcba9876543210\"\n",
    "\n",
    "hex_state = char_to_hex(plaintext, option=\"char\")\n",
    "print(\"Hex State\", hex_state)\n",
    "\n",
    "int_state = char_to_hex(plaintext, option=\"int value\")\n",
    "print(\"Int Values\", int_state)"
   ]
  },
  {
   "cell_type": "markdown",
   "metadata": {},
   "source": [
    "## Hex to char"
   ]
  },
  {
   "cell_type": "code",
   "execution_count": 27,
   "metadata": {
    "ExecuteTime": {
     "end_time": "2023-09-16T08:01:48.334580901Z",
     "start_time": "2023-09-16T08:01:48.031324712Z"
    }
   },
   "outputs": [
    {
     "name": "stdout",
     "output_type": "stream",
     "text": [
      "Character string: 0123456789abcdeffedcba9876543210\n"
     ]
    }
   ],
   "source": [
    "char_result = hex_to_char(hex_state)\n",
    "print(\"Character string:\", char_result)\n"
   ]
  },
  {
   "cell_type": "code",
   "execution_count": 28,
   "metadata": {
    "ExecuteTime": {
     "end_time": "2023-09-16T08:01:48.335111037Z",
     "start_time": "2023-09-16T08:01:48.031972356Z"
    }
   },
   "outputs": [
    {
     "name": "stdout",
     "output_type": "stream",
     "text": [
      "01 89 fe 76 \n",
      "23 ab dc 54 \n",
      "45 cd ba 32 \n",
      "67 ef 98 10 \n",
      "\n"
     ]
    }
   ],
   "source": [
    "for row in range(4):\n",
    "    for col in range(4):\n",
    "        print(hex_state[row * 4 + col], end=' ')\n",
    "    print()\n",
    "print()"
   ]
  },
  {
   "cell_type": "markdown",
   "metadata": {},
   "source": [
    "## Subbytes"
   ]
  },
  {
   "cell_type": "code",
   "execution_count": 29,
   "metadata": {
    "ExecuteTime": {
     "end_time": "2023-09-16T08:01:48.335659342Z",
     "start_time": "2023-09-16T08:01:48.032398532Z"
    }
   },
   "outputs": [
    {
     "name": "stdout",
     "output_type": "stream",
     "text": [
      "[1, 137, 254, 118, 35, 171, 220, 84, 69, 205, 186, 50, 103, 239, 152, 16] \n",
      "['7c', 'a7', 'bb', '38', '26', '62', '86', '20', '6e', 'bd', 'f4', '23', '85', 'df', '46', 'ca']\n",
      "7c a7 bb 38\n",
      "26 62 86 20\n",
      "6e bd f4 23\n",
      "85 df 46 ca\n"
     ]
    }
   ],
   "source": [
    "print(int_state, end=' ')\n",
    "sub_state = substitute_bytes(int_state)\n",
    "print()\n",
    "print(sub_state, end = '')\n",
    "int_sub_state = [int(element, 16) for element in sub_state]\n",
    "print()\n",
    "visualize(int_sub_state)\n",
    "# print(len(sub_state))"
   ]
  },
  {
   "cell_type": "code",
   "execution_count": 30,
   "metadata": {
    "ExecuteTime": {
     "end_time": "2023-09-16T08:01:48.336160899Z",
     "start_time": "2023-09-16T08:01:48.033953532Z"
    }
   },
   "outputs": [
    {
     "name": "stdout",
     "output_type": "stream",
     "text": [
      "[1, 137, 254, 118, 35, 171, 220, 84, 69, 205, 186, 50, 103, 239, 152, 16] ['01', '89', 'fe', '76', '23', 'ab', 'dc', '54', '45', 'cd', 'ba', '32', '67', 'ef', '98', '10']\n",
      "01 89 fe 76\n",
      "23 ab dc 54\n",
      "45 cd ba 32\n",
      "67 ef 98 10\n"
     ]
    }
   ],
   "source": [
    "print(int_state, end=' ')\n",
    "sub_state = substitute_bytes(int_sub_state, crypt= \"decrypt\")\n",
    "print(sub_state, end = '')\n",
    "int_sub_state = [int(element, 16) for element in sub_state]\n",
    "print()\n",
    "visualize(int_sub_state)"
   ]
  },
  {
   "cell_type": "code",
   "execution_count": 31,
   "metadata": {},
   "outputs": [],
   "source": [
    "sbox_test = [\n",
    "         #0     1     2     3     4     5     6     7     8     9     A     B     C     D     E     F \n",
    "        '63', '7c', '77', '7b', 'f2', '6b', '6f', 'c5', '30', '01', '67', '2b', 'fe', 'd7', 'ab', '76', #0 \n",
    "        'ca', '82', 'c9', '7d', 'fa', '59', '47', 'f0', 'ad', 'd4', 'a2', 'af', '9c', 'a4', '72', 'c0', #1 \n",
    "        'b7', 'fd', '93', '26', '36', '3f', 'f7', 'cc', '34', 'a5', 'e5', 'f1', '71', 'd8', '31', '15', #2 \n",
    "        '04', 'c7', '23', 'c3', '18', '96', '05', '9a', '07', '12', '80', 'e2', 'eb', '27', 'b2', '75', #3\n",
    "        '09', '83', '2c', '1a', '1b', '6e', '5a', 'a0', '52', '3b', 'd6', 'b3', '29', 'e3', '2f', '84', #4 \n",
    "        '53', 'd1', '00', 'ed', '20', 'fc', 'b1', '5b', '6a', 'cb', 'be', '39', '4a', '4c', '58', 'cf', #5 \n",
    "        'd0', 'ef', 'aa', 'fb', '43', '4d', '33', '85', '45', 'f9', '02', '7f', '50', '3c', '9f', 'a8', #6      \n",
    "        '51', 'a3', '40', '8f', '92', '9d', '38', 'f5', 'bc', 'b6', 'da', '21', '10', 'ff', 'f3', 'd2', #7      \n",
    "        'cd', '0c', '13', 'ec', '5f', '97', '44', '17', 'c4', 'a7', '7e', '3d', '64', '5d', '19', '73', #8      \n",
    "        '60', '81', '4f', 'dc', '22', '2a', '90', '88', '46', 'ee', 'b8', '14', 'de', '5e', '0b', 'db', #9      \n",
    "        'e0', '32', '3a', '0a', '49', '06', '24', '5c', 'c2', 'd3', 'ac', '62', '91', '95', 'e4', '79', #A      \n",
    "        'e7', 'c8', '37', '6d', '8d', 'd5', '4e', 'a9', '6c', '56', 'f4', 'ea', '65', '7a', 'ae', '08', #B      \n",
    "        'ba', '78', '25', '2e', '1c', 'a6', 'b4', 'c6', 'e8', 'dd', '74', '1f', '4b', 'bd', '8b', '8a', #C \n",
    "        '70', '3e', 'b5', '66', '48', '03', 'f6', '0e', '61', '35', '57', 'b9', '86', 'c1', '1d', '9e', #D \n",
    "        'e1', 'f8', '98', '11', '69', 'd9', '8e', '94', '9b', '1e', '87', 'e9', 'ce', '55', '28', 'df', #E \n",
    "        '8c', 'a1', '89', '0d', 'bf', 'e6', '42', '68', '41', '99', '2d', '0f', 'b0', '54', 'bb', '16'  #F \n",
    "        ]\n"
   ]
  },
  {
   "cell_type": "code",
   "execution_count": 32,
   "metadata": {},
   "outputs": [],
   "source": [
    "def substitute_bytes_test(state):\n",
    "    new_state = []\n",
    "    for element in state:\n",
    "        new_state.append(sbox_test[int(element)]) \n",
    "    return new_state"
   ]
  },
  {
   "cell_type": "code",
   "execution_count": 33,
   "metadata": {},
   "outputs": [
    {
     "data": {
      "text/plain": [
       "[149]"
      ]
     },
     "execution_count": 33,
     "metadata": {},
     "output_type": "execute_result"
    }
   ],
   "source": [
    "# int_state = ['95']\n",
    "int_state_test = char_to_hex('95', option=\"int value\", key=True)\n",
    "int_state_test"
   ]
  },
  {
   "cell_type": "code",
   "execution_count": 34,
   "metadata": {},
   "outputs": [
    {
     "data": {
      "text/plain": [
       "['7c',\n",
       " 'a7',\n",
       " 'bb',\n",
       " '38',\n",
       " '26',\n",
       " '62',\n",
       " '86',\n",
       " '20',\n",
       " '6e',\n",
       " 'bd',\n",
       " 'f4',\n",
       " '23',\n",
       " '85',\n",
       " 'df',\n",
       " '46',\n",
       " 'ca']"
      ]
     },
     "execution_count": 34,
     "metadata": {},
     "output_type": "execute_result"
    }
   ],
   "source": [
    "sub_state_test = substitute_bytes_test(int_state)\n",
    "sub_state_test"
   ]
  },
  {
   "cell_type": "markdown",
   "metadata": {},
   "source": [
    "##  Shift Row"
   ]
  },
  {
   "cell_type": "code",
   "execution_count": 35,
   "metadata": {
    "ExecuteTime": {
     "end_time": "2023-09-16T08:01:48.336685713Z",
     "start_time": "2023-09-16T08:01:48.034482779Z"
    }
   },
   "outputs": [
    {
     "name": "stdout",
     "output_type": "stream",
     "text": [
      "01 89 fe 76\n",
      "ab dc 54 23\n",
      "ba 32 45 cd\n",
      "10 67 ef 98\n"
     ]
    }
   ],
   "source": [
    "shift_state = shift_rows(int_sub_state)\n",
    "visualize(shift_state)\n",
    "# print(len(shift_state))"
   ]
  },
  {
   "cell_type": "code",
   "execution_count": 36,
   "metadata": {
    "ExecuteTime": {
     "end_time": "2023-09-16T08:01:48.366085774Z",
     "start_time": "2023-09-16T08:01:48.034754737Z"
    }
   },
   "outputs": [
    {
     "name": "stdout",
     "output_type": "stream",
     "text": [
      "4b 68 61 6e\n",
      "64 65 70 68\n",
      "61 69 74 72\n",
      "74 6e 68 61\n"
     ]
    }
   ],
   "source": [
    "# TEST TRUE FUNCTION\n",
    "matrix = [\n",
    "    0x4b, 0x68, 0x61, 0x6e,\n",
    "    0x68, 0x64, 0x65, 0x70,\n",
    "    0x74, 0x72, 0x61, 0x69,\n",
    "    0x6e, 0x68, 0x61, 0x74\n",
    "]\n",
    "shift_rows(matrix)\n",
    "\n",
    "visualize(matrix)\n"
   ]
  },
  {
   "cell_type": "code",
   "execution_count": 37,
   "metadata": {
    "ExecuteTime": {
     "end_time": "2023-09-16T08:01:48.367039372Z",
     "start_time": "2023-09-16T08:01:48.041126458Z"
    }
   },
   "outputs": [
    {
     "name": "stdout",
     "output_type": "stream",
     "text": [
      "4b 68 61 6e\n",
      "68 64 65 70\n",
      "74 72 61 69\n",
      "6e 68 61 74\n"
     ]
    }
   ],
   "source": [
    "shift_rows(matrix, crypt=\"decrypt\")\n",
    "\n",
    "visualize(matrix)"
   ]
  },
  {
   "cell_type": "markdown",
   "metadata": {},
   "source": [
    "## Mix columns"
   ]
  },
  {
   "cell_type": "code",
   "execution_count": 38,
   "metadata": {
    "ExecuteTime": {
     "end_time": "2023-09-16T08:01:48.367568180Z",
     "start_time": "2023-09-16T08:01:48.083698976Z"
    }
   },
   "outputs": [
    {
     "name": "stdout",
     "output_type": "stream",
     "text": [
      "4e 23 b1 dc\n",
      "89 1b 76 e4\n",
      "f5 98 0a 67\n",
      "32 a0 cd 5f\n"
     ]
    }
   ],
   "source": [
    "mix_state = mixColumns(shift_state)\n",
    "\n",
    "visualize(mix_state)"
   ]
  },
  {
   "cell_type": "code",
   "execution_count": 39,
   "metadata": {
    "ExecuteTime": {
     "end_time": "2023-09-16T08:01:48.368054821Z",
     "start_time": "2023-09-16T08:01:48.084181821Z"
    }
   },
   "outputs": [
    {
     "name": "stdout",
     "output_type": "stream",
     "text": [
      "04 e0 48 28\n",
      "66 cb f8 06\n",
      "81 19 d3 26\n",
      "e5 9a 7a 4c\n",
      "\n",
      "d4 e0 b8 1e\n",
      "bf b4 41 27\n",
      "5d 52 11 98\n",
      "30 ae f1 e5\n"
     ]
    }
   ],
   "source": [
    "# TEST TRUE FUNCTION\n",
    "matrix = [\n",
    "    0xd4, 0xe0, 0xb8, 0x1e, \n",
    "    0xbf, 0xb4, 0x41, 0x27, \n",
    "    0x5d, 0x52, 0x11, 0x98, \n",
    "    0x30, 0xae, 0xf1, 0xe5\n",
    "]\n",
    "\n",
    "mixColumns(matrix)\n",
    "\n",
    "visualize(matrix)\n",
    "\n",
    "print()\n",
    "inv_mix_state = mixColumns(matrix, crypt=\"decrypt\")\n",
    "visualize(inv_mix_state)"
   ]
  },
  {
   "cell_type": "markdown",
   "metadata": {},
   "source": [
    "## Add round key"
   ]
  },
  {
   "cell_type": "code",
   "execution_count": 40,
   "metadata": {
    "ExecuteTime": {
     "end_time": "2023-09-16T08:01:48.368701675Z",
     "start_time": "2023-09-16T08:01:48.084654390Z"
    }
   },
   "outputs": [
    {
     "name": "stdout",
     "output_type": "stream",
     "text": [
      "16\n",
      "ee d9 4f cb\n",
      "01 4f 5a 55\n",
      "d6 3b 33 5e\n",
      "18 cc bb 5a\n"
     ]
    }
   ],
   "source": [
    "key = [\n",
    "    0xa0, 0x88, 0x23, 0x2a,\n",
    "    0xfa, 0x54, 0xa3, 0x6c,\n",
    "    0xfe, 0x2c, 0x39, 0x76,\n",
    "    0x17, 0xb1, 0x39, 0x05\n",
    "]\n",
    "\n",
    "added_key = add_round_key(mix_state, key)\n",
    "print(len(added_key))\n",
    "visualize(added_key)"
   ]
  },
  {
   "cell_type": "code",
   "execution_count": 41,
   "metadata": {
    "ExecuteTime": {
     "end_time": "2023-09-16T08:01:48.369243273Z",
     "start_time": "2023-09-16T08:01:48.084956494Z"
    }
   },
   "outputs": [
    {
     "name": "stdout",
     "output_type": "stream",
     "text": [
      "0e ce f2 d9\n",
      "36 72 6b 2b\n",
      "34 25 17 55\n",
      "ae b6 4e 88\n"
     ]
    }
   ],
   "source": [
    "# TEST TRUE FUNCTION\n",
    "state = [\n",
    "    0x01, 0x89, 0xfe, 0x76,\n",
    "    0x23, 0xab, 0xdc, 0x54,\n",
    "    0x45, 0xcd, 0xba, 0x32,\n",
    "    0x67, 0xef, 0x98, 0x10\n",
    "]\n",
    "\n",
    "key = [\n",
    "    0x0f, 0x15, 0x71, 0xc9,\n",
    "    0x47, 0xd9, 0xe8, 0x59,\n",
    "    0x0c, 0xb7, 0xad, 0xd6,\n",
    "    0xaf, 0x7f, 0x67, 0x98\n",
    "]\n",
    "\n",
    "add_round_key(state, key)\n",
    "\n",
    "visualize(state)"
   ]
  },
  {
   "cell_type": "markdown",
   "metadata": {},
   "source": [
    "## Key schedule"
   ]
  },
  {
   "cell_type": "code",
   "execution_count": 42,
   "metadata": {
    "ExecuteTime": {
     "end_time": "2023-09-16T08:01:48.369514821Z",
     "start_time": "2023-09-16T08:01:48.086236884Z"
    }
   },
   "outputs": [],
   "source": [
    "def convert_bstring_to_bin(bstring):\n",
    "  bin_str = \"\"\n",
    "  for char in bstring:\n",
    "    bin_str += (bin(ord(char))[2:] + ' ').zfill(9)\n",
    "  return bin_str\n"
   ]
  },
  {
   "cell_type": "code",
   "execution_count": 43,
   "metadata": {
    "ExecuteTime": {
     "end_time": "2023-09-16T08:01:48.370211616Z",
     "start_time": "2023-09-16T08:01:48.087469665Z"
    }
   },
   "outputs": [
    {
     "name": "stdout",
     "output_type": "stream",
     "text": [
      "[15, 126, 21, 22, 40, 174, 210, 166, 171, 247, 21, 136, 9, 207, 79, 60]\n",
      "Encrytion start with key length:  176 bits <=>  11 rounds\n",
      "\n",
      "Hex values:\n",
      "0f 28 ab 09 84 ac 07 0e d6 7a 7d 73 19 63 1e 6d cb a8 b6 db 5a f2 44 9f e3 11 55 ca c0 d1 84 4e 64 b5 31 7f bc 09 38 47 c0 c9 f1 b6 \n",
      "7e ae f7 cf fa 54 a3 6c c2 96 35 59 80 16 23 7a de c8 eb 91 4b 83 68 f9 12 91 f9 00 ce 5f a6 a6 6c 33 95 33 c9 fa 6f 5c aa 50 3f 63 \n",
      "15 d2 15 4f fe 2c 39 76 95 b9 80 f6 52 eb 6b 9d b0 5b 30 ad d3 88 b8 15 b6 3e 86 93 31 0f 89 1a b5 ba 33 29 a0 1a 29 00 3f 25 0c 0c \n",
      "16 a6 88 3c 17 b1 39 05 bc 0d 34 31 33 3e 0a 3b 0f 31 3b 00 b6 87 bc bc 6d ea 56 ea 19 f3 a5 4f 36 c5 60 2f e4 21 41 6e 44 65 24 4a \n",
      "\n",
      "Integer values:\n",
      "15 40 171 9 132 172 7 14 214 122 125 115 25 99 30 109 203 168 182 219 90 242 68 159 227 17 85 202 192 209 132 78 100 181 49 127 188 9 56 71 192 201 241 182 \n",
      "126 174 247 207 250 84 163 108 194 150 53 89 128 22 35 122 222 200 235 145 75 131 104 249 18 145 249 0 206 95 166 166 108 51 149 51 201 250 111 92 170 80 63 99 \n",
      "21 210 21 79 254 44 57 118 149 185 128 246 82 235 107 157 176 91 48 173 211 136 184 21 182 62 134 147 49 15 137 26 181 186 51 41 160 26 41 0 63 37 12 12 \n",
      "22 166 136 60 23 177 57 5 188 13 52 49 51 62 10 59 15 49 59 0 182 135 188 188 109 234 86 234 25 243 165 79 54 197 96 47 228 33 65 110 68 101 36 74 \n",
      "\n",
      "Bit values:\n",
      "00001111 00101000 10101011 00001001 01111110 10101110 11110111 11001111 00010101 11010010 00010101 01001111 00010110 10100110 10001000 00111100 \n"
     ]
    }
   ],
   "source": [
    "key = [\n",
    "    0x0f, 0x7e, 0x15, 0x16,\n",
    "    0x28, 0xae, 0xd2, 0xa6,\n",
    "    0xab, 0xf7, 0x15, 0x88,\n",
    "    0x09, 0xcf, 0x4f, 0x3c\n",
    "]\n",
    "print(key)\n",
    "expanded_key = expandKey(key, key_length=176)\n",
    "# print(len(expanded_key))\n",
    "# print(f\"Expanded key: {expanded_key}\")\n",
    "print()\n",
    "print(\"Hex values:\")\n",
    "for j in range(4):\n",
    "    for i in range(len(expanded_key) // 4):\n",
    "        print(f\"{expanded_key[i * 4 + j]:02x}\", end=\" \")\n",
    "    print()\n",
    "print()\n",
    "print(\"Integer values:\")\n",
    "for j in range(4):\n",
    "    for i in range(len(expanded_key) // 4):\n",
    "        print(f\"{expanded_key[i * 4 + j]}\", end=\" \")\n",
    "    print()\n",
    "print()\n",
    "print(\"Bit values:\")\n",
    "print(convert_bstring_to_bin(hex_to_char([chr(value) for value in expanded_key] )))\n"
   ]
  },
  {
   "cell_type": "code",
   "execution_count": 44,
   "metadata": {
    "ExecuteTime": {
     "end_time": "2023-09-16T08:01:48.375839750Z",
     "start_time": "2023-09-16T08:01:48.131947309Z"
    }
   },
   "outputs": [
    {
     "name": "stdout",
     "output_type": "stream",
     "text": [
      "Hex values:\n",
      "4a 24 65 44 6e 41 21 e4 2f 60 c5 36 4f a5 f3 \n",
      "0c 0c 25 3f 00 29 1a a0 29 33 ba b5 1a 89 0f \n",
      "63 3f 50 aa 5c 6f fa c9 33 95 33 6c a6 a6 5f \n",
      "b6 f1 c9 c0 47 38 09 bc 7f 31 b5 64 4e 84 d1 \n",
      "\n",
      "Integer values:\n",
      "74 36 101 68 110 65 33 228 47 96 197 54 79 165 243 \n",
      "12 12 37 63 0 41 26 160 41 51 186 181 26 137 15 \n",
      "99 63 80 170 92 111 250 201 51 149 51 108 166 166 95 \n",
      "182 241 201 192 71 56 9 188 127 49 181 100 78 132 209 \n",
      "\n"
     ]
    }
   ],
   "source": [
    "inv_expanded_key = expanded_key[::-1]\n",
    "print(\"Hex values:\")\n",
    "for j in range(4):\n",
    "    for i in range(15):\n",
    "        print(f\"{inv_expanded_key[i * 4 + j]:02x}\", end=\" \")\n",
    "    print()\n",
    "print()\n",
    "print(\"Integer values:\")\n",
    "for j in range(4):\n",
    "    for i in range(15):\n",
    "        print(f\"{inv_expanded_key[i * 4 + j]}\", end=\" \")\n",
    "    print()\n",
    "print()"
   ]
  },
  {
   "cell_type": "code",
   "execution_count": 45,
   "metadata": {
    "ExecuteTime": {
     "end_time": "2023-09-16T08:01:48.376507607Z",
     "start_time": "2023-09-16T08:01:48.132760485Z"
    }
   },
   "outputs": [],
   "source": [
    "# print(len(subkeys))\n",
    "# for i in range(len(subkeys)):\n",
    "#     for j in range(4):\n",
    "#         for k in range(4):\n",
    "#             print(f\"{subkeys[i][k * 4 + j]}\", end=\" \")\n",
    "#         print()\n",
    "#     print()"
   ]
  },
  {
   "cell_type": "code",
   "execution_count": 46,
   "metadata": {
    "ExecuteTime": {
     "end_time": "2023-09-16T08:01:48.377355143Z",
     "start_time": "2023-09-16T08:01:48.133101873Z"
    }
   },
   "outputs": [
    {
     "name": "stdout",
     "output_type": "stream",
     "text": [
      "[15, 21, 113, 201, 71, 217, 232, 89, 12, 183, 173, 214, 175, 127, 103, 152]  \n",
      "Encrytion start with key length:  176 bits <=>  11 rounds\n",
      "[15, 21, 113, 201, 71, 217, 232, 89, 12, 183, 173, 214, 175, 127, 103, 152, 220, 144, 55, 176, 155, 73, 223, 233, 151, 254, 114, 63, 56, 129, 21, 167, 210, 201, 107, 183, 73, 128, 180, 94, 222, 126, 198, 97, 230, 255, 211, 198, 192, 175, 223, 57, 137, 47, 107, 103, 87, 81, 173, 6, 177, 174, 126, 192, 44, 92, 101, 241, 165, 115, 14, 150, 242, 34, 163, 144, 67, 140, 221, 80, 88, 157, 54, 235, 253, 238, 56, 125, 15, 204, 155, 237, 76, 64, 70, 189, 113, 199, 76, 194, 140, 41, 116, 191, 131, 229, 239, 82, 207, 165, 169, 239, 55, 20, 147, 72, 187, 61, 231, 247, 56, 216, 8, 165, 247, 125, 161, 74, 72, 38, 69, 32, 243, 27, 162, 215, 203, 195, 170, 114, 60, 190, 11, 56, 253, 13, 66, 203, 14, 22, 224, 28, 197, 213, 74, 110, 249, 107, 65, 86, 180, 142, 243, 82, 186, 152, 19, 78, 127, 77, 89, 32, 134, 38, 24, 118]\n"
     ]
    }
   ],
   "source": [
    "cipherKey = char_to_hex(\"0f1571c947d9e8590cb7add6af7f6798\", option=\"int value\", key=True)\n",
    "# print(char_to_hex(\"0f1571c947d9e8590cb7add6af7f6798\", option=\"char\", key=True))\n",
    "print(cipherKey, ' ')\n",
    "expandedKey = expandKey(cipherKey, 176)\n",
    "print(expandedKey)\n",
    "# for i in range(11):\n",
    "#     for j in range(4):\n",
    "#         for k in range(4):\n",
    "#             print(f\"{expandedKey[i * 16 + k * 4 + j]:02x}\", end=\" \")\n",
    "#         print()\n",
    "#     print()"
   ]
  },
  {
   "cell_type": "markdown",
   "metadata": {},
   "source": [
    "# Encryptor + Decrytor"
   ]
  },
  {
   "cell_type": "code",
   "execution_count": 47,
   "metadata": {
    "ExecuteTime": {
     "end_time": "2023-09-16T08:01:48.380042308Z",
     "start_time": "2023-09-16T08:01:48.133457411Z"
    }
   },
   "outputs": [
    {
     "name": "stdout",
     "output_type": "stream",
     "text": [
      "Plain text : 0123456789abcdeffedcba9876543210\n",
      "Cipher key : 0f1571c947d9e8590cb7add6af7f6798\n",
      "-----------------------------\n",
      "Start of Round:\n",
      "01 89 fe 76\n",
      "23 ab dc 54\n",
      "45 cd ba 32\n",
      "67 ef 98 10\n",
      "Encrytion start with key length:  240 bits <=>  15 rounds\n",
      "                               Initial transformation: \n",
      "    After subtitute byte: None\n",
      "    After mixColumns byte: None\n",
      "    After shift rows byte: None\n",
      "    After add round key byte: \n",
      "0e ce f2 d9\n",
      "36 72 6b 2b\n",
      "34 25 17 55\n",
      "ae b6 4e 88\n",
      "                               Round 1\n",
      "    After subtitute byte\n",
      "ab 8b 89 35\n",
      "05 40 7f f1\n",
      "18 3f f0 fc\n",
      "e4 4e 2f c4\n",
      "    After shift rows byte\n",
      "ab 8b 89 35\n",
      "40 7f f1 05\n",
      "f0 fc 18 3f\n",
      "c4 e4 4e 2f\n",
      "    After mixColumns byte\n",
      "b9 94 57 75\n",
      "e4 8e 16 51\n",
      "47 20 9a 3f\n",
      "c5 d6 f5 3b\n",
      "    After add round key byte\n",
      "65 0f c0 4d\n",
      "74 c7 e8 d0\n",
      "70 ff e8 2a\n",
      "75 3f ca 9c\n",
      "                               Round 2\n",
      "    After subtitute byte\n",
      "4d 76 ba e3\n",
      "92 c6 9b 70\n",
      "51 16 9b e5\n",
      "9d 75 74 de\n",
      "    After shift rows byte\n",
      "4d 76 ba e3\n",
      "c6 9b 70 92\n",
      "9b e5 51 16\n",
      "de 9d 75 74\n",
      "    After mixColumns byte\n",
      "8e 22 db 12\n",
      "b2 f2 dc 92\n",
      "df 80 f7 c1\n",
      "2d c5 1e 52\n",
      "    After add round key byte\n",
      "5c 6b 05 f4\n",
      "7b 72 a2 6d\n",
      "b4 34 31 12\n",
      "9a 9b 7f 94\n",
      "                               Round 3\n",
      "    After subtitute byte\n",
      "4a 7f 6b bf\n",
      "21 40 3a 3c\n",
      "8d 18 c7 c9\n",
      "b8 14 d2 22\n",
      "    After shift rows byte\n",
      "4a 7f 6b bf\n",
      "40 3a 3c 21\n",
      "c7 c9 8d 18\n",
      "22 b8 14 d2\n",
      "    After mixColumns byte\n",
      "b1 c1 0b cc\n",
      "ba f3 8b 07\n",
      "f9 1f 6a c3\n",
      "1d 19 24 5c\n",
      "    After add round key byte\n",
      "71 48 5c 7d\n",
      "15 dc da a9\n",
      "26 74 c7 bd\n",
      "24 7e 22 9c\n",
      "                               Round 4\n",
      "    After subtitute byte\n",
      "a3 52 4a ff\n",
      "59 86 57 d3\n",
      "f7 92 c6 7a\n",
      "36 f3 93 de\n",
      "    After shift rows byte\n",
      "a3 52 4a ff\n",
      "86 57 d3 59\n",
      "c6 7a f7 92\n",
      "de 36 f3 93\n",
      "    After mixColumns byte\n",
      "d4 11 fe 0f\n",
      "3b 44 06 73\n",
      "cb ab 62 37\n",
      "19 b7 07 ec\n",
      "    After add round key byte\n",
      "f8 b4 0c 4c\n",
      "67 37 24 ff\n",
      "ae a5 c1 ea\n",
      "e8 21 97 bc\n",
      "                               Round 5\n",
      "    After subtitute byte\n",
      "41 8d fe 29\n",
      "85 9a 36 16\n",
      "e4 06 78 87\n",
      "9b fd 88 65\n",
      "    After shift rows byte\n",
      "41 8d fe 29\n",
      "9a 36 16 85\n",
      "78 87 e4 06\n",
      "65 9b fd 88\n",
      "    After mixColumns byte\n",
      "2a 47 c4 48\n",
      "83 e8 18 ba\n",
      "84 18 27 23\n",
      "eb 10 0a f3\n",
      "    After add round key byte\n",
      "72 ba cb 04\n",
      "1e 06 d4 fa\n",
      "b2 20 bc 65\n",
      "00 6d e7 4e\n",
      "                               Round 6\n",
      "    After subtitute byte\n",
      "40 f4 1f f2\n",
      "72 6f 48 2d\n",
      "37 b7 65 4d\n",
      "63 3c 94 2f\n",
      "    After shift rows byte\n",
      "40 f4 1f f2\n",
      "6f 48 2d 72\n",
      "65 4d 37 b7\n",
      "2f 63 3c 94\n",
      "    After mixColumns byte\n",
      "7b 05 42 4a\n",
      "1e d0 20 40\n",
      "94 83 18 52\n",
      "94 c4 43 fb\n",
      "    After add round key byte\n",
      "0a 89 c1 85\n",
      "d9 f9 c5 e5\n",
      "d8 f7 f7 fb\n",
      "56 7b 11 14\n",
      "                               Round 7\n",
      "    After subtitute byte\n",
      "67 a7 78 97\n",
      "35 99 a6 d9\n",
      "61 68 68 0f\n",
      "b1 21 82 fa\n",
      "    After shift rows byte\n",
      "67 a7 78 97\n",
      "99 a6 d9 35\n",
      "68 0f 61 68\n",
      "fa b1 21 82\n",
      "    After mixColumns byte\n",
      "ec 1a c0 80\n",
      "0c 50 53 c7\n",
      "3b d7 00 ef\n",
      "b7 22 72 e0\n",
      "    After add round key byte\n",
      "db a1 f8 77\n",
      "18 6d 8b ba\n",
      "a8 30 08 4e\n",
      "ff d5 d7 aa\n",
      "                               Round 8\n",
      "    After subtitute byte\n",
      "b9 32 41 f5\n",
      "ad 3c 3d f4\n",
      "c2 04 30 2f\n",
      "16 03 0e ac\n",
      "    After shift rows byte\n",
      "b9 32 41 f5\n",
      "3c 3d f4 ad\n",
      "30 2f c2 04\n",
      "ac 16 03 0e\n",
      "    After mixColumns byte\n",
      "b1 1a 44 17\n",
      "3d 2f ec b6\n",
      "0a 6b 2f 42\n",
      "9f 68 f3 b1\n",
      "    After add round key byte\n",
      "f9 e9 8f 2b\n",
      "1b 34 2f 08\n",
      "4f c9 85 49\n",
      "bf bf 81 89\n",
      "                               Round 9\n",
      "    After subtitute byte\n",
      "99 1e 73 f1\n",
      "af 18 15 30\n",
      "84 dd 97 3b\n",
      "08 08 0c a7\n",
      "    After shift rows byte\n",
      "99 1e 73 f1\n",
      "18 15 30 af\n",
      "97 3b 84 dd\n",
      "a7 08 08 0c\n",
      "    After mixColumns byte\n",
      "31 30 3a c2\n",
      "ac 71 8c c4\n",
      "46 65 48 eb\n",
      "6a 1c 31 62\n",
      "    After add round key byte\n",
      "cc 3e ff 3b\n",
      "a1 67 59 af\n",
      "04 85 02 aa\n",
      "a1 00 5f 34\n",
      "                               Round 10\n",
      "    After subtitute byte\n",
      "4b b2 16 e2\n",
      "32 85 cb 79\n",
      "f2 97 77 ac\n",
      "32 63 cf 18\n",
      "    After shift rows byte\n",
      "4b b2 16 e2\n",
      "85 cb 79 32\n",
      "77 ac f2 97\n",
      "18 32 63 cf\n",
      "    After mixColumns byte\n",
      "6d a7 36 d1\n",
      "db e2 8a eb\n",
      "08 6c 35 af\n",
      "1f ce 77 1d\n",
      "    After add round key byte\n",
      "d9 1d 49 57\n",
      "55 7a c7 cd\n",
      "fb 7f 6c b7\n",
      "4d 80 57 6b\n",
      "                               Round 11\n",
      "    After subtitute byte\n",
      "35 a4 3b 5b\n",
      "fc da c6 bd\n",
      "0f d2 50 a9\n",
      "e3 cd 5b 7f\n",
      "    After shift rows byte\n",
      "35 a4 3b 5b\n",
      "da c6 bd fc\n",
      "50 a9 0f d2\n",
      "7f e3 cd 5b\n",
      "    After mixColumns byte\n",
      "30 48 68 20\n",
      "15 30 86 8e\n",
      "ce 15 d4 f5\n",
      "2b 45 7e 75\n",
      "    After add round key byte\n",
      "1f dd 82 4c\n",
      "36 8b 70 5e\n",
      "05 cd 55 6c\n",
      "3d 1d 06 7b\n",
      "                               Round 12\n",
      "    After subtitute byte\n",
      "c0 c1 13 29\n",
      "05 3d 51 58\n",
      "6b bd fc 50\n",
      "27 a4 6f 21\n",
      "    After shift rows byte\n",
      "c0 c1 13 29\n",
      "3d 51 58 05\n",
      "fc 50 6b bd\n",
      "21 27 a4 6f\n",
      "    After mixColumns byte\n",
      "01 1d 01 8f\n",
      "84 b4 ba 90\n",
      "7d 59 6a fc\n",
      "d8 17 55 1d\n",
      "    After add round key byte\n",
      "86 0f f9 1b\n",
      "49 c2 3a c0\n",
      "1d e1 53 5c\n",
      "9e 09 33 75\n",
      "                               Round 13\n",
      "    After subtitute byte\n",
      "44 76 99 af\n",
      "3b 25 80 ba\n",
      "a4 f8 ed 4a\n",
      "0b 01 c3 9d\n",
      "    After shift rows byte\n",
      "44 76 99 af\n",
      "25 80 ba 3b\n",
      "ed 4a a4 f8\n",
      "9d 0b 01 c3\n",
      "    After mixColumns byte\n",
      "97 36 59 33\n",
      "bf b8 00 09\n",
      "1c 7f 73 21\n",
      "25 46 ac b4\n",
      "    After add round key byte\n",
      "e8 5b cc 32\n",
      "92 e3 db 82\n",
      "39 e2 d7 25\n",
      "41 3c b0 c0\n",
      "                               Last round\n",
      "    After subtitute byte\n",
      "9b 39 4b 23\n",
      "4f 11 b9 13\n",
      "12 98 0e 3f\n",
      "83 eb e7 ba\n",
      "    After shift rows byte\n",
      "9b 39 4b 23\n",
      "11 b9 13 4f\n",
      "0e 3f 12 98\n",
      "ba 83 eb e7\n",
      "    After add round key byte\n",
      "94 5b bc d5\n",
      "ce 3d 4c 9b\n",
      "b9 15 9c 12\n",
      "a2 e1 95 ed\n",
      "Cipher text: 94ceb9a25b3d15e1bc4c9c95d59b12ed\n",
      "-----------------------------\n",
      "Encryption time: 0.008492231369018555\n",
      "Encrytion start with key length:  240 bits <=>  15 rounds\n",
      "Plain text : 0123456789abcdeffedcba9876543210\n",
      "Decryption time: 0.00782322883605957\n"
     ]
    }
   ],
   "source": [
    "import time\n",
    "plaintext = \"0123456789abcdeffedcba9876543210\"\n",
    "key = \"0f1571c947d9e8590cb7add6af7f6798\"\n",
    "print(\"Plain text :\", plaintext)\n",
    "print(\"Cipher key :\", key)\n",
    "print(\"-----------------------------\")\n",
    "start = time.time()\n",
    "ciphertext = ENCRYPT(plaintext, key, key_length=240, print_rounds=True)\n",
    "end_encrypt = time.time()\n",
    "print(\"Cipher text:\", ciphertext)\n",
    "print(\"-----------------------------\")\n",
    "print(\"Encryption time:\", end_encrypt - start)\n",
    "start_decrypt = time.time()\n",
    "plaintext = DECRYPT(ciphertext, key, key_length=240, print_rounds=False)\n",
    "print(\"Plain text :\", plaintext)\n",
    "end_decrypt = time.time()\n",
    "print(\"Decryption time:\", end_decrypt - start_decrypt)\n"
   ]
  },
  {
   "cell_type": "markdown",
   "metadata": {},
   "source": [
    "# ![Alt text](image.png)"
   ]
  }
 ],
 "metadata": {
  "kernelspec": {
   "display_name": "Python 3 (ipykernel)",
   "language": "python",
   "name": "python3"
  },
  "language_info": {
   "codemirror_mode": {
    "name": "ipython",
    "version": 3
   },
   "file_extension": ".py",
   "mimetype": "text/x-python",
   "name": "python",
   "nbconvert_exporter": "python",
   "pygments_lexer": "ipython3",
   "version": "3.10.9"
  }
 },
 "nbformat": 4,
 "nbformat_minor": 2
}
