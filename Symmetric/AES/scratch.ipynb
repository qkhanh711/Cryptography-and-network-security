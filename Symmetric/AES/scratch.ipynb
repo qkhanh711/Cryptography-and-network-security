{
 "cells": [
  {
   "cell_type": "markdown",
   "metadata": {},
   "source": [
    "# <h1 style=\"color:red; text-align:center\">San pham nay la cua Nguyen Quoc Khanh<h1>"
   ]
  },
  {
   "cell_type": "code",
   "execution_count": 6,
   "metadata": {
    "ExecuteTime": {
     "end_time": "2023-09-16T08:01:48.189563450Z",
     "start_time": "2023-09-16T08:01:47.973910371Z"
    }
   },
   "outputs": [],
   "source": [
    "from AES import ENCRYPT, DECRYPT\n",
    "from utils import *\n",
    "from config import *"
   ]
  },
  {
   "cell_type": "code",
   "execution_count": 13,
   "metadata": {},
   "outputs": [
    {
     "data": {
      "text/plain": [
       "18"
      ]
     },
     "execution_count": 13,
     "metadata": {},
     "output_type": "execute_result"
    }
   ],
   "source": [
    "0o22"
   ]
  },
  {
   "cell_type": "code",
   "execution_count": 8,
   "metadata": {},
   "outputs": [
    {
     "data": {
      "text/plain": [
       "[51,\n",
       " 124,\n",
       " 119,\n",
       " 123,\n",
       " 242,\n",
       " 107,\n",
       " 111,\n",
       " 197,\n",
       " 48,\n",
       " 1,\n",
       " 103,\n",
       " 43,\n",
       " 254,\n",
       " 215,\n",
       " 171,\n",
       " 118,\n",
       " 202,\n",
       " 130,\n",
       " 201,\n",
       " 125,\n",
       " 250,\n",
       " 89,\n",
       " 71,\n",
       " 240,\n",
       " 173,\n",
       " 212,\n",
       " 162,\n",
       " 175,\n",
       " 156,\n",
       " 164,\n",
       " 114,\n",
       " 192,\n",
       " 183,\n",
       " 253,\n",
       " 147,\n",
       " 38,\n",
       " 54,\n",
       " 63,\n",
       " 247,\n",
       " 204,\n",
       " 52,\n",
       " 165,\n",
       " 229,\n",
       " 241,\n",
       " 113,\n",
       " 216,\n",
       " 49,\n",
       " 21,\n",
       " 4,\n",
       " 199,\n",
       " 35,\n",
       " 195,\n",
       " 24,\n",
       " 150,\n",
       " 5,\n",
       " 154,\n",
       " 7,\n",
       " 18,\n",
       " 128,\n",
       " 226,\n",
       " 235,\n",
       " 39,\n",
       " 178,\n",
       " 117,\n",
       " 9,\n",
       " 131,\n",
       " 44,\n",
       " 26,\n",
       " 27,\n",
       " 110,\n",
       " 90,\n",
       " 160,\n",
       " 82,\n",
       " 59,\n",
       " 214,\n",
       " 179,\n",
       " 41,\n",
       " 227,\n",
       " 47,\n",
       " 132,\n",
       " 83,\n",
       " 209,\n",
       " 0,\n",
       " 237,\n",
       " 32,\n",
       " 252,\n",
       " 177,\n",
       " 91,\n",
       " 106,\n",
       " 203,\n",
       " 190,\n",
       " 57,\n",
       " 74,\n",
       " 76,\n",
       " 88,\n",
       " 207,\n",
       " 208,\n",
       " 239,\n",
       " 170,\n",
       " 251,\n",
       " 67,\n",
       " 77,\n",
       " 51,\n",
       " 133,\n",
       " 69,\n",
       " 249,\n",
       " 2,\n",
       " 127,\n",
       " 80,\n",
       " 60,\n",
       " 159,\n",
       " 168,\n",
       " 81,\n",
       " 163,\n",
       " 64,\n",
       " 143,\n",
       " 146,\n",
       " 157,\n",
       " 56,\n",
       " 245,\n",
       " 188,\n",
       " 182,\n",
       " 218,\n",
       " 33,\n",
       " 16,\n",
       " 255,\n",
       " 243,\n",
       " 210,\n",
       " 205,\n",
       " 12,\n",
       " 19,\n",
       " 236,\n",
       " 95,\n",
       " 151,\n",
       " 68,\n",
       " 23,\n",
       " 196,\n",
       " 167,\n",
       " 126,\n",
       " 61,\n",
       " 100,\n",
       " 93,\n",
       " 25,\n",
       " 115,\n",
       " 96,\n",
       " 129,\n",
       " 79,\n",
       " 220,\n",
       " 34,\n",
       " 42,\n",
       " 144,\n",
       " 136,\n",
       " 70,\n",
       " 238,\n",
       " 184,\n",
       " 20,\n",
       " 222,\n",
       " 94,\n",
       " 11,\n",
       " 219,\n",
       " 224,\n",
       " 50,\n",
       " 58,\n",
       " 10,\n",
       " 73,\n",
       " 6,\n",
       " 36,\n",
       " 92,\n",
       " 194,\n",
       " 211,\n",
       " 172,\n",
       " 98,\n",
       " 145,\n",
       " 149,\n",
       " 228,\n",
       " 121,\n",
       " 231,\n",
       " 200,\n",
       " 55,\n",
       " 109,\n",
       " 141,\n",
       " 213,\n",
       " 78,\n",
       " 169,\n",
       " 108,\n",
       " 86,\n",
       " 244,\n",
       " 234,\n",
       " 101,\n",
       " 122,\n",
       " 174,\n",
       " 8,\n",
       " 186,\n",
       " 120,\n",
       " 37,\n",
       " 46,\n",
       " 28,\n",
       " 166,\n",
       " 180,\n",
       " 198,\n",
       " 232,\n",
       " 221,\n",
       " 116,\n",
       " 31,\n",
       " 75,\n",
       " 189,\n",
       " 139,\n",
       " 138,\n",
       " 112,\n",
       " 62,\n",
       " 181,\n",
       " 102,\n",
       " 72,\n",
       " 3,\n",
       " 246,\n",
       " 14,\n",
       " 97,\n",
       " 53,\n",
       " 87,\n",
       " 185,\n",
       " 134,\n",
       " 193,\n",
       " 29,\n",
       " 158,\n",
       " 225,\n",
       " 248,\n",
       " 152,\n",
       " 17,\n",
       " 105,\n",
       " 217,\n",
       " 142,\n",
       " 148,\n",
       " 155,\n",
       " 30,\n",
       " 135,\n",
       " 233,\n",
       " 206,\n",
       " 85,\n",
       " 40,\n",
       " 223,\n",
       " 140,\n",
       " 161,\n",
       " 137,\n",
       " 13,\n",
       " 191,\n",
       " 230,\n",
       " 66,\n",
       " 104,\n",
       " 65,\n",
       " 153,\n",
       " 45,\n",
       " 15,\n",
       " 176,\n",
       " 84,\n",
       " 187,\n",
       " 22]"
      ]
     },
     "execution_count": 8,
     "metadata": {},
     "output_type": "execute_result"
    }
   ],
   "source": [
    "sbox"
   ]
  },
  {
   "cell_type": "code",
   "execution_count": 28,
   "metadata": {
    "ExecuteTime": {
     "end_time": "2023-09-16T08:01:48.332044686Z",
     "start_time": "2023-09-16T08:01:47.983012050Z"
    }
   },
   "outputs": [],
   "source": [
    "# print(sbox)\n",
    "# for row in range(16):\n",
    "#     for col in range(16):\n",
    "#         print(sbox[row * 4 + col], end=' ')\n",
    "#     print()\n",
    "# print()"
   ]
  },
  {
   "cell_type": "markdown",
   "metadata": {},
   "source": [
    "## Char to hex"
   ]
  },
  {
   "cell_type": "code",
   "execution_count": 29,
   "metadata": {
    "ExecuteTime": {
     "end_time": "2023-09-16T08:01:48.332622986Z",
     "start_time": "2023-09-16T08:01:48.028606761Z"
    }
   },
   "outputs": [
    {
     "name": "stdout",
     "output_type": "stream",
     "text": [
      "Hex State ['01', '89', 'fe', '76', '23', 'ab', 'dc', '54', '45', 'cd', 'ba', '32', '67', 'ef', '98', '10']\n",
      "Int Values [1, 137, 254, 118, 35, 171, 220, 84, 69, 205, 186, 50, 103, 239, 152, 16]\n"
     ]
    }
   ],
   "source": [
    "plaintext = \"0123456789abcdeffedcba9876543210\"\n",
    "\n",
    "hex_state = char_to_hex(plaintext, option=\"char\")\n",
    "print(\"Hex State\", hex_state)\n",
    "\n",
    "int_state = char_to_hex(plaintext, option=\"int value\")\n",
    "print(\"Int Values\", int_state)"
   ]
  },
  {
   "cell_type": "markdown",
   "metadata": {},
   "source": [
    "## Hex to char"
   ]
  },
  {
   "cell_type": "code",
   "execution_count": 30,
   "metadata": {
    "ExecuteTime": {
     "end_time": "2023-09-16T08:01:48.334580901Z",
     "start_time": "2023-09-16T08:01:48.031324712Z"
    }
   },
   "outputs": [
    {
     "name": "stdout",
     "output_type": "stream",
     "text": [
      "Character string: 0123456789abcdeffedcba9876543210\n"
     ]
    }
   ],
   "source": [
    "char_result = hex_to_char(hex_state)\n",
    "print(\"Character string:\", char_result)\n"
   ]
  },
  {
   "cell_type": "code",
   "execution_count": 31,
   "metadata": {
    "ExecuteTime": {
     "end_time": "2023-09-16T08:01:48.335111037Z",
     "start_time": "2023-09-16T08:01:48.031972356Z"
    }
   },
   "outputs": [
    {
     "name": "stdout",
     "output_type": "stream",
     "text": [
      "01 89 fe 76 \n",
      "23 ab dc 54 \n",
      "45 cd ba 32 \n",
      "67 ef 98 10 \n",
      "\n"
     ]
    }
   ],
   "source": [
    "for row in range(4):\n",
    "    for col in range(4):\n",
    "        print(hex_state[row * 4 + col], end=' ')\n",
    "    print()\n",
    "print()"
   ]
  },
  {
   "cell_type": "markdown",
   "metadata": {},
   "source": [
    "## Subbytes"
   ]
  },
  {
   "cell_type": "code",
   "execution_count": 32,
   "metadata": {
    "ExecuteTime": {
     "end_time": "2023-09-16T08:01:48.335659342Z",
     "start_time": "2023-09-16T08:01:48.032398532Z"
    }
   },
   "outputs": [
    {
     "name": "stdout",
     "output_type": "stream",
     "text": [
      "[1, 137, 254, 118, 35, 171, 220, 84, 69, 205, 186, 50, 103, 239, 152, 16] \n",
      "['7c', 'a7', 'bb', '38', '26', '62', '86', '20', '6e', 'bd', 'f4', '23', '85', 'df', '46', 'ca']\n",
      "7c a7 bb 38\n",
      "26 62 86 20\n",
      "6e bd f4 23\n",
      "85 df 46 ca\n",
      "16\n"
     ]
    }
   ],
   "source": [
    "print(int_state, end=' ')\n",
    "sub_state = substitute_bytes(int_state)\n",
    "print()\n",
    "print(sub_state, end = '')\n",
    "int_sub_state = [int(element, 16) for element in sub_state]\n",
    "print()\n",
    "visualize(int_sub_state)\n",
    "print(len(sub_state))"
   ]
  },
  {
   "cell_type": "code",
   "execution_count": 33,
   "metadata": {
    "ExecuteTime": {
     "end_time": "2023-09-16T08:01:48.336160899Z",
     "start_time": "2023-09-16T08:01:48.033953532Z"
    }
   },
   "outputs": [
    {
     "name": "stdout",
     "output_type": "stream",
     "text": [
      "[1, 137, 254, 118, 35, 171, 220, 84, 69, 205, 186, 50, 103, 239, 152, 16] ['01', '89', 'fe', '76', '23', 'ab', 'dc', '54', '45', 'cd', 'ba', '32', '67', 'ef', '98', '10']\n",
      "01 89 fe 76\n",
      "23 ab dc 54\n",
      "45 cd ba 32\n",
      "67 ef 98 10\n"
     ]
    }
   ],
   "source": [
    "print(int_state, end=' ')\n",
    "sub_state = substitute_bytes(int_sub_state, crypt= \"decrypt\")\n",
    "print(sub_state, end = '')\n",
    "int_sub_state = [int(element, 16) for element in sub_state]\n",
    "print()\n",
    "visualize(int_sub_state)"
   ]
  },
  {
   "cell_type": "code",
   "execution_count": 34,
   "metadata": {},
   "outputs": [],
   "source": [
    "sbox_test = [\n",
    "         #0     1     2     3     4     5     6     7     8     9     A     B     C     D     E     F \n",
    "        '63', '7c', '77', '7b', 'f2', '6b', '6f', 'c5', '30', '01', '67', '2b', 'fe', 'd7', 'ab', '76', #0 \n",
    "        'ca', '82', 'c9', '7d', 'fa', '59', '47', 'f0', 'ad', 'd4', 'a2', 'af', '9c', 'a4', '72', 'c0', #1 \n",
    "        'b7', 'fd', '93', '26', '36', '3f', 'f7', 'cc', '34', 'a5', 'e5', 'f1', '71', 'd8', '31', '15', #2 \n",
    "        '04', 'c7', '23', 'c3', '18', '96', '05', '9a', '07', '12', '80', 'e2', 'eb', '27', 'b2', '75', #3\n",
    "        '09', '83', '2c', '1a', '1b', '6e', '5a', 'a0', '52', '3b', 'd6', 'b3', '29', 'e3', '2f', '84', #4 \n",
    "        '53', 'd1', '00', 'ed', '20', 'fc', 'b1', '5b', '6a', 'cb', 'be', '39', '4a', '4c', '58', 'cf', #5 \n",
    "        'd0', 'ef', 'aa', 'fb', '43', '4d', '33', '85', '45', 'f9', '02', '7f', '50', '3c', '9f', 'a8', #6      \n",
    "        '51', 'a3', '40', '8f', '92', '9d', '38', 'f5', 'bc', 'b6', 'da', '21', '10', 'ff', 'f3', 'd2', #7      \n",
    "        'cd', '0c', '13', 'ec', '5f', '97', '44', '17', 'c4', 'a7', '7e', '3d', '64', '5d', '19', '73', #8      \n",
    "        '60', '81', '4f', 'dc', '22', '2a', '90', '88', '46', 'ee', 'b8', '14', 'de', '5e', '0b', 'db', #9      \n",
    "        'e0', '32', '3a', '0a', '49', '06', '24', '5c', 'c2', 'd3', 'ac', '62', '91', '95', 'e4', '79', #A      \n",
    "        'e7', 'c8', '37', '6d', '8d', 'd5', '4e', 'a9', '6c', '56', 'f4', 'ea', '65', '7a', 'ae', '08', #B      \n",
    "        'ba', '78', '25', '2e', '1c', 'a6', 'b4', 'c6', 'e8', 'dd', '74', '1f', '4b', 'bd', '8b', '8a', #C \n",
    "        '70', '3e', 'b5', '66', '48', '03', 'f6', '0e', '61', '35', '57', 'b9', '86', 'c1', '1d', '9e', #D \n",
    "        'e1', 'f8', '98', '11', '69', 'd9', '8e', '94', '9b', '1e', '87', 'e9', 'ce', '55', '28', 'df', #E \n",
    "        '8c', 'a1', '89', '0d', 'bf', 'e6', '42', '68', '41', '99', '2d', '0f', 'b0', '54', 'bb', '16'  #F \n",
    "        ]\n"
   ]
  },
  {
   "cell_type": "code",
   "execution_count": 35,
   "metadata": {},
   "outputs": [],
   "source": [
    "def substitute_bytes_test(state):\n",
    "    new_state = []\n",
    "    for element in state:\n",
    "        new_state.append(sbox_test[int(element)]) \n",
    "    return new_state"
   ]
  },
  {
   "cell_type": "code",
   "execution_count": 36,
   "metadata": {},
   "outputs": [
    {
     "data": {
      "text/plain": [
       "[149]"
      ]
     },
     "execution_count": 36,
     "metadata": {},
     "output_type": "execute_result"
    }
   ],
   "source": [
    "# int_state = ['95']\n",
    "int_state_test = char_to_hex('95', option=\"int value\", key=True)\n",
    "int_state_test"
   ]
  },
  {
   "cell_type": "code",
   "execution_count": 37,
   "metadata": {},
   "outputs": [
    {
     "data": {
      "text/plain": [
       "['7c',\n",
       " 'a7',\n",
       " 'bb',\n",
       " '38',\n",
       " '26',\n",
       " '62',\n",
       " '86',\n",
       " '20',\n",
       " '6e',\n",
       " 'bd',\n",
       " 'f4',\n",
       " '23',\n",
       " '85',\n",
       " 'df',\n",
       " '46',\n",
       " 'ca']"
      ]
     },
     "execution_count": 37,
     "metadata": {},
     "output_type": "execute_result"
    }
   ],
   "source": [
    "sub_state_test = substitute_bytes_test(int_state)\n",
    "sub_state_test"
   ]
  },
  {
   "cell_type": "markdown",
   "metadata": {},
   "source": [
    "##  Shift Row"
   ]
  },
  {
   "cell_type": "code",
   "execution_count": 38,
   "metadata": {
    "ExecuteTime": {
     "end_time": "2023-09-16T08:01:48.336685713Z",
     "start_time": "2023-09-16T08:01:48.034482779Z"
    }
   },
   "outputs": [
    {
     "name": "stdout",
     "output_type": "stream",
     "text": [
      "01 89 fe 76\n",
      "ab dc 54 23\n",
      "ba 32 45 cd\n",
      "10 67 ef 98\n",
      "16\n"
     ]
    }
   ],
   "source": [
    "shift_state = shift_rows(int_sub_state)\n",
    "visualize(shift_state)\n",
    "print(len(shift_state))"
   ]
  },
  {
   "cell_type": "code",
   "execution_count": 39,
   "metadata": {
    "ExecuteTime": {
     "end_time": "2023-09-16T08:01:48.366085774Z",
     "start_time": "2023-09-16T08:01:48.034754737Z"
    }
   },
   "outputs": [
    {
     "name": "stdout",
     "output_type": "stream",
     "text": [
      "4b 68 61 6e\n",
      "64 65 70 68\n",
      "61 69 74 72\n",
      "74 6e 68 61\n"
     ]
    }
   ],
   "source": [
    "# TEST TRUE FUNCTION\n",
    "matrix = [\n",
    "    0x4b, 0x68, 0x61, 0x6e,\n",
    "    0x68, 0x64, 0x65, 0x70,\n",
    "    0x74, 0x72, 0x61, 0x69,\n",
    "    0x6e, 0x68, 0x61, 0x74\n",
    "]\n",
    "shift_rows(matrix)\n",
    "\n",
    "visualize(matrix)\n"
   ]
  },
  {
   "cell_type": "code",
   "execution_count": 40,
   "metadata": {
    "ExecuteTime": {
     "end_time": "2023-09-16T08:01:48.367039372Z",
     "start_time": "2023-09-16T08:01:48.041126458Z"
    }
   },
   "outputs": [
    {
     "name": "stdout",
     "output_type": "stream",
     "text": [
      "4b 68 61 6e\n",
      "68 64 65 70\n",
      "74 72 61 69\n",
      "6e 68 61 74\n"
     ]
    }
   ],
   "source": [
    "shift_rows(matrix, crypt=\"decrypt\")\n",
    "\n",
    "visualize(matrix)"
   ]
  },
  {
   "cell_type": "markdown",
   "metadata": {},
   "source": [
    "## Mix columns"
   ]
  },
  {
   "cell_type": "code",
   "execution_count": 41,
   "metadata": {
    "ExecuteTime": {
     "end_time": "2023-09-16T08:01:48.367568180Z",
     "start_time": "2023-09-16T08:01:48.083698976Z"
    }
   },
   "outputs": [
    {
     "name": "stdout",
     "output_type": "stream",
     "text": [
      "4e 23 b1 dc\n",
      "89 1b 76 e4\n",
      "f5 98 0a 67\n",
      "32 a0 cd 5f\n"
     ]
    }
   ],
   "source": [
    "mix_state = mixColumns(shift_state)\n",
    "\n",
    "visualize(mix_state)"
   ]
  },
  {
   "cell_type": "code",
   "execution_count": 42,
   "metadata": {
    "ExecuteTime": {
     "end_time": "2023-09-16T08:01:48.368054821Z",
     "start_time": "2023-09-16T08:01:48.084181821Z"
    }
   },
   "outputs": [
    {
     "name": "stdout",
     "output_type": "stream",
     "text": [
      "04 e0 48 28\n",
      "66 cb f8 06\n",
      "81 19 d3 26\n",
      "e5 9a 7a 4c\n",
      "\n",
      "d4 e0 b8 1e\n",
      "bf b4 41 27\n",
      "5d 52 11 98\n",
      "30 ae f1 e5\n"
     ]
    }
   ],
   "source": [
    "# TEST TRUE FUNCTION\n",
    "matrix = [\n",
    "    0xd4, 0xe0, 0xb8, 0x1e, \n",
    "    0xbf, 0xb4, 0x41, 0x27, \n",
    "    0x5d, 0x52, 0x11, 0x98, \n",
    "    0x30, 0xae, 0xf1, 0xe5\n",
    "]\n",
    "\n",
    "mixColumns(matrix)\n",
    "\n",
    "visualize(matrix)\n",
    "\n",
    "print()\n",
    "inv_mix_state = mixColumns(matrix, crypt=\"decrypt\")\n",
    "visualize(inv_mix_state)"
   ]
  },
  {
   "cell_type": "markdown",
   "metadata": {},
   "source": [
    "## Add round key"
   ]
  },
  {
   "cell_type": "code",
   "execution_count": 43,
   "metadata": {
    "ExecuteTime": {
     "end_time": "2023-09-16T08:01:48.368701675Z",
     "start_time": "2023-09-16T08:01:48.084654390Z"
    }
   },
   "outputs": [
    {
     "name": "stdout",
     "output_type": "stream",
     "text": [
      "16\n",
      "ee d9 4f cb\n",
      "01 4f 5a 55\n",
      "d6 3b 33 5e\n",
      "18 cc bb 5a\n"
     ]
    }
   ],
   "source": [
    "key = [\n",
    "    0xa0, 0x88, 0x23, 0x2a,\n",
    "    0xfa, 0x54, 0xa3, 0x6c,\n",
    "    0xfe, 0x2c, 0x39, 0x76,\n",
    "    0x17, 0xb1, 0x39, 0x05\n",
    "]\n",
    "\n",
    "added_key = add_round_key(mix_state, key)\n",
    "print(len(added_key))\n",
    "visualize(added_key)"
   ]
  },
  {
   "cell_type": "code",
   "execution_count": 44,
   "metadata": {
    "ExecuteTime": {
     "end_time": "2023-09-16T08:01:48.369243273Z",
     "start_time": "2023-09-16T08:01:48.084956494Z"
    }
   },
   "outputs": [
    {
     "name": "stdout",
     "output_type": "stream",
     "text": [
      "0e ce f2 d9\n",
      "36 72 6b 2b\n",
      "34 25 17 55\n",
      "ae b6 4e 88\n"
     ]
    }
   ],
   "source": [
    "# TEST TRUE FUNCTION\n",
    "state = [\n",
    "    0x01, 0x89, 0xfe, 0x76,\n",
    "    0x23, 0xab, 0xdc, 0x54,\n",
    "    0x45, 0xcd, 0xba, 0x32,\n",
    "    0x67, 0xef, 0x98, 0x10\n",
    "]\n",
    "\n",
    "key = [\n",
    "    0x0f, 0x15, 0x71, 0xc9,\n",
    "    0x47, 0xd9, 0xe8, 0x59,\n",
    "    0x0c, 0xb7, 0xad, 0xd6,\n",
    "    0xaf, 0x7f, 0x67, 0x98\n",
    "]\n",
    "\n",
    "add_round_key(state, key)\n",
    "\n",
    "visualize(state)"
   ]
  },
  {
   "cell_type": "markdown",
   "metadata": {},
   "source": [
    "## Key schedule"
   ]
  },
  {
   "cell_type": "code",
   "execution_count": 45,
   "metadata": {
    "ExecuteTime": {
     "end_time": "2023-09-16T08:01:48.369514821Z",
     "start_time": "2023-09-16T08:01:48.086236884Z"
    }
   },
   "outputs": [],
   "source": [
    "def convert_bstring_to_bin(bstring):\n",
    "  bin_str = \"\"\n",
    "  for char in bstring:\n",
    "    bin_str += (bin(ord(char))[2:] + ' ').zfill(9)\n",
    "  return bin_str\n"
   ]
  },
  {
   "cell_type": "code",
   "execution_count": 46,
   "metadata": {
    "ExecuteTime": {
     "end_time": "2023-09-16T08:01:48.370211616Z",
     "start_time": "2023-09-16T08:01:48.087469665Z"
    }
   },
   "outputs": [
    {
     "name": "stdout",
     "output_type": "stream",
     "text": [
      "[15, 126, 21, 22, 40, 174, 210, 166, 171, 247, 21, 136, 9, 207, 79, 60]\n",
      "Encrytion start with key length:  176 bits <=>  11 rounds\n",
      "\n",
      "Hex values:\n",
      "0f 28 ab 09 84 ac 07 0e d6 7a 7d 73 19 63 1e 6d cb a8 b6 db 5a f2 44 9f e3 11 55 ca 39 28 7d b7 9d b5 c8 7f 45 f0 38 47 39 c9 f1 b6 \n",
      "7e ae f7 cf fa 54 a3 6c c2 96 35 59 80 16 23 7a de c8 eb 91 4b 83 68 f9 25 a6 ce 37 f9 5f 91 a6 5b 04 95 33 fe fa 6f 5c 6e 94 fb a7 \n",
      "15 d2 15 4f fe 2c 39 76 95 b9 80 f6 52 eb 6b 9d b0 5b 30 ad 83 d8 e8 45 e6 3e d6 93 61 5f 89 1a e5 ba 33 29 36 8c bf 96 a9 25 9a 0c \n",
      "16 a6 88 3c 17 b1 39 05 bc 0d 34 31 33 3e 0a 3b 0f 31 3b 00 b6 87 bc bc 6d ea 56 ea 19 f3 a5 4f b0 43 e6 a9 62 21 c7 6e c2 e3 24 4a \n",
      "\n",
      "Integer values:\n",
      "15 40 171 9 132 172 7 14 214 122 125 115 25 99 30 109 203 168 182 219 90 242 68 159 227 17 85 202 57 40 125 183 157 181 200 127 69 240 56 71 57 201 241 182 \n",
      "126 174 247 207 250 84 163 108 194 150 53 89 128 22 35 122 222 200 235 145 75 131 104 249 37 166 206 55 249 95 145 166 91 4 149 51 254 250 111 92 110 148 251 167 \n",
      "21 210 21 79 254 44 57 118 149 185 128 246 82 235 107 157 176 91 48 173 131 216 232 69 230 62 214 147 97 95 137 26 229 186 51 41 54 140 191 150 169 37 154 12 \n",
      "22 166 136 60 23 177 57 5 188 13 52 49 51 62 10 59 15 49 59 0 182 135 188 188 109 234 86 234 25 243 165 79 176 67 230 169 98 33 199 110 194 227 36 74 \n",
      "\n",
      "Bit values:\n",
      "00001111 00101000 10101011 00001001 01111110 10101110 11110111 11001111 00010101 11010010 00010101 01001111 00010110 10100110 10001000 00111100 \n"
     ]
    }
   ],
   "source": [
    "key = [\n",
    "    0x0f, 0x7e, 0x15, 0x16,\n",
    "    0x28, 0xae, 0xd2, 0xa6,\n",
    "    0xab, 0xf7, 0x15, 0x88,\n",
    "    0x09, 0xcf, 0x4f, 0x3c\n",
    "]\n",
    "print(key)\n",
    "expanded_key = expandKey(key, key_length=176)\n",
    "# print(len(expanded_key))\n",
    "# print(f\"Expanded key: {expanded_key}\")\n",
    "print()\n",
    "print(\"Hex values:\")\n",
    "for j in range(4):\n",
    "    for i in range(44):\n",
    "        print(f\"{expanded_key[i * 4 + j]:02x}\", end=\" \")\n",
    "    print()\n",
    "print()\n",
    "print(\"Integer values:\")\n",
    "for j in range(4):\n",
    "    for i in range(44):\n",
    "        print(f\"{expanded_key[i * 4 + j]}\", end=\" \")\n",
    "    print()\n",
    "print()\n",
    "print(\"Bit values:\")\n",
    "print(convert_bstring_to_bin(hex_to_char([chr(value) for value in expanded_key] )))\n"
   ]
  },
  {
   "cell_type": "code",
   "execution_count": 47,
   "metadata": {
    "ExecuteTime": {
     "end_time": "2023-09-16T08:01:48.375839750Z",
     "start_time": "2023-09-16T08:01:48.131947309Z"
    }
   },
   "outputs": [
    {
     "name": "stdout",
     "output_type": "stream",
     "text": [
      "Hex values:\n",
      "4a 24 e3 c2 6e c7 21 62 a9 e6 43 b0 4f a5 f3 \n",
      "0c 9a 25 a9 96 bf 8c 36 29 33 ba e5 1a 89 5f \n",
      "a7 fb 94 6e 5c 6f fa fe 33 95 04 5b a6 91 5f \n",
      "b6 f1 c9 39 47 38 f0 45 7f c8 b5 9d b7 7d 28 \n",
      "\n",
      "Integer values:\n",
      "74 36 227 194 110 199 33 98 169 230 67 176 79 165 243 \n",
      "12 154 37 169 150 191 140 54 41 51 186 229 26 137 95 \n",
      "167 251 148 110 92 111 250 254 51 149 4 91 166 145 95 \n",
      "182 241 201 57 71 56 240 69 127 200 181 157 183 125 40 \n",
      "\n"
     ]
    }
   ],
   "source": [
    "inv_expanded_key = expanded_key[::-1]\n",
    "print(\"Hex values:\")\n",
    "for j in range(4):\n",
    "    for i in range(15):\n",
    "        print(f\"{inv_expanded_key[i * 4 + j]:02x}\", end=\" \")\n",
    "    print()\n",
    "print()\n",
    "print(\"Integer values:\")\n",
    "for j in range(4):\n",
    "    for i in range(15):\n",
    "        print(f\"{inv_expanded_key[i * 4 + j]}\", end=\" \")\n",
    "    print()\n",
    "print()"
   ]
  },
  {
   "cell_type": "code",
   "execution_count": 48,
   "metadata": {
    "ExecuteTime": {
     "end_time": "2023-09-16T08:01:48.376507607Z",
     "start_time": "2023-09-16T08:01:48.132760485Z"
    }
   },
   "outputs": [],
   "source": [
    "# print(len(subkeys))\n",
    "# for i in range(len(subkeys)):\n",
    "#     for j in range(4):\n",
    "#         for k in range(4):\n",
    "#             print(f\"{subkeys[i][k * 4 + j]}\", end=\" \")\n",
    "#         print()\n",
    "#     print()"
   ]
  },
  {
   "cell_type": "code",
   "execution_count": 49,
   "metadata": {
    "ExecuteTime": {
     "end_time": "2023-09-16T08:01:48.377355143Z",
     "start_time": "2023-09-16T08:01:48.133101873Z"
    }
   },
   "outputs": [
    {
     "name": "stdout",
     "output_type": "stream",
     "text": [
      "[15, 21, 113, 201, 71, 217, 232, 89, 12, 183, 173, 214, 175, 127, 103, 152]  \n",
      "Encrytion start with key length:  176 bits <=>  11 rounds\n",
      "[15, 21, 113, 201, 71, 217, 232, 89, 12, 183, 173, 214, 175, 127, 103, 152, 220, 144, 55, 176, 155, 73, 223, 233, 151, 254, 114, 63, 56, 129, 21, 167, 210, 201, 107, 183, 73, 128, 180, 94, 222, 126, 198, 97, 230, 255, 211, 198, 192, 175, 223, 57, 137, 47, 107, 103, 87, 81, 173, 6, 177, 174, 126, 192, 44, 92, 101, 241, 165, 115, 14, 150, 242, 34, 163, 144, 67, 140, 221, 80, 88, 157, 54, 235, 253, 238, 56, 125, 15, 204, 155, 237, 76, 64, 70, 189, 113, 199, 76, 194, 140, 41, 116, 191, 131, 229, 239, 82, 207, 165, 169, 239, 55, 20, 147, 72, 187, 61, 231, 247, 56, 216, 8, 165, 247, 125, 161, 74, 72, 38, 69, 32, 243, 27, 162, 215, 203, 195, 170, 114, 60, 190, 11, 56, 253, 13, 66, 203, 14, 22, 224, 28, 197, 213, 74, 110, 249, 107, 65, 86, 180, 142, 243, 82, 186, 152, 19, 78, 127, 77, 89, 32, 134, 38, 24, 118]\n"
     ]
    }
   ],
   "source": [
    "cipherKey = char_to_hex(\"0f1571c947d9e8590cb7add6af7f6798\", option=\"int value\", key=True)\n",
    "# print(char_to_hex(\"0f1571c947d9e8590cb7add6af7f6798\", option=\"char\", key=True))\n",
    "print(cipherKey, ' ')\n",
    "expandedKey = expandKey(cipherKey, 176)\n",
    "print(expandedKey)\n",
    "# for i in range(11):\n",
    "#     for j in range(4):\n",
    "#         for k in range(4):\n",
    "#             print(f\"{expandedKey[i * 16 + k * 4 + j]:02x}\", end=\" \")\n",
    "#         print()\n",
    "#     print()"
   ]
  },
  {
   "cell_type": "markdown",
   "metadata": {},
   "source": [
    "# Encryptor + Decrytor"
   ]
  },
  {
   "cell_type": "code",
   "execution_count": 50,
   "metadata": {
    "ExecuteTime": {
     "end_time": "2023-09-16T08:01:48.380042308Z",
     "start_time": "2023-09-16T08:01:48.133457411Z"
    }
   },
   "outputs": [
    {
     "name": "stdout",
     "output_type": "stream",
     "text": [
      "Plain text : 0123456789abcdeffedcba9876543210\n",
      "Cipher key : 0f1571c947d9e8590cb7add6af7f6798\n",
      "-----------------------------\n",
      "Encrytion start with key length:  176 bits <=>  11 rounds\n",
      "Cipher text: 350da61e8d63af96b2f06d9d35528a8b\n",
      "-----------------------------\n",
      "Encryption time: 0.002014636993408203\n",
      "Encrytion start with key length:  176 bits <=>  11 rounds\n",
      "Plain text : bfd64bb7a127d24698983baad8a882a2\n",
      "Decryption time: 0.002000570297241211\n"
     ]
    }
   ],
   "source": [
    "import time\n",
    "plaintext = \"0123456789abcdeffedcba9876543210\"\n",
    "key = \"0f1571c947d9e8590cb7add6af7f6798\"\n",
    "print(\"Plain text :\", plaintext)\n",
    "print(\"Cipher key :\", key)\n",
    "print(\"-----------------------------\")\n",
    "start = time.time()\n",
    "ciphertext = ENCRYPT(plaintext, key, key_length=176, print_rounds=False)\n",
    "end_encrypt = time.time()\n",
    "print(\"Cipher text:\", ciphertext)\n",
    "print(\"-----------------------------\")\n",
    "print(\"Encryption time:\", end_encrypt - start)\n",
    "start_decrypt = time.time()\n",
    "plaintext = DECRYPT(ciphertext, key, key_length=176, print_rounds=False)\n",
    "print(\"Plain text :\", plaintext)\n",
    "end_decrypt = time.time()\n",
    "print(\"Decryption time:\", end_decrypt - start_decrypt)\n"
   ]
  },
  {
   "cell_type": "markdown",
   "metadata": {},
   "source": [
    "# ![Alt text](image.png)"
   ]
  }
 ],
 "metadata": {
  "kernelspec": {
   "display_name": "Python 3 (ipykernel)",
   "language": "python",
   "name": "python3"
  },
  "language_info": {
   "codemirror_mode": {
    "name": "ipython",
    "version": 3
   },
   "file_extension": ".py",
   "mimetype": "text/x-python",
   "name": "python",
   "nbconvert_exporter": "python",
   "pygments_lexer": "ipython3",
   "version": "3.9.16"
  }
 },
 "nbformat": 4,
 "nbformat_minor": 2
}
