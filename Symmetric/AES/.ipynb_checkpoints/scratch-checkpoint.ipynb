{
 "cells": [
  {
   "cell_type": "code",
   "execution_count": 5,
   "metadata": {
    "ExecuteTime": {
     "end_time": "2023-09-14T05:00:50.050117970Z",
     "start_time": "2023-09-14T05:00:49.857914187Z"
    }
   },
   "outputs": [
    {
     "name": "stdout",
     "output_type": "stream",
     "text": [
      "config.py  main.py  __pycache__  scratch.ipynb\ttest  utils.py\r\n"
     ]
    }
   ],
   "source": [
    "!ls"
   ]
  },
  {
   "cell_type": "code",
   "execution_count": 6,
   "metadata": {
    "ExecuteTime": {
     "end_time": "2023-09-14T05:00:50.843973192Z",
     "start_time": "2023-09-14T05:00:50.836938980Z"
    }
   },
   "outputs": [],
   "source": [
    "from config import *\n",
    "from utils import *"
   ]
  },
  {
   "cell_type": "code",
   "execution_count": 7,
   "metadata": {
    "ExecuteTime": {
     "end_time": "2023-09-14T05:00:53.748802698Z",
     "start_time": "2023-09-14T05:00:53.739158324Z"
    }
   },
   "outputs": [],
   "source": [
    "# print(sbox)\n",
    "# for row in range(16):\n",
    "#     for col in range(16):\n",
    "#         print(sbox[row * 4 + col], end=' ')\n",
    "#     print()\n",
    "# print()"
   ]
  },
  {
   "cell_type": "markdown",
   "metadata": {},
   "source": [
    "# Plaintext->State"
   ]
  },
  {
   "cell_type": "code",
   "execution_count": 8,
   "metadata": {
    "ExecuteTime": {
     "end_time": "2023-09-14T05:00:55.277948678Z",
     "start_time": "2023-09-14T05:00:55.272406383Z"
    }
   },
   "outputs": [
    {
     "name": "stdout",
     "output_type": "stream",
     "text": [
      "['48', '61', '68', '6f', '63', '61', '6e', '74', '6f', '61', '6e', '74', '68', '6f', '6e', '67']\n",
      "['74', '69', '6e', '20', '20', '20', '20', '20', '20', '20', '20', '20', '20', '20', '20', '20']\n",
      "Plaintext:  Hahocantoanthongtin\n",
      "char_hex_states\n",
      "State 0\n",
      "48 61 68 6f \n",
      "63 61 6e 74 \n",
      "6f 61 6e 74 \n",
      "68 6f 6e 67 \n",
      "\n",
      "State 1\n",
      "74 69 6e 20 \n",
      "20 20 20 20 \n",
      "20 20 20 20 \n",
      "20 20 20 20 \n",
      "\n",
      "int_hex_states\n",
      "State 0\n",
      "72 97 104 111 \n",
      "99 97 110 116 \n",
      "111 97 110 116 \n",
      "104 111 110 103 \n",
      "\n",
      "State 1\n",
      "116 105 110 32 \n",
      "32 32 32 32 \n",
      "32 32 32 32 \n",
      "32 32 32 32 \n"
     ]
    }
   ],
   "source": [
    "plaintext = \"Hahocantoanthongtin\"\n",
    "char_hex_states = text_to_states(plaintext)\n",
    "print(f\"Plaintext:  {plaintext}\")\n",
    "print(\"char_hex_states\")\n",
    "for i in range(len(char_hex_states)):\n",
    "    print(f\"State {i}\")\n",
    "    # print(state)\n",
    "    for row in range(4):\n",
    "        for col in range(4):\n",
    "            print(char_hex_states[i][row * 4 + col], end=' ')\n",
    "        print()\n",
    "    print()\n",
    "print(\"int_hex_states\")\n",
    "hex_states = text_to_states(plaintext, option= \"int value\")\n",
    "for i in range(len(hex_states)):\n",
    "    print(f\"State {i}\")\n",
    "    # print(state)\n",
    "    for row in range(4):\n",
    "        for col in range(4):\n",
    "            print(hex_states[i][row * 4 + col], end=' ')\n",
    "        print()\n",
    "    print()"
   ]
  },
  {
   "cell_type": "markdown",
   "metadata": {},
   "source": [
    "# State-> PlainText"
   ]
  },
  {
   "cell_type": "code",
   "execution_count": 9,
   "metadata": {
    "ExecuteTime": {
     "end_time": "2023-09-14T05:00:56.907307331Z",
     "start_time": "2023-09-14T05:00:56.884887360Z"
    }
   },
   "outputs": [
    {
     "name": "stdout",
     "output_type": "stream",
     "text": [
      "Hahocantoanthong\n"
     ]
    }
   ],
   "source": [
    "hex_states = [\n",
    "    0x48, 0x61, 0x68, 0x6f,\n",
    "    0x63, 0x61, 0x6e, 0x74,\n",
    "    0x6f, 0x61, 0x6e, 0x74,\n",
    "    0x68, 0x6f, 0x6e, 0x67\n",
    "]\n",
    "plaintext = states_to_text(hex_states)\n",
    "print(plaintext)"
   ]
  },
  {
   "cell_type": "markdown",
   "metadata": {},
   "source": [
    "# Subbytes"
   ]
  },
  {
   "cell_type": "code",
   "execution_count": 10,
   "metadata": {
    "ExecuteTime": {
     "end_time": "2023-09-14T05:00:58.108947618Z",
     "start_time": "2023-09-14T05:00:58.092992893Z"
    }
   },
   "outputs": [
    {
     "name": "stdout",
     "output_type": "stream",
     "text": [
      "State 0\n",
      "48 61 68 6f \n",
      "63 61 6e 74 \n",
      "6f 61 6e 74 \n",
      "68 6f 6e 67 \n",
      "\n",
      "State 1\n",
      "74 69 6e 20 \n",
      "20 20 20 20 \n",
      "20 20 20 20 \n",
      "20 20 20 20 \n"
     ]
    }
   ],
   "source": [
    "# plaintext='Khanhdeptrainhatquadat'\n",
    "# char_hex_states = text_to_states(plaintext)\n",
    "for i in range(len(char_hex_states)):\n",
    "    print(f\"State {i}\")\n",
    "    # print(state)\n",
    "    for row in range(4):\n",
    "        for col in range(4):\n",
    "            print(char_hex_states[i][row * 4 + col], end=' ')\n",
    "        print()\n",
    "    print()"
   ]
  },
  {
   "cell_type": "code",
   "execution_count": 11,
   "metadata": {
    "ExecuteTime": {
     "end_time": "2023-09-14T05:00:58.297062720Z",
     "start_time": "2023-09-14T05:00:58.286785501Z"
    }
   },
   "outputs": [
    {
     "name": "stdout",
     "output_type": "stream",
     "text": [
      "['52', 'ef', '45', 'a8', 'fb', 'ef', '9f', '92', 'a8', 'ef', '9f', '92', '45', 'a8', '9f', '85']\n",
      "52 ef 45 a8\n",
      "fb ef 9f 92\n",
      "a8 ef 9f 92\n",
      "45 a8 9f 85\n"
     ]
    }
   ],
   "source": [
    "sub_state = substitute_bytes(char_hex_states[0])\n",
    "print(sub_state, end = '')\n",
    "int_sub_state = [int(element, 16) for element in sub_state]\n",
    "int_sub_state\n",
    "print()\n",
    "for i in range(4):\n",
    "    print(\" \".join([f\"{int_sub_state[i*4+j]:02x}\" for j in range(4)]))"
   ]
  },
  {
   "cell_type": "markdown",
   "metadata": {},
   "source": [
    "#  Shift Row"
   ]
  },
  {
   "cell_type": "code",
   "execution_count": 12,
   "metadata": {
    "ExecuteTime": {
     "end_time": "2023-09-14T05:00:58.931288337Z",
     "start_time": "2023-09-14T05:00:58.927362607Z"
    }
   },
   "outputs": [
    {
     "name": "stdout",
     "output_type": "stream",
     "text": [
      "52 ef 45 a8\n",
      "ef 9f 92 fb\n",
      "9f 92 a8 ef\n",
      "85 45 a8 9f\n"
     ]
    }
   ],
   "source": [
    "shift_state = shift_rows(int_sub_state)\n",
    "for i in range(4):\n",
    "    print(\" \".join([f\"{shift_state[i*4+j]:02x}\" for j in range(4)]))"
   ]
  },
  {
   "cell_type": "code",
   "execution_count": 13,
   "metadata": {
    "ExecuteTime": {
     "end_time": "2023-09-14T05:00:59.395600537Z",
     "start_time": "2023-09-14T05:00:59.370182438Z"
    }
   },
   "outputs": [
    {
     "name": "stdout",
     "output_type": "stream",
     "text": [
      "4b 68 61 6e\n",
      "64 65 70 68\n",
      "61 69 74 72\n",
      "74 6e 68 61\n"
     ]
    }
   ],
   "source": [
    "# TEST TRUE FUNCTION\n",
    "matrix = [\n",
    "    0x4b, 0x68, 0x61, 0x6e,\n",
    "    0x68, 0x64, 0x65, 0x70,\n",
    "    0x74, 0x72, 0x61, 0x69,\n",
    "    0x6e, 0x68, 0x61, 0x74\n",
    "]\n",
    "\n",
    "shift_rows(matrix)\n",
    "\n",
    "for i in range(4):\n",
    "    print(\" \".join([f\"{matrix[i*4+j]:02x}\" for j in range(4)]))\n"
   ]
  },
  {
   "cell_type": "markdown",
   "metadata": {},
   "source": [
    "# Mix columns"
   ]
  },
  {
   "cell_type": "code",
   "execution_count": 14,
   "metadata": {
    "ExecuteTime": {
     "end_time": "2023-09-14T05:01:00.064400987Z",
     "start_time": "2023-09-14T05:01:00.060309505Z"
    }
   },
   "outputs": [
    {
     "name": "stdout",
     "output_type": "stream",
     "text": [
      "94 a8 27 2d\n",
      "a8 22 31 f0\n",
      "0c 80 7f 2c\n",
      "97 ad be d2\n"
     ]
    }
   ],
   "source": [
    "mix_state = mixColumns(shift_state)\n",
    "\n",
    "for i in range(4):\n",
    "    print(\" \".join([f\"{shift_state[i * 4 + j]:02x}\" for j in range(4)]))"
   ]
  },
  {
   "cell_type": "code",
   "execution_count": 15,
   "metadata": {
    "ExecuteTime": {
     "end_time": "2023-09-14T05:01:00.242274264Z",
     "start_time": "2023-09-14T05:01:00.230828320Z"
    }
   },
   "outputs": [
    {
     "name": "stdout",
     "output_type": "stream",
     "text": [
      "04 e0 48 28\n",
      "66 cb f8 06\n",
      "81 19 d3 26\n",
      "e5 9a 7a 4c\n"
     ]
    }
   ],
   "source": [
    "# TEST TRUE FUNCTION\n",
    "matrix = [\n",
    "    0xd4, 0xe0, 0xb8, 0x1e, \n",
    "    0xbf, 0xb4, 0x41, 0x27, \n",
    "    0x5d, 0x52, 0x11, 0x98, \n",
    "    0x30, 0xae, 0xf1, 0xe5\n",
    "]\n",
    "\n",
    "mixColumns(matrix)\n",
    "\n",
    "for i in range(4):\n",
    "    print(\" \".join([f\"{matrix[i * 4 + j]:02x}\" for j in range(4)]))"
   ]
  },
  {
   "cell_type": "markdown",
   "metadata": {},
   "source": [
    "# Add round key"
   ]
  },
  {
   "cell_type": "code",
   "execution_count": 16,
   "metadata": {
    "ExecuteTime": {
     "end_time": "2023-09-14T05:01:00.544249830Z",
     "start_time": "2023-09-14T05:01:00.533432529Z"
    }
   },
   "outputs": [
    {
     "name": "stdout",
     "output_type": "stream",
     "text": [
      "34 20 04 07\n",
      "52 76 92 9c\n",
      "f2 ac 46 5a\n",
      "80 1c 87 d7\n"
     ]
    }
   ],
   "source": [
    "key = [\n",
    "    0xa0, 0x88, 0x23, 0x2a,\n",
    "    0xfa, 0x54, 0xa3, 0x6c,\n",
    "    0xfe, 0x2c, 0x39, 0x76,\n",
    "    0x17, 0xb1, 0x39, 0x05\n",
    "]\n",
    "\n",
    "added_key = add_round_key(mix_state, key)\n",
    "for i in range(0, len(added_key), 4):\n",
    "    print(\" \".join([f\"{added_key[i + j]:02x}\" for j in range(4)]))"
   ]
  },
  {
   "cell_type": "code",
   "execution_count": 17,
   "metadata": {
    "ExecuteTime": {
     "end_time": "2023-09-14T05:01:00.702036367Z",
     "start_time": "2023-09-14T05:01:00.692895022Z"
    }
   },
   "outputs": [
    {
     "name": "stdout",
     "output_type": "stream",
     "text": [
      "a4 68 6b 02\n",
      "9c 9f 5b 6a\n",
      "7f 35 ea 50\n",
      "f2 2b 43 49\n"
     ]
    }
   ],
   "source": [
    "# TEST TRUE FUNCTION\n",
    "state = [\n",
    "    0x04, 0xe0, 0x48, 0x28,\n",
    "    0x66, 0xcb, 0xf8, 0x06,\n",
    "    0x81, 0x19, 0xd3, 0x26,\n",
    "    0xe5, 0x9a, 0x7a, 0x4c\n",
    "]\n",
    "\n",
    "key = [\n",
    "    0xa0, 0x88, 0x23, 0x2a,\n",
    "    0xfa, 0x54, 0xa3, 0x6c,\n",
    "    0xfe, 0x2c, 0x39, 0x76,\n",
    "    0x17, 0xb1, 0x39, 0x05\n",
    "]\n",
    "\n",
    "add_round_key(state, key)\n",
    "\n",
    "for i in range(0, len(state), 4):\n",
    "    print(\" \".join([f\"{state[i + j]:02x}\" for j in range(4)]))"
   ]
  },
  {
   "cell_type": "markdown",
   "metadata": {},
   "source": [
    "# Key schedule"
   ]
  },
  {
   "cell_type": "code",
   "execution_count": 18,
   "metadata": {
    "ExecuteTime": {
     "end_time": "2023-09-14T05:01:01.007491471Z",
     "start_time": "2023-09-14T05:01:01.002356339Z"
    }
   },
   "outputs": [],
   "source": [
    "# def expandKey(cipherKey, key_length, rounds):\n",
    "#     expandedKeySize = 16 * (rounds + 1)\n",
    "#     expandedKey = [0] * expandedKeySize\n",
    "#     currentSize = 0\n",
    "#     rconIter = 1\n",
    "#     t = [0] * 4\n",
    "\n",
    "#     for i in range(key_length):\n",
    "#         expandedKey[i] = cipherKey[i]\n",
    "#     currentSize += key_length\n",
    "\n",
    "#     while currentSize < expandedKeySize:\n",
    "#         for i in range(4):\n",
    "#             t[i] = expandedKey[currentSize - 4 + i]\n",
    "#         if currentSize % key_length == 0:\n",
    "#             t = keyScheduleCore(t, rconIter)\n",
    "#             rconIter += 1\n",
    "#         if key_length == 32 and currentSize % key_length == 16:\n",
    "#             for i in range(4):\n",
    "#                 t[i] = sbox[t[i]]\n",
    "#         for i in range(4):\n",
    "#             expandedKey[currentSize] = expandedKey[currentSize - key_length] ^ t[i]\n",
    "#             currentSize += 1\n",
    "\n",
    "#     return expandedKey\n",
    "# expanded_key = expandKey(key, 176, 10)\n",
    "def convert_bstring_to_bin(bstring):\n",
    "  bin_str = \"\"\n",
    "  for char in bstring:\n",
    "    bin_str += bin(ord(char))[2:] + ' '\n",
    "  return bin_str\n",
    "\n",
    "\n",
    "# print(convert_bstring_to_bin('1234'))\n"
   ]
  },
  {
   "cell_type": "code",
   "execution_count": 19,
   "metadata": {
    "ExecuteTime": {
     "end_time": "2023-09-14T05:01:01.548119169Z",
     "start_time": "2023-09-14T05:01:01.536245923Z"
    }
   },
   "outputs": [
    {
     "name": "stdout",
     "output_type": "stream",
     "text": [
      "[43, 126, 21, 22, 40, 174, 210, 166, 171, 247, 21, 136, 9, 207, 79, 60]\n",
      "240\n",
      "Expanded key: [43, 126, 21, 22, 40, 174, 210, 166, 171, 247, 21, 136, 9, 207, 79, 60, 160, 250, 254, 23, 136, 84, 44, 177, 35, 163, 57, 57, 42, 108, 118, 5, 242, 194, 149, 242, 122, 150, 185, 67, 89, 53, 128, 122, 115, 89, 246, 127, 61, 128, 71, 125, 71, 22, 254, 62, 30, 35, 126, 68, 109, 122, 136, 59, 239, 68, 165, 65, 168, 82, 91, 127, 182, 113, 37, 59, 219, 11, 173, 0, 212, 209, 198, 248, 124, 131, 157, 135, 202, 242, 184, 188, 17, 249, 21, 188, 109, 136, 163, 122, 17, 11, 62, 253, 219, 249, 134, 65, 202, 0, 147, 253, 78, 84, 247, 14, 95, 95, 201, 243, 132, 166, 79, 178, 78, 166, 220, 79, 234, 210, 115, 33, 181, 141, 186, 210, 49, 43, 245, 96, 127, 141, 41, 47, 172, 119, 102, 243, 25, 250, 220, 33, 40, 209, 41, 65, 87, 92, 0, 110, 208, 20, 249, 168, 201, 238, 37, 137, 225, 63, 12, 200, 182, 99, 12, 166, 71, 234, 221, 230, 142, 4, 248, 111, 111, 59, 244, 167, 217, 88, 248, 1, 245, 171, 161, 211, 123, 175, 89, 188, 20, 148, 173, 27, 205, 204, 85, 26, 21, 87, 3, 110, 110, 248, 90, 210, 122, 108, 247, 201, 183, 160, 162, 211, 184, 109, 101, 199, 214, 149, 63, 21, 172, 249, 200, 220, 27, 89, 106, 15]\n",
      "\n",
      "Hex values:\n",
      "2b 28 ab 09 a0 88 23 2a f2 7a 59 73 3d 47 1e \n",
      "7e ae f7 cf fa 54 a3 6c c2 96 35 59 80 16 23 \n",
      "15 d2 15 4f fe 2c 39 76 95 b9 80 f6 47 fe 7e \n",
      "16 a6 88 3c 17 b1 39 05 f2 43 7a 7f 7d 3e 44 \n",
      "\n",
      "Integer values:\n",
      "43 40 171 9 160 136 35 42 242 122 89 115 61 71 30 \n",
      "126 174 247 207 250 84 163 108 194 150 53 89 128 22 35 \n",
      "21 210 21 79 254 44 57 118 149 185 128 246 71 254 126 \n",
      "22 166 136 60 23 177 57 5 242 67 122 127 125 62 68 \n",
      "\n",
      "Bit values:\n",
      "101011 1111110 10101 10110 101000 10101110 11010010 10100110 10101011 11110111 10101 10001000 1001 11001111 1001111 111100 10100000 11111010 11111110 10111 10001000 1010100 101100 10110001 100011 10100011 111001 111001 101010 1101100 1110110 101 11110010 11000010 10010101 11110010 1111010 10010110 10111001 1000011 1011001 110101 10000000 1111010 1110011 1011001 11110110 1111111 111101 10000000 1000111 1111101 1000111 10110 11111110 111110 11110 100011 1111110 1000100 1101101 1111010 10001000 111011 11101111 1000100 10100101 1000001 10101000 1010010 1011011 1111111 10110110 1110001 100101 111011 11011011 1011 10101101 0 11010100 11010001 11000110 11111000 1111100 10000011 10011101 10000111 11001010 11110010 10111000 10111100 10001 11111001 10101 10111100 1101101 10001000 10100011 1111010 10001 1011 111110 11111101 11011011 11111001 10000110 1000001 11001010 0 10010011 11111101 1001110 1010100 11110111 1110 1011111 1011111 11001001 11110011 10000100 10100110 1001111 10110010 1001110 10100110 11011100 1001111 11101010 11010010 1110011 100001 10110101 10001101 10111010 11010010 110001 101011 11110101 1100000 1111111 10001101 101001 101111 10101100 1110111 1100110 11110011 11001 11111010 11011100 100001 101000 11010001 101001 1000001 1010111 1011100 0 1101110 11010000 10100 11111001 10101000 11001001 11101110 100101 10001001 11100001 111111 1100 11001000 10110110 1100011 1100 10100110 1000111 11101010 11011101 11100110 10001110 100 11111000 1101111 1101111 111011 11110100 10100111 11011001 1011000 11111000 1 11110101 10101011 10100001 11010011 1111011 10101111 1011001 10111100 10100 10010100 10101101 11011 11001101 11001100 1010101 11010 10101 1010111 11 1101110 1101110 11111000 1011010 11010010 1111010 1101100 11110111 11001001 10110111 10100000 10100010 11010011 10111000 1101101 1100101 11000111 11010110 10010101 111111 10101 10101100 11111001 11001000 11011100 11011 1011001 1101010 1111 \n"
     ]
    }
   ],
   "source": [
    "key = [\n",
    "    0x2b, 0x7e, 0x15, 0x16,\n",
    "    0x28, 0xae, 0xd2, 0xa6,\n",
    "    0xab, 0xf7, 0x15, 0x88,\n",
    "    0x09, 0xcf, 0x4f, 0x3c\n",
    "]\n",
    "print(key)\n",
    "expanded_key = expandKey(key, key_length=240)\n",
    "print(len(expanded_key))\n",
    "print(f\"Expanded key: {expanded_key}\")\n",
    "print()\n",
    "print(\"Hex values:\")\n",
    "for j in range(4):\n",
    "    for i in range(15):\n",
    "        print(f\"{expanded_key[i * 4 + j]:02x}\", end=\" \")\n",
    "    print()\n",
    "print()\n",
    "print(\"Integer values:\")\n",
    "for j in range(4):\n",
    "    for i in range(15):\n",
    "        print(f\"{expanded_key[i * 4 + j]}\", end=\" \")\n",
    "    print()\n",
    "print()\n",
    "print(\"Bit values:\")\n",
    "print(convert_bstring_to_bin(states_to_text(expanded_key)))\n"
   ]
  },
  {
   "cell_type": "code",
   "execution_count": 20,
   "metadata": {
    "ExecuteTime": {
     "end_time": "2023-09-14T05:01:02.470712232Z",
     "start_time": "2023-09-14T05:01:02.466258730Z"
    }
   },
   "outputs": [
    {
     "name": "stdout",
     "output_type": "stream",
     "text": [
      "2b 28 ab 09 a0 88 23 2a f2 7a 59 73 3d 47 1e 6d ef a8 b6 db d4 7c ca 11 6d 11 db ca 4e 5f 84 4e ea b5 31 7f ac 19 28 57 d0 c9 e1 b6 47 8e 6f d9 f5 7b 14 cd 15 6e 7a b7 b8 d6 ac 1b \n"
     ]
    }
   ],
   "source": [
    "for j in range(1):\n",
    "    for i in range(60):\n",
    "        print(f\"{expanded_key[i * 4 + j]:02x}\", end=\" \")\n",
    "    print()"
   ]
  },
  {
   "cell_type": "code",
   "execution_count": 21,
   "metadata": {
    "ExecuteTime": {
     "end_time": "2023-09-14T05:01:02.685601986Z",
     "start_time": "2023-09-14T05:01:02.672172682Z"
    }
   },
   "outputs": [
    {
     "name": "stdout",
     "output_type": "stream",
     "text": [
      "[43, 126, 21, 22, 40, 174, 210, 166, 171, 247, 21, 136, 9, 207, 79, 60, 160, 250, 254, 23, 136, 84, 44, 177, 35, 163, 57, 57, 42, 108, 118, 5, 242, 194, 149, 242, 122, 150, 185, 67, 89, 53, 128, 122, 115, 89, 246, 127, 61, 128, 71, 125, 71, 22, 254, 62, 30, 35, 126, 68, 109, 122, 136, 59, 239, 68, 165, 65, 168, 82, 91, 127, 182, 113, 37, 59, 219, 11, 173, 0, 212, 209, 198, 248, 124, 131, 157, 135, 202, 242, 184, 188, 17, 249, 21, 188, 109, 136, 163, 122, 17, 11, 62, 253, 219, 249, 134, 65, 202, 0, 147, 253, 78, 84, 247, 14, 95, 95, 201, 243, 132, 166, 79, 178, 78, 166, 220, 79, 234, 210, 115, 33, 181, 141, 186, 210, 49, 43, 245, 96, 127, 141, 41, 47, 172, 119, 102, 243, 25, 250, 220, 33, 40, 209, 41, 65, 87, 92, 0, 110, 208, 20, 249, 168, 201, 238, 37, 137, 225, 63, 12, 200, 182, 99, 12, 166, 71, 234, 221, 230, 142, 4, 248, 111, 111, 59, 244, 167, 217, 88, 248, 1, 245, 171, 161, 211, 123, 175, 89, 188, 20, 148, 173, 27, 205, 204, 85, 26, 21, 87, 3, 110, 110, 248, 90, 210, 122, 108, 247, 201, 183, 160, 162, 211, 184, 109, 101, 199, 214, 149, 63, 21, 172, 249, 200, 220, 27, 89, 106, 15]\n"
     ]
    }
   ],
   "source": [
    "print(expanded_key)"
   ]
  },
  {
   "cell_type": "markdown",
   "metadata": {},
   "source": [
    "# EnCriptor"
   ]
  },
  {
   "cell_type": "code",
   "execution_count": 22,
   "metadata": {
    "ExecuteTime": {
     "end_time": "2023-09-14T05:01:03.315003409Z",
     "start_time": "2023-09-14T05:01:03.306152402Z"
    }
   },
   "outputs": [],
   "source": [
    "def encryptBlock(state, roundKeys):\n",
    "    roundKeyIndex = 0\n",
    "    print(state)\n",
    "    add_round_key(state, roundKeys[:16])\n",
    "    print(state)\n",
    "    for round in range(1, 10):\n",
    "        substitute_bytes(state)\n",
    "        print(state)\n",
    "        state = [int(element, 16) for element in sub_state]\n",
    "        print(state)\n",
    "        shift_rows(state)\n",
    "        print(state)\n",
    "        mixColumns(state)\n",
    "        print(state)\n",
    "        add_round_key(state, roundKeys[roundKeyIndex + 16:roundKeyIndex + 32])\n",
    "        print(state)\n",
    "        roundKeyIndex += 16\n",
    "\n",
    "    substitute_bytes(state)\n",
    "    shift_rows(state)\n",
    "    add_round_key(state, roundKeys[160:])\n",
    "\n",
    "    # Chuyển đổi trạng thái trở lại dạng hex\n",
    "    state = [format(byte, '02x') for byte in state]\n",
    "    \n",
    "    return state"
   ]
  },
  {
   "cell_type": "code",
   "execution_count": 23,
   "metadata": {
    "ExecuteTime": {
     "end_time": "2023-09-14T05:01:03.546334247Z",
     "start_time": "2023-09-14T05:01:03.487445220Z"
    }
   },
   "outputs": [
    {
     "ename": "TypeError",
     "evalue": "list indices must be integers or slices, not list",
     "output_type": "error",
     "traceback": [
      "\u001b[0;31m---------------------------------------------------------------------------\u001b[0m",
      "\u001b[0;31mTypeError\u001b[0m                                 Traceback (most recent call last)",
      "Cell \u001b[0;32mIn[23], line 19\u001b[0m\n\u001b[1;32m     16\u001b[0m plaintext \u001b[38;5;241m=\u001b[39m \u001b[38;5;124m\"\u001b[39m\u001b[38;5;124m0123456789abcdeffedcba9876543210\u001b[39m\u001b[38;5;124m\"\u001b[39m\n\u001b[1;32m     17\u001b[0m key \u001b[38;5;241m=\u001b[39m \u001b[38;5;124m\"\u001b[39m\u001b[38;5;124m0f1571c947d9e8590cb7add6af7f6798\u001b[39m\u001b[38;5;124m\"\u001b[39m\n\u001b[0;32m---> 19\u001b[0m ciphertext \u001b[38;5;241m=\u001b[39m \u001b[43mencrypt\u001b[49m\u001b[43m(\u001b[49m\u001b[43mplaintext\u001b[49m\u001b[43m,\u001b[49m\u001b[43m \u001b[49m\u001b[43mkey\u001b[49m\u001b[43m,\u001b[49m\u001b[43m \u001b[49m\u001b[43mkey_length\u001b[49m\u001b[38;5;241;43m=\u001b[39;49m\u001b[38;5;241;43m16\u001b[39;49m\u001b[43m)\u001b[49m\n\u001b[1;32m     20\u001b[0m \u001b[38;5;28mprint\u001b[39m(\u001b[38;5;124m\"\u001b[39m\u001b[38;5;124mMã hóa:\u001b[39m\u001b[38;5;124m\"\u001b[39m, ciphertext)\n",
      "Cell \u001b[0;32mIn[23], line 3\u001b[0m, in \u001b[0;36mencrypt\u001b[0;34m(plaintext, cipherKey, key_length)\u001b[0m\n\u001b[1;32m      1\u001b[0m \u001b[38;5;28;01mdef\u001b[39;00m \u001b[38;5;21mencrypt\u001b[39m(plaintext, cipherKey, key_length\u001b[38;5;241m=\u001b[39m\u001b[38;5;241m176\u001b[39m):\n\u001b[1;32m      2\u001b[0m     cipherKey \u001b[38;5;241m=\u001b[39m text_to_states(cipherKey, option\u001b[38;5;241m=\u001b[39m\u001b[38;5;124m\"\u001b[39m\u001b[38;5;124mint\u001b[39m\u001b[38;5;124m\"\u001b[39m)\n\u001b[0;32m----> 3\u001b[0m     expandedKey \u001b[38;5;241m=\u001b[39m \u001b[43mexpandKey\u001b[49m\u001b[43m(\u001b[49m\u001b[43mcipherKey\u001b[49m\u001b[43m,\u001b[49m\u001b[43m \u001b[49m\u001b[43mkey_length\u001b[49m\u001b[43m)\u001b[49m\n\u001b[1;32m      4\u001b[0m     visualize \u001b[38;5;241m=\u001b[39m text_to_states(plaintext)\n\u001b[1;32m      5\u001b[0m     states \u001b[38;5;241m=\u001b[39m text_to_states(plaintext, option\u001b[38;5;241m=\u001b[39m\u001b[38;5;124m\"\u001b[39m\u001b[38;5;124mint\u001b[39m\u001b[38;5;124m\"\u001b[39m)\n",
      "File \u001b[0;32m~/Uni/Cryptography-and-network-security/AES/utils.py:21\u001b[0m, in \u001b[0;36mexpandKey\u001b[0;34m(cipherKey, key_length)\u001b[0m\n\u001b[1;32m     19\u001b[0m     t[i] \u001b[38;5;241m=\u001b[39m expandedKey[currentSize \u001b[38;5;241m-\u001b[39m \u001b[38;5;241m4\u001b[39m \u001b[38;5;241m+\u001b[39m i]\n\u001b[1;32m     20\u001b[0m \u001b[38;5;28;01mif\u001b[39;00m currentSize \u001b[38;5;241m%\u001b[39m \u001b[38;5;28mlen\u001b[39m(cipherKey) \u001b[38;5;241m==\u001b[39m \u001b[38;5;241m0\u001b[39m:\n\u001b[0;32m---> 21\u001b[0m     t \u001b[38;5;241m=\u001b[39m \u001b[43mkeyScheduleCore\u001b[49m\u001b[43m(\u001b[49m\u001b[43mt\u001b[49m\u001b[43m,\u001b[49m\u001b[43m \u001b[49m\u001b[43mrconIter\u001b[49m\u001b[43m)\u001b[49m\n\u001b[1;32m     22\u001b[0m     rconIter \u001b[38;5;241m+\u001b[39m\u001b[38;5;241m=\u001b[39m \u001b[38;5;241m1\u001b[39m\n\u001b[1;32m     23\u001b[0m \u001b[38;5;28;01mfor\u001b[39;00m i \u001b[38;5;129;01min\u001b[39;00m \u001b[38;5;28mrange\u001b[39m(\u001b[38;5;241m4\u001b[39m):\n",
      "File \u001b[0;32m~/Uni/Cryptography-and-network-security/AES/utils.py:8\u001b[0m, in \u001b[0;36mkeyScheduleCore\u001b[0;34m(word, i)\u001b[0m\n\u001b[1;32m      6\u001b[0m newWord \u001b[38;5;241m=\u001b[39m []\n\u001b[1;32m      7\u001b[0m \u001b[38;5;28;01mfor\u001b[39;00m byte \u001b[38;5;129;01min\u001b[39;00m word:\n\u001b[0;32m----> 8\u001b[0m     newWord\u001b[38;5;241m.\u001b[39mappend(\u001b[43msbox\u001b[49m\u001b[43m[\u001b[49m\u001b[43mbyte\u001b[49m\u001b[43m]\u001b[49m)\n\u001b[1;32m      9\u001b[0m newWord[\u001b[38;5;241m0\u001b[39m] \u001b[38;5;241m=\u001b[39m newWord[\u001b[38;5;241m0\u001b[39m] \u001b[38;5;241m^\u001b[39m rcon[i]\n\u001b[1;32m     10\u001b[0m \u001b[38;5;28;01mreturn\u001b[39;00m newWord\n",
      "\u001b[0;31mTypeError\u001b[0m: list indices must be integers or slices, not list"
     ]
    }
   ],
   "source": [
    "def encrypt(plaintext, cipherKey, key_length=176):\n",
    "    cipherKey = text_to_states(cipherKey, option=\"int\")\n",
    "    expandedKey = expandKey(cipherKey, key_length)\n",
    "    visualize = text_to_states(plaintext)\n",
    "    states = text_to_states(plaintext, option=\"int\")\n",
    "    # print(states)\n",
    "    # print (cipherKey)\n",
    "    ciphertext = []\n",
    "\n",
    "    for state in states:\n",
    "        state = encryptBlock(state, expandedKey)\n",
    "        ciphertext.extend(state)\n",
    "\n",
    "    return \"\".join(ciphertext)\n",
    "\n",
    "plaintext = \"0123456789abcdeffedcba9876543210\"\n",
    "key = \"0f1571c947d9e8590cb7add6af7f6798\"\n",
    "\n",
    "ciphertext = encrypt(plaintext, key, key_length=16)\n",
    "print(\"Mã hóa:\", ciphertext)\n"
   ]
  },
  {
   "cell_type": "code",
   "execution_count": 24,
   "metadata": {
    "ExecuteTime": {
     "end_time": "2023-09-14T05:01:03.697901057Z",
     "start_time": "2023-09-14T05:01:03.652492556Z"
    }
   },
   "outputs": [
    {
     "name": "stdout",
     "output_type": "stream",
     "text": [
      "2b 28 ab 09 a0 88 23 2a f2 7a 59 73 3d 47 1e 6d ef a8 b6 db d4 7c ca 11 6d 11 db ca 4e 5f 84 4e ea b5 31 7f ac 19 28 57 d0 c9 e1 b6 \n",
      "7e ae f7 cf fa 54 a3 6c c2 96 35 59 80 16 23 7a 44 52 71 0b d1 83 f2 f9 88 0b f9 00 54 5f a6 a6 d2 8d 2b 8d 77 fa d1 5c 14 ee 3f 63 \n",
      "15 d2 15 4f fe 2c 39 76 95 b9 80 f6 47 fe 7e 88 a5 5b 25 ad c6 9d b8 15 a3 3e 86 93 f7 c9 4f dc 73 ba f5 29 66 dc 29 00 f9 25 0c 0c \n",
      "16 a6 88 3c 17 b1 39 05 f2 43 7a 7f 7d 3e 44 3b 41 7f 3b 00 f8 87 bc bc 7a fd 41 fd 0e f3 b2 4f 21 d2 60 2f f3 21 41 6e a8 89 c8 a6 \n"
     ]
    }
   ],
   "source": [
    "cipherKey = cvrt_hex(\"0f1571c947d9e8590cb7add6af7f6798\")\n",
    "# for i in range(len(cipherKey)):\n",
    "#     print(cipherKey[i])\n",
    "expandedKey = expandKey(cipherKey, key_length = 176)\n",
    "for j in range(4):\n",
    "    for i in range(44):\n",
    "        print(f\"{expanded_key[i * 4 + j]:02x}\", end=\" \")\n",
    "    print()"
   ]
  },
  {
   "cell_type": "code",
   "execution_count": null,
   "metadata": {},
   "outputs": [
    {
     "data": {
      "text/plain": [
       "[[48, 49, 50, 51, 52, 53, 54, 55, 56, 57, 97, 98, 99, 100, 101, 102],\n",
       " [102, 101, 100, 99, 98, 97, 57, 56, 55, 54, 53, 52, 51, 50, 49, 48]]"
      ]
     },
     "execution_count": 21,
     "metadata": {},
     "output_type": "execute_result"
    }
   ],
   "source": [
    "states = text_to_states(\"0123456789abcdeffedcba9876543210\", option=\"int\")\n",
    "states"
   ]
  },
  {
   "cell_type": "code",
   "execution_count": null,
   "metadata": {},
   "outputs": [
    {
     "name": "stdout",
     "output_type": "stream",
     "text": [
      "[164, 104, 107, 2, 156, 159, 91, 106, 127, 53, 234, 80, 242, 43, 67, 73]\n",
      "[148, 14, 90, 55, 171, 174, 56, 83, 75, 2, 142, 105, 151, 19, 118, 112]\n"
     ]
    },
    {
     "ename": "TypeError",
     "evalue": "int() can't convert non-string with explicit base",
     "output_type": "error",
     "traceback": [
      "\u001b[0;31m---------------------------------------------------------------------------\u001b[0m",
      "\u001b[0;31mTypeError\u001b[0m                                 Traceback (most recent call last)",
      "Cell \u001b[0;32mIn[22], line 2\u001b[0m\n\u001b[1;32m      1\u001b[0m ciphertext \u001b[39m=\u001b[39m []\n\u001b[0;32m----> 2\u001b[0m state \u001b[39m=\u001b[39m encryptBlock(state, expandedKey)\n\u001b[1;32m      3\u001b[0m ciphertext\u001b[39m.\u001b[39mextend(state)\n",
      "Cell \u001b[0;32mIn[17], line 7\u001b[0m, in \u001b[0;36mencryptBlock\u001b[0;34m(state, roundKeys)\u001b[0m\n\u001b[1;32m      5\u001b[0m \u001b[39mprint\u001b[39m(state)\n\u001b[1;32m      6\u001b[0m \u001b[39mfor\u001b[39;00m \u001b[39mround\u001b[39m \u001b[39min\u001b[39;00m \u001b[39mrange\u001b[39m(\u001b[39m1\u001b[39m, \u001b[39m10\u001b[39m):\n\u001b[0;32m----> 7\u001b[0m     substitute_bytes(state)\n\u001b[1;32m      8\u001b[0m     \u001b[39mprint\u001b[39m(state)\n\u001b[1;32m      9\u001b[0m     state \u001b[39m=\u001b[39m [\u001b[39mint\u001b[39m(element, \u001b[39m16\u001b[39m) \u001b[39mfor\u001b[39;00m element \u001b[39min\u001b[39;00m sub_state]\n",
      "File \u001b[0;32m~/Uni/Cryptography-and-network-security/AES/utils.py:32\u001b[0m, in \u001b[0;36msubstitute_bytes\u001b[0;34m(state)\u001b[0m\n\u001b[1;32m     30\u001b[0m result_hex \u001b[39m=\u001b[39m []\n\u001b[1;32m     31\u001b[0m \u001b[39mfor\u001b[39;00m byte_hex \u001b[39min\u001b[39;00m state:\n\u001b[0;32m---> 32\u001b[0m     byte_int \u001b[39m=\u001b[39m \u001b[39mint\u001b[39;49m(byte_hex, \u001b[39m16\u001b[39;49m)\n\u001b[1;32m     33\u001b[0m     substituted_byte \u001b[39m=\u001b[39m sbox[byte_int]\n\u001b[1;32m     34\u001b[0m     result_hex\u001b[39m.\u001b[39mappend(\u001b[39mformat\u001b[39m(substituted_byte, \u001b[39m'\u001b[39m\u001b[39m02x\u001b[39m\u001b[39m'\u001b[39m))  \n",
      "\u001b[0;31mTypeError\u001b[0m: int() can't convert non-string with explicit base"
     ]
    }
   ],
   "source": [
    "ciphertext = []\n",
    "state = encryptBlock(state, expandedKey)\n",
    "ciphertext.extend(state)"
   ]
  },
  {
   "cell_type": "code",
   "execution_count": null,
   "metadata": {},
   "outputs": [],
   "source": [
    "def convert_bstring_to_bin(bstring):\n",
    "  bin_str = \"\"\n",
    "  for char in bstring:\n",
    "    bin_str += bin(ord(char))[2:] + ' '\n",
    "  return bin_str\n",
    "\n",
    "\n",
    "print(convert_bstring_to_bin('1234'))\n"
   ]
  }
 ],
 "metadata": {
  "kernelspec": {
   "display_name": "Python 3 (ipykernel)",
   "language": "python",
   "name": "python3"
  },
  "language_info": {
   "codemirror_mode": {
    "name": "ipython",
    "version": 3
   },
   "file_extension": ".py",
   "mimetype": "text/x-python",
   "name": "python",
   "nbconvert_exporter": "python",
   "pygments_lexer": "ipython3",
   "version": "3.10.9"
  }
 },
 "nbformat": 4,
 "nbformat_minor": 2
}
