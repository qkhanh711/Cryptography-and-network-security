{
 "cells": [
  {
   "cell_type": "markdown",
   "metadata": {},
   "source": [
    "# Encrypt = Decruft"
   ]
  },
  {
   "cell_type": "code",
   "execution_count": 4,
   "metadata": {},
   "outputs": [
    {
     "name": "stdout",
     "output_type": "stream",
     "text": [
      "comxmanderinchiefxflexettonavalheadquarters\n"
     ]
    }
   ],
   "source": [
    "def process_text(plaintext):\n",
    "    temp = plaintext\n",
    "    if len(temp) % 2 == 1:\n",
    "        temp += 'x'\n",
    "\n",
    "    i = 0\n",
    "    while i < len(temp) - 1:\n",
    "        if temp[i] == temp[i + 1]:\n",
    "\n",
    "            temp = temp[:i+1] + 'x' + temp[i+1:]\n",
    "        i += 2\n",
    "    return temp\n",
    "\n",
    "plaintext = \"commanderinchieffleettonavalheadquarters\"\n",
    "processed_text = process_text(plaintext)\n",
    "print(processed_text)\n"
   ]
  },
  {
   "cell_type": "code",
   "execution_count": 5,
   "metadata": {},
   "outputs": [
    {
     "name": "stdout",
     "output_type": "stream",
     "text": [
      "computerabdfghiklnqsvwxyz\n",
      "['co', 'mx', 'mu', 'ni', 'ca', 'te', 'xx']\n",
      "omrmpcsgpteryy\n",
      "computerabdfghiklnqsvwxyz\n",
      "['om', 'rm', 'pc', 'sg', 'pt', 'er', 'yx', 'yx']\n",
      "comxmunicatexwxw\n"
     ]
    }
   ],
   "source": [
    "def playfair_cipher(plaintext, key, mode):\n",
    "    alphabet = 'abcdefghiklmnopqrstuvwxyz'\n",
    "    key = key.lower().replace(' ', '').replace('j', 'i')\n",
    "    \n",
    "    key_square = ''\n",
    "    for letter in key + alphabet:\n",
    "        if letter not in key_square:\n",
    "            key_square += letter\n",
    "    print(key_square)\n",
    "\n",
    "    plaintext = plaintext.lower().replace(' ', '').replace('j', 'i')\n",
    "    plaintext = process_text(plaintext)\n",
    "    # print(plaintext)\n",
    "    if len(plaintext) % 2 == 1:\n",
    "        plaintext += 'x'\n",
    "    digraphs = [plaintext[i:i+2] for i in range(0, len(plaintext), 2)]\n",
    "    print(digraphs)\n",
    "\n",
    "\n",
    "    def encrypt(digraph):\n",
    "        a, b = digraph\n",
    "        row_a, col_a = divmod(key_square.index(a), 5)\n",
    "        row_b, col_b = divmod(key_square.index(b), 5)\n",
    "        if row_a == row_b:\n",
    "            col_a = (col_a + 1) % 5\n",
    "            col_b = (col_b + 1) % 5\n",
    "        elif col_a == col_b:\n",
    "            row_a = (row_a + 1) % 5\n",
    "            row_b = (row_b + 1) % 5\n",
    "        else:\n",
    "            col_a, col_b = col_b, col_a\n",
    "        return key_square[row_a*5+col_a] + key_square[row_b*5+col_b]\n",
    "    \n",
    "    def decrypt(digraph):\n",
    "        a, b = digraph\n",
    "        row_a, col_a = divmod(key_square.index(a), 5)\n",
    "        row_b, col_b = divmod(key_square.index(b), 5)\n",
    "        if row_a == row_b:\n",
    "            col_a = (col_a - 1) % 5\n",
    "            col_b = (col_b - 1) % 5\n",
    "        elif col_a == col_b:\n",
    "            row_a = (row_a - 1) % 5\n",
    "            row_b = (row_b - 1) % 5\n",
    "        else:\n",
    "            col_a, col_b = col_b, col_a\n",
    "        return key_square[row_a*5+col_a] + key_square[row_b*5+col_b]\n",
    "    \n",
    "    result = ''\n",
    "    for digraph in digraphs:\n",
    "        if mode == 'encrypt':\n",
    "            result += encrypt(digraph)\n",
    "        elif mode == 'decrypt':\n",
    "            result += decrypt(digraph)\n",
    "\n",
    "    return result\n",
    "\n",
    "plaintext = 'COMMUNICATE'\n",
    "key = 'COMPUTER'\n",
    "ciphertext = playfair_cipher(plaintext, key, 'encrypt')\n",
    "print(ciphertext)\n",
    "decrypted_text = playfair_cipher(ciphertext, key, 'decrypt')\n",
    "print(decrypted_text) \n"
   ]
  },
  {
   "cell_type": "markdown",
   "metadata": {},
   "source": [
    "# Crack"
   ]
  },
  {
   "cell_type": "code",
   "execution_count": 1,
   "metadata": {},
   "outputs": [
    {
     "ename": "NameError",
     "evalue": "name 'process_text' is not defined",
     "output_type": "error",
     "traceback": [
      "\u001b[0;31m---------------------------------------------------------------------------\u001b[0m",
      "\u001b[0;31mNameError\u001b[0m                                 Traceback (most recent call last)",
      "Cell \u001b[0;32mIn[1], line 45\u001b[0m\n\u001b[1;32m     43\u001b[0m \u001b[39m# Example usage:\u001b[39;00m\n\u001b[1;32m     44\u001b[0m ciphertext \u001b[39m=\u001b[39m \u001b[39m'\u001b[39m\u001b[39mbpnnekhvfmkhbnfaviffootivrvknhvcoxvezhgy\u001b[39m\u001b[39m'\u001b[39m\n\u001b[0;32m---> 45\u001b[0m crack_playfair_cipher(ciphertext)\n",
      "Cell \u001b[0;32mIn[1], line 35\u001b[0m, in \u001b[0;36mcrack_playfair_cipher\u001b[0;34m(ciphertext)\u001b[0m\n\u001b[1;32m     33\u001b[0m plaintext \u001b[39m=\u001b[39m \u001b[39m\"\u001b[39m\u001b[39m\"\u001b[39m\n\u001b[1;32m     34\u001b[0m ciphertext \u001b[39m=\u001b[39m ciphertext\u001b[39m.\u001b[39mlower()\u001b[39m.\u001b[39mreplace(\u001b[39m'\u001b[39m\u001b[39m \u001b[39m\u001b[39m'\u001b[39m, \u001b[39m'\u001b[39m\u001b[39m'\u001b[39m)\u001b[39m.\u001b[39mreplace(\u001b[39m'\u001b[39m\u001b[39mj\u001b[39m\u001b[39m'\u001b[39m, \u001b[39m'\u001b[39m\u001b[39mi\u001b[39m\u001b[39m'\u001b[39m)\n\u001b[0;32m---> 35\u001b[0m ciphertext \u001b[39m=\u001b[39m process_text(ciphertext)\n\u001b[1;32m     36\u001b[0m digraphs \u001b[39m=\u001b[39m [ciphertext[i:i\u001b[39m+\u001b[39m\u001b[39m2\u001b[39m] \u001b[39mfor\u001b[39;00m i \u001b[39min\u001b[39;00m \u001b[39mrange\u001b[39m(\u001b[39m0\u001b[39m, \u001b[39mlen\u001b[39m(ciphertext), \u001b[39m2\u001b[39m)]\n\u001b[1;32m     38\u001b[0m \u001b[39mfor\u001b[39;00m digraph \u001b[39min\u001b[39;00m digraphs:\n",
      "\u001b[0;31mNameError\u001b[0m: name 'process_text' is not defined"
     ]
    }
   ],
   "source": [
    "from itertools import permutations\n",
    "def crack_playfair_cipher(ciphertext):\n",
    "    alphabet = 'abcdefghiklmnopqrstuvwxyz'\n",
    "    def decrypt(digraph, key):\n",
    "        key_square = ''\n",
    "        for letter in key + alphabet:\n",
    "            if letter not in key_square:\n",
    "                key_square += letter\n",
    "\n",
    "        if len(digraph) == 2:\n",
    "            a, b = digraph\n",
    "            row_a, col_a = divmod(key_square.index(a), 5)\n",
    "            row_b, col_b = divmod(key_square.index(b), 5)\n",
    "            if row_a == row_b:\n",
    "                col_a = (col_a - 1) % 5\n",
    "                col_b = (col_b - 1) % 5\n",
    "            elif col_a == col_b:\n",
    "                row_a = (row_a - 1) % 5\n",
    "                row_b = (row_b - 1) % 5\n",
    "            else:\n",
    "                col_a, col_b = col_b, col_a\n",
    "            return key_square[row_a*5+col_a] + key_square[row_b*5+col_b]\n",
    "        else:\n",
    "            # If there's only one character left, just return it\n",
    "            return digraph\n",
    "\n",
    "    # for key_length in range(1, 26):\n",
    "    key_length = 5\n",
    "    # Generate all possible keys of the given length\n",
    "    possible_keys = [\"\".join(key) for key in permutations(alphabet, key_length)]\n",
    "    \n",
    "    for key in possible_keys:\n",
    "        plaintext = \"\"\n",
    "        ciphertext = ciphertext.lower().replace(' ', '').replace('j', 'i')\n",
    "        # ciphertext = process_text(ciphertext)\n",
    "        digraphs = [ciphertext[i:i+2] for i in range(0, len(ciphertext), 2)]\n",
    "\n",
    "        for digraph in digraphs:\n",
    "            plaintext += decrypt(digraph, key)\n",
    "\n",
    "        print(f\"Key: {key}, Plaintext: {plaintext}\")\n",
    "\n",
    "# Example usage:\n",
    "ciphertext = 'bpnnekhvfmkhbnfaviffootivrvknhvcoxvezhgy'\n",
    "crack_playfair_cipher(ciphertext)\n"
   ]
  }
 ],
 "metadata": {
  "kernelspec": {
   "display_name": "base",
   "language": "python",
   "name": "python3"
  },
  "language_info": {
   "codemirror_mode": {
    "name": "ipython",
    "version": 3
   },
   "file_extension": ".py",
   "mimetype": "text/x-python",
   "name": "python",
   "nbconvert_exporter": "python",
   "pygments_lexer": "ipython3",
   "version": "3.10.9"
  },
  "orig_nbformat": 4
 },
 "nbformat": 4,
 "nbformat_minor": 2
}
