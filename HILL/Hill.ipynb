{
 "cells": [
  {
   "cell_type": "code",
   "execution_count": 12,
   "metadata": {},
   "outputs": [],
   "source": [
    "import numpy as np\n",
    "import math\n",
    "\n",
    "\n",
    "def get_Key(input_text):\n",
    "    matrix_size = int(math.sqrt(len(input_text)))\n",
    "    matrix = np.zeros((matrix_size, matrix_size), dtype=int)\n",
    "\n",
    "    for i in range(matrix_size):\n",
    "        for j in range(matrix_size):\n",
    "            char_index = i * matrix_size + j \n",
    "            if char_index < len(input_text):\n",
    "                matrix[i, j] = ord(input_text[char_index]) - ord('A')  \n",
    "    return matrix"
   ]
  },
  {
   "cell_type": "code",
   "execution_count": 13,
   "metadata": {},
   "outputs": [
    {
     "name": "stdout",
     "output_type": "stream",
     "text": [
      "PlainText: ACTION\n",
      "EncryptedText: QRTWNF\n",
      "DecryptedText: ZGYCQH\n"
     ]
    }
   ],
   "source": [
    "def hill_cipher_encrypt(plain_text, key_matrix):\n",
    "    plain_text = plain_text.replace(\" \", \"\").upper()\n",
    "    n = len(plain_text)\n",
    "    while n % key_matrix.shape[0] != 0:\n",
    "        plain_text += \"X\"\n",
    "        n += 1\n",
    "\n",
    "    encrypted_text = \"\"\n",
    "    for i in range(0, n, key_matrix.shape[0]):\n",
    "        block = np.array([ord(plain_text[i + j]) - ord(\"A\") for j in range(key_matrix.shape[0])])\n",
    "        encrypted_block = np.dot(block, key_matrix) % 26\n",
    "        encrypted_text += \"\".join([chr(c + ord(\"A\")) for c in encrypted_block])\n",
    "    return encrypted_text\n",
    "\n",
    "def hill_cipher_decrypt(encrypted_text, key_matrix):\n",
    "    n = len(encrypted_text)\n",
    "    decrypted_text = \"\"\n",
    "    inverse_key = np.linalg.inv(key_matrix)  \n",
    "    for i in range(0, n, key_matrix.shape[0]):\n",
    "        block = np.array([ord(encrypted_text[i + j]) - ord(\"A\") for j in range(key_matrix.shape[0])])\n",
    "        decrypted_block = np.dot(block, inverse_key).astype(int) % 26\n",
    "        decrypted_text += \"\".join([chr(c + ord(\"A\")) for c in decrypted_block])\n",
    "    return decrypted_text\n",
    "\n",
    "input_text = \"GYBNQKURP\"\n",
    "key_matrix = get_Key(input_text)\n",
    "plain_text = \"ACTION\"\n",
    "encrypted_text = hill_cipher_encrypt(plain_text, key_matrix)\n",
    "decrypted_text = hill_cipher_decrypt(encrypted_text, key_matrix)\n",
    "\n",
    "print(\"PlainText:\", plain_text)\n",
    "print(\"EncryptedText:\", encrypted_text)\n",
    "print(\"DecryptedText:\", decrypted_text)\n"
   ]
  }
 ],
 "metadata": {
  "kernelspec": {
   "display_name": "base",
   "language": "python",
   "name": "python3"
  },
  "language_info": {
   "codemirror_mode": {
    "name": "ipython",
    "version": 3
   },
   "file_extension": ".py",
   "mimetype": "text/x-python",
   "name": "python",
   "nbconvert_exporter": "python",
   "pygments_lexer": "ipython3",
   "version": "3.10.9"
  },
  "orig_nbformat": 4
 },
 "nbformat": 4,
 "nbformat_minor": 2
}
