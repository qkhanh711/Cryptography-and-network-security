{
 "cells": [
  {
   "cell_type": "markdown",
   "metadata": {},
   "source": [
    "# Test True function"
   ]
  },
  {
   "cell_type": "code",
   "execution_count": 2,
   "metadata": {},
   "outputs": [
    {
     "name": "stdout",
     "output_type": "stream",
     "text": [
      "Key: \n",
      " [[17 17  5]\n",
      " [21 18 21]\n",
      " [ 2  2 19]]\n",
      "Test First inverse_matrix: \n",
      " [[1. 0. 0.]\n",
      " [0. 1. 0.]\n",
      " [0. 0. 1.]]\n",
      "Test Second inverse_matrix: \n",
      " [[1 0 0]\n",
      " [0 1 0]\n",
      " [0 0 1]]\n",
      "Test Third inverse_matrix: \n",
      " [[1 0 0]\n",
      " [0 1 0]\n",
      " [0 0 1]]\n",
      "\n",
      "\n"
     ]
    }
   ],
   "source": [
    "import numpy as np\n",
    "from sympy import Matrix\n",
    "\n",
    "\n",
    "K = np.array([[17,17,5],\n",
    "              [21, 18,21],\n",
    "              [2,2,19]])\n",
    "\n",
    "K_1 = np.linalg.inv(K) % 26\n",
    "# print(K_1)\n",
    "K_2 = np.array([[4,9,15],\n",
    "                [15,17,6],\n",
    "                [24,0,17]])\n",
    "\n",
    "inv_key = Matrix(K).inv_mod(26)\n",
    "K_3 = np.array(inv_key).astype(int)\n",
    "\n",
    "print(f\"Key: \\n {K}\")\n",
    "print(f\"Test First inverse_matrix: \\n {np.round(np.dot(K_1, K)) % 26}\")\n",
    "print(f\"Test Second inverse_matrix: \\n {np.dot(K, K_2) % 26}\")\n",
    "print(f\"Test Third inverse_matrix: \\n {np.matmul(K, K_3)%26}\")\n",
    "print()\n",
    "print()"
   ]
  },
  {
   "cell_type": "code",
   "execution_count": 3,
   "metadata": {},
   "outputs": [
    {
     "name": "stdout",
     "output_type": "stream",
     "text": [
      "[[11]\n",
      " [13]\n",
      " [18]]\n",
      "[[375]\n",
      " [819]\n",
      " [486]]\n"
     ]
    }
   ],
   "source": [
    "K = np.array([[17,17,5],\n",
    "              [21, 18,21],\n",
    "              [2,2,19]])\n",
    "H1 = np.array([[15],[0],[24]])\n",
    "print(np.dot(K, H1)%26)\n",
    "print(np.dot(K,H1))"
   ]
  },
  {
   "cell_type": "code",
   "execution_count": 4,
   "metadata": {},
   "outputs": [
    {
     "data": {
      "text/plain": [
       "486"
      ]
     },
     "execution_count": 4,
     "metadata": {},
     "output_type": "execute_result"
    }
   ],
   "source": [
    "17*15 + 17*0 + 5*24\n",
    "21*15 + 18*0 + 21*24\n",
    "2*15 + 2*0 + 19*24"
   ]
  },
  {
   "cell_type": "code",
   "execution_count": 5,
   "metadata": {},
   "outputs": [
    {
     "name": "stdout",
     "output_type": "stream",
     "text": [
      "[1 2 3]\n",
      "[14 16 11]\n",
      "[1 2 3]\n"
     ]
    }
   ],
   "source": [
    "P = np.array([1,2,3]).T\n",
    "print(P)\n",
    "C = np.round(np.matmul(K,P) % 26) \n",
    "print(C)\n",
    "P_d = np.matmul(K_3,C) % 26\n",
    "print(P_d)"
   ]
  },
  {
   "cell_type": "markdown",
   "metadata": {},
   "source": [
    "# Hill"
   ]
  },
  {
   "cell_type": "code",
   "execution_count": 6,
   "metadata": {},
   "outputs": [
    {
     "name": "stdout",
     "output_type": "stream",
     "text": [
      "[[50 36]\n",
      " [35 36]]\n",
      "[[ 0.06666667 25.93333333]\n",
      " [25.93518519  0.09259259]]\n",
      "[[1.]\n",
      " [2.]]\n",
      "[[ 1.        ]\n",
      " [25.11111111]]\n"
     ]
    }
   ],
   "source": [
    "import numpy as np\n",
    "import math\n",
    "\n",
    "def text_2_int(char):\n",
    "    return ord(char) - ord('A')\n",
    "\n",
    "\n",
    "def get_Key(input_text):\n",
    "    # print(len(input_text))\n",
    "    matrix_size = int(math.sqrt(len(input_text)))\n",
    "    # print(matrix_size)\n",
    "    matrix = np.zeros((matrix_size, matrix_size), dtype=int)\n",
    "    # print(matrix)\n",
    "    for i in range(matrix_size):\n",
    "        for j in range(matrix_size):\n",
    "            char_index = i * matrix_size + j \n",
    "            if char_index < len(input_text):\n",
    "                matrix[i, j] = text_2_int(input_text[char_index])\n",
    "    return matrix\n",
    "\n",
    "input_text = \"sede\"\n",
    "key_matrix = get_Key(input_text)\n",
    "print(key_matrix)\n",
    "inverse_matrix = np.linalg.inv(key_matrix) % 26\n",
    "print(inverse_matrix)\n",
    "y = np.array([[1],\n",
    "              [2],])\n",
    "print(np.dot(np.dot(inverse_matrix, key_matrix)% 26, y))\n",
    "print(np.dot(inverse_matrix, np.round(np.dot(key_matrix,y) % 26))%26)\n"
   ]
  },
  {
   "cell_type": "code",
   "execution_count": 7,
   "metadata": {},
   "outputs": [
    {
     "name": "stdout",
     "output_type": "stream",
     "text": [
      "PlainText: paymoremoney\n",
      "EncryptedText: LNSHDLEWMTRW\n",
      "Matrix([[4, 9, 15], [15, 17, 6], [24, 0, 17]])\n",
      "DecryptedText: PAYMOREMONEY\n"
     ]
    }
   ],
   "source": [
    "def hill_cipher_encrypt(plain_text, key_matrix):\n",
    "    plain_text = plain_text.replace(\" \", \"\").upper()\n",
    "    n = len(plain_text)\n",
    "    while n % key_matrix.shape[0] != 0:\n",
    "        plain_text += \"X\"\n",
    "        n += 1\n",
    "    encrypted_text = \"\"\n",
    "    for i in range(0, n, key_matrix.shape[0]):\n",
    "        string = plain_text[i: i+ key_matrix.shape[0]]\n",
    "        # print(string)\n",
    "        block = np.array([text_2_int(string[j]) for j in range(len(string))])\n",
    "        # print(f\"Block {int(i/3)}: {block} {block.shape}\" )\n",
    "        encrypted_block = np.round(np.dot(key_matrix,block) % 26) \n",
    "        # print(encrypted_block)\n",
    "        encrypted_text += \"\".join([chr(c + ord(\"A\")) for c in encrypted_block])\n",
    "        # print(encrypted_text)\n",
    "        # print()\n",
    "    return encrypted_text\n",
    "\n",
    "def hill_cipher_decrypt(encrypted_text, key_matrix):\n",
    "    n = len(encrypted_text)\n",
    "    decrypted_text = \"\"\n",
    "    inverse_key = Matrix(key_matrix).inv_mod(26)\n",
    "    print(inverse_key)\n",
    "    for i in range(0, n, key_matrix.shape[0]):\n",
    "        string = encrypted_text[i: i+ key_matrix.shape[0]]\n",
    "        # print(string)\n",
    "        block = np.array([text_2_int(string[j]) for j in range(len(string))])\n",
    "        # print(f\"Block {int(i/3)}: {block}\" )\n",
    "        decrypted_block = np.matmul(inverse_key,block) % 26\n",
    "        # print(decrypted_block)\n",
    "        decrypted_text += \"\".join([chr(c + ord(\"A\")) for c in decrypted_block])\n",
    "        # print(decrypted_text)\n",
    "        # print()\n",
    "    return decrypted_text\n",
    "\n",
    "key_matrix = np.array([[17,17,5],\n",
    "                       [21,18,21],\n",
    "                       [2,2,19]])\n",
    "plain_text = \"paymoremoney\"\n",
    "print(\"PlainText:\", plain_text)\n",
    "encrypted_text = hill_cipher_encrypt(plain_text, key_matrix)\n",
    "print(\"EncryptedText:\", encrypted_text)\n",
    "decrypted_text = hill_cipher_decrypt(encrypted_text, key_matrix)\n",
    "print(\"DecryptedText:\", decrypted_text)\n"
   ]
  },
  {
   "cell_type": "code",
   "execution_count": 9,
   "metadata": {},
   "outputs": [
    {
     "name": "stdout",
     "output_type": "stream",
     "text": [
      "PlainText: action\n",
      "EncryptedText: POHHQV\n",
      "Matrix([[8, 5, 10], [21, 8, 21], [21, 12, 8]])\n",
      "DecryptedText: ACTION\n"
     ]
    }
   ],
   "source": [
    "input_text = \"GYBNQKURP\"\n",
    "input_text = str(input(\"Enter your key: \"))\n",
    "key_matrix = get_Key(input_text)\n",
    "plain_text = \"ACTION\"\n",
    "plain_text = str(input(\"Enter your plain text: \"))\n",
    "print(\"PlainText:\", plain_text)\n",
    "encrypted_text = hill_cipher_encrypt(plain_text, key_matrix)\n",
    "print(\"EncryptedText:\", encrypted_text)\n",
    "decrypted_text = hill_cipher_decrypt(encrypted_text, key_matrix)\n",
    "print(\"DecryptedText:\", decrypted_text)"
   ]
  }
 ],
 "metadata": {
  "kernelspec": {
   "display_name": "base",
   "language": "python",
   "name": "python3"
  },
  "language_info": {
   "codemirror_mode": {
    "name": "ipython",
    "version": 3
   },
   "file_extension": ".py",
   "mimetype": "text/x-python",
   "name": "python",
   "nbconvert_exporter": "python",
   "pygments_lexer": "ipython3",
   "version": "3.10.9"
  },
  "orig_nbformat": 4
 },
 "nbformat": 4,
 "nbformat_minor": 2
}
