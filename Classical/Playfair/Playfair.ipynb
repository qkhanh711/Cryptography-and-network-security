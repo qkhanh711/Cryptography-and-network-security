{
 "cells": [
  {
   "cell_type": "markdown",
   "metadata": {},
   "source": [
    "# Encrypt = Decript"
   ]
  },
  {
   "cell_type": "code",
   "execution_count": 1,
   "metadata": {},
   "outputs": [
    {
     "name": "stdout",
     "output_type": "stream",
     "text": [
      "commanderinchieffleettonavalheadquarterxs 41\n",
      "comxmanderinchiefxflexettonavalheadquarterxsx 45\n",
      "commanderinchieffleettonavalheadquarterxs 41\n"
     ]
    }
   ],
   "source": [
    "def process_text(plaintext, options = \"encrypt\"):\n",
    "    temp = plaintext\n",
    "    i = 0\n",
    "    while i < len(temp)-2:\n",
    "        # print(i, len(temp) -1)\n",
    "        # print(temp)\n",
    "        if options == \"encrypt\":\n",
    "            if temp[i] == temp[i + 1]:\n",
    "                temp = temp[:i+1] + 'x' + temp[i+1:]\n",
    "            i += 2\n",
    "        else:\n",
    "            # print(i, len(temp) -1)\n",
    "            # print(temp)\n",
    "            if temp[-1] == 'x':\n",
    "                temp = temp[:len(temp) - 1]\n",
    "            if temp[i] == temp[i + 2] and temp[i + 1] == 'x':\n",
    "                temp = temp[:i+1] + temp[i+2:]\n",
    "            i+= 1\n",
    "        # print(i)\n",
    "    return temp\n",
    "\n",
    "plaintext = \"commanderinchieffleettonavalheadquarterxs\"\n",
    "print(plaintext, len(plaintext))\n",
    "if len(plaintext) % 2 != 0:\n",
    "    plaintext += 'x'\n",
    "processed_text = process_text(plaintext)\n",
    "print(processed_text, len(processed_text))\n",
    "reverttext = process_text(processed_text, options= \"decrypted\")\n",
    "print(reverttext, len(reverttext))"
   ]
  },
  {
   "cell_type": "code",
   "execution_count": 2,
   "metadata": {},
   "outputs": [
    {
     "name": "stdout",
     "output_type": "stream",
     "text": [
      "yxyxyy\n",
      "Keycomputerabdfghiklnqsvwxyz\n",
      "Starting encrypt\n",
      "Ciphertext: zyzyzz\n",
      "Keycomputerabdfghiklnqsvwxyz\n",
      "Starting decrypt\n",
      "Plaintext : yyyy\n"
     ]
    }
   ],
   "source": [
    "def playfair_cipher(plaintext, key, mode):\n",
    "    alphabet = 'abcdefghiklmnopqrstuvwxyz'\n",
    "    key = key.lower().replace(' ', '').replace('j', 'i')\n",
    "    \n",
    "    key_square = ''\n",
    "    for letter in key + alphabet:\n",
    "        if letter not in key_square:\n",
    "            key_square += letter\n",
    "    print('Key'+key_square)\n",
    "\n",
    "    plaintext = plaintext.lower().replace(' ', '').replace('j', 'i')\n",
    "    plaintext = process_text(plaintext)\n",
    "    # print(plaintext)\n",
    "\n",
    "    if len(plaintext) % 2 == 1:\n",
    "        plaintext += 'x'\n",
    "    digraphs = [plaintext[i:i+2] for i in range(0, len(plaintext), 2)]\n",
    "    # print(digraphs)\n",
    "\n",
    "    def encrypt(digraph):\n",
    "        a, b = digraph\n",
    "        row_a, col_a = divmod(key_square.index(a), 5)\n",
    "        row_b, col_b = divmod(key_square.index(b), 5)\n",
    "        if row_a == row_b:\n",
    "            col_a = (col_a + 1) % 5\n",
    "            col_b = (col_b + 1) % 5\n",
    "        elif col_a == col_b:\n",
    "            row_a = (row_a + 1) % 5\n",
    "            row_b = (row_b + 1) % 5\n",
    "        else:\n",
    "            col_a, col_b = col_b, col_a\n",
    "        return key_square[row_a*5+col_a] + key_square[row_b*5+col_b]\n",
    "    \n",
    "    def decrypt(digraph):\n",
    "        a, b = digraph\n",
    "        row_a, col_a = divmod(key_square.index(a), 5)\n",
    "        row_b, col_b = divmod(key_square.index(b), 5)\n",
    "        if row_a == row_b:\n",
    "            col_a = (col_a - 1) % 5\n",
    "            col_b = (col_b - 1) % 5\n",
    "        elif col_a == col_b:\n",
    "            row_a = (row_a - 1) % 5\n",
    "            row_b = (row_b - 1) % 5\n",
    "        else:\n",
    "            col_a, col_b = col_b, col_a\n",
    "        return key_square[row_a*5+col_a] + key_square[row_b*5+col_b]\n",
    "    \n",
    "    result = ''\n",
    "    print(f\"Starting {mode}\")\n",
    "    if mode == 'decrypt':\n",
    "        for digraph in digraphs:\n",
    "            result += decrypt(digraph)\n",
    "        result = process_text(result, options= \"decrypted\")\n",
    "    elif mode =='encrypt':\n",
    "        for digraph in digraphs:\n",
    "            result += encrypt(digraph)\n",
    "    return result\n",
    "\n",
    "plaintext = 'COMMUNICATE'\n",
    "plaintext = str(input())\n",
    "key = 'COMPUTER'\n",
    "key = \n",
    "print(process_text(plaintext))\n",
    "ciphertext = playfair_cipher(plaintext, key, 'encrypt')\n",
    "print(f\"Ciphertext: {ciphertext}\")\n",
    "decrypted_text = playfair_cipher(ciphertext, key, 'decrypt')\n",
    "print(f\"Plaintext : {decrypted_text}\") \n"
   ]
  },
  {
   "cell_type": "markdown",
   "metadata": {},
   "source": [
    "# Crack"
   ]
  },
  {
   "cell_type": "code",
   "execution_count": 3,
   "metadata": {},
   "outputs": [
    {
     "ename": "TypeError",
     "evalue": "can only concatenate str (not \"NoneType\") to str",
     "output_type": "error",
     "traceback": [
      "\u001b[0;31m---------------------------------------------------------------------------\u001b[0m",
      "\u001b[0;31mTypeError\u001b[0m                                 Traceback (most recent call last)",
      "\u001b[1;32m/home/nyanmaruk/Uni/Cryptography-and-network-security/Classical/Playfair/Playfair.ipynb Cell 5\u001b[0m line \u001b[0;36m4\n\u001b[1;32m     <a href='vscode-notebook-cell:/home/nyanmaruk/Uni/Cryptography-and-network-security/Classical/Playfair/Playfair.ipynb#W4sZmlsZQ%3D%3D?line=42'>43</a>\u001b[0m \u001b[39m# Example usage:\u001b[39;00m\n\u001b[1;32m     <a href='vscode-notebook-cell:/home/nyanmaruk/Uni/Cryptography-and-network-security/Classical/Playfair/Playfair.ipynb#W4sZmlsZQ%3D%3D?line=43'>44</a>\u001b[0m ciphertext \u001b[39m=\u001b[39m \u001b[39m'\u001b[39m\u001b[39momrmpcsgpter\u001b[39m\u001b[39m'\u001b[39m\n\u001b[0;32m---> <a href='vscode-notebook-cell:/home/nyanmaruk/Uni/Cryptography-and-network-security/Classical/Playfair/Playfair.ipynb#W4sZmlsZQ%3D%3D?line=44'>45</a>\u001b[0m crack_playfair_cipher(ciphertext)\n",
      "\u001b[1;32m/home/nyanmaruk/Uni/Cryptography-and-network-security/Classical/Playfair/Playfair.ipynb Cell 5\u001b[0m line \u001b[0;36m3\n\u001b[1;32m     <a href='vscode-notebook-cell:/home/nyanmaruk/Uni/Cryptography-and-network-security/Classical/Playfair/Playfair.ipynb#W4sZmlsZQ%3D%3D?line=35'>36</a>\u001b[0m digraphs \u001b[39m=\u001b[39m [ciphertext[i:i\u001b[39m+\u001b[39m\u001b[39m2\u001b[39m] \u001b[39mfor\u001b[39;00m i \u001b[39min\u001b[39;00m \u001b[39mrange\u001b[39m(\u001b[39m0\u001b[39m, \u001b[39mlen\u001b[39m(ciphertext), \u001b[39m2\u001b[39m)]\n\u001b[1;32m     <a href='vscode-notebook-cell:/home/nyanmaruk/Uni/Cryptography-and-network-security/Classical/Playfair/Playfair.ipynb#W4sZmlsZQ%3D%3D?line=37'>38</a>\u001b[0m \u001b[39mfor\u001b[39;00m digraph \u001b[39min\u001b[39;00m digraphs:\n\u001b[0;32m---> <a href='vscode-notebook-cell:/home/nyanmaruk/Uni/Cryptography-and-network-security/Classical/Playfair/Playfair.ipynb#W4sZmlsZQ%3D%3D?line=38'>39</a>\u001b[0m     plaintext \u001b[39m+\u001b[39m\u001b[39m=\u001b[39m decrypt(digraph, key)\n\u001b[1;32m     <a href='vscode-notebook-cell:/home/nyanmaruk/Uni/Cryptography-and-network-security/Classical/Playfair/Playfair.ipynb#W4sZmlsZQ%3D%3D?line=40'>41</a>\u001b[0m \u001b[39mprint\u001b[39m(\u001b[39mf\u001b[39m\u001b[39m\"\u001b[39m\u001b[39mKey: \u001b[39m\u001b[39m{\u001b[39;00mkey\u001b[39m}\u001b[39;00m\u001b[39m, Plaintext: \u001b[39m\u001b[39m{\u001b[39;00mplaintext\u001b[39m}\u001b[39;00m\u001b[39m\"\u001b[39m)\n",
      "\u001b[0;31mTypeError\u001b[0m: can only concatenate str (not \"NoneType\") to str"
     ]
    }
   ],
   "source": [
    "from itertools import permutations\n",
    "def crack_playfair_cipher(ciphertext):\n",
    "    alphabet = 'abcdefghiklmnopqrstuvwxyz'\n",
    "    def decrypt(digraph, key):\n",
    "        key_square = ''\n",
    "        for letter in key + alphabet:\n",
    "            if letter not in key_square:\n",
    "                key_square += letter\n",
    "\n",
    "        if len(digraph) == 2:\n",
    "            a, b = digraph\n",
    "            row_a, col_a = divmod(key_square.index(a), 5)\n",
    "            row_b, col_b = divmod(key_square.index(b), 5)\n",
    "            if row_a == row_b:\n",
    "                col_a = (col_a - 1) % 5\n",
    "                col_b = (col_b - 1) % 5\n",
    "            elif col_a == col_b:\n",
    "                row_a = (row_a - 1) % 5\n",
    "                row_b = (row_b - 1) % 5\n",
    "            else:\n",
    "                col_a, col_b = col_b, col_a\n",
    "            # return key_square[row_a*5+col_a] + key_square[row_b*5+col_b]\n",
    "        else:\n",
    "            # If there's only one character left, just return it\n",
    "            return digraph\n",
    "\n",
    "    # for key_length in range(1, 26):\n",
    "    key_length = 5\n",
    "    # Generate all possible keys of the given length\n",
    "    possible_keys = [\"\".join(key) for key in permutations(alphabet, key_length)]\n",
    "    \n",
    "    for key in possible_keys:\n",
    "        plaintext = \"\"\n",
    "        ciphertext = ciphertext.lower().replace(' ', '').replace('j', 'i')\n",
    "        # ciphertext = process_text(ciphertext)\n",
    "        digraphs = [ciphertext[i:i+2] for i in range(0, len(ciphertext), 2)]\n",
    "\n",
    "        for digraph in digraphs:\n",
    "            plaintext += decrypt(digraph, key)\n",
    "\n",
    "        print(f\"Key: {key}, Plaintext: {plaintext}\")\n",
    "\n",
    "# Example usage:\n",
    "ciphertext = 'omrmpcsgpter'\n",
    "crack_playfair_cipher(ciphertext)\n"
   ]
  }
 ],
 "metadata": {
  "kernelspec": {
   "display_name": "base",
   "language": "python",
   "name": "python3"
  },
  "language_info": {
   "codemirror_mode": {
    "name": "ipython",
    "version": 3
   },
   "file_extension": ".py",
   "mimetype": "text/x-python",
   "name": "python",
   "nbconvert_exporter": "python",
   "pygments_lexer": "ipython3",
   "version": "3.10.9"
  },
  "orig_nbformat": 4
 },
 "nbformat": 4,
 "nbformat_minor": 2
}
