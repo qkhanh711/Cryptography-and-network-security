{
 "cells": [
  {
   "cell_type": "code",
   "execution_count": 14,
   "metadata": {},
   "outputs": [
    {
     "name": "stdout",
     "output_type": "stream",
     "text": [
      "Encrypted Text: LLOEMQWLKBZIS\n",
      "Decrypted Text: WEARETHEWORLD\n"
     ]
    }
   ],
   "source": [
    "def vigenere_encrypt(plain_text, key):\n",
    "    encrypted_text = \"\"\n",
    "    key_length = len(key)\n",
    "    \n",
    "    for i in range(len(plain_text)):\n",
    "        char = plain_text[i]\n",
    "        if char.isalpha():\n",
    "            key_char = key[i % key_length]\n",
    "            shift = ord(key_char.upper()) - ord('A')\n",
    "            if char.islower():\n",
    "                encrypted_char = chr(((ord(char) - ord('a') + shift) % 26) + ord('a'))\n",
    "            else:\n",
    "                encrypted_char = chr(((ord(char) - ord('A') + shift) % 26) + ord('A'))\n",
    "            encrypted_text += encrypted_char\n",
    "        else:\n",
    "            encrypted_text += char\n",
    "    \n",
    "    return encrypted_text\n",
    "\n",
    "def vigenere_decrypt(encrypted_text, key):\n",
    "    decrypted_text = \"\"\n",
    "    key_length = len(key)\n",
    "    \n",
    "    for i in range(len(encrypted_text)):\n",
    "        char = encrypted_text[i]\n",
    "        if char.isalpha():\n",
    "            key_char = key[i % key_length]\n",
    "            shift = ord(key_char.upper()) - ord('A')\n",
    "            if char.islower():\n",
    "                decrypted_char = chr(((ord(char) - ord('a') - shift + 26) % 26) + ord('a'))\n",
    "            else:\n",
    "                decrypted_char = chr(((ord(char) - ord('A') - shift + 26) % 26) + ord('A'))\n",
    "            decrypted_text += decrypted_char\n",
    "        else:\n",
    "            decrypted_text += char\n",
    "    \n",
    "    return decrypted_text\n",
    "\n",
    "# Sử dụng hàm mã hóa\n",
    "plain_text = \"WEARETHEWORLD\"\n",
    "key = \"phonix\"\n",
    "encrypted_text = vigenere_encrypt(plain_text, key)\n",
    "print(\"Encrypted Text:\", encrypted_text)\n",
    "\n",
    "# Sử dụng hàm giải mã\n",
    "decrypted_text = vigenere_decrypt(encrypted_text, key)\n",
    "print(\"Decrypted Text:\", decrypted_text)\n"
   ]
  },
  {
   "cell_type": "code",
   "execution_count": 6,
   "metadata": {},
   "outputs": [
    {
     "name": "stdout",
     "output_type": "stream",
     "text": [
      "Decrypted Text: EPLEEIEEBREME\n"
     ]
    }
   ],
   "source": [
    "def crack_vigenere(ciphertext, key_length):\n",
    "    decrypted_text = \"\"\n",
    "    \n",
    "    for i in range(key_length):\n",
    "        subtext = ciphertext[i::key_length]  \n",
    "        most_common_char = max(set(subtext), key=subtext.count)  \n",
    "        shift = ord(most_common_char) - ord('E')  \n",
    "        decrypted_subtext = \"\"\n",
    "        \n",
    "        for char in subtext:\n",
    "            if char.isalpha():\n",
    "                if char.islower():\n",
    "                    decrypted_char = chr(((ord(char) - ord('a') - shift + 26) % 26) + ord('a'))\n",
    "                else:\n",
    "                    decrypted_char = chr(((ord(char) - ord('A') - shift + 26) % 26) + ord('A'))\n",
    "                decrypted_subtext += decrypted_char\n",
    "            else:\n",
    "                decrypted_subtext += char\n",
    "        \n",
    "        decrypted_text += decrypted_subtext\n",
    "    \n",
    "    return decrypted_text\n",
    "\n",
    "encrypted_text = \"LLOEMQWLKBZIS\"\n",
    "key_length = 6  \n",
    "decrypted_text = crack_vigenere(encrypted_text, key_length)\n",
    "print(\"Decrypted Text:\", decrypted_text)"
   ]
  }
 ],
 "metadata": {
  "kernelspec": {
   "display_name": "base",
   "language": "python",
   "name": "python3"
  },
  "language_info": {
   "codemirror_mode": {
    "name": "ipython",
    "version": 3
   },
   "file_extension": ".py",
   "mimetype": "text/x-python",
   "name": "python",
   "nbconvert_exporter": "python",
   "pygments_lexer": "ipython3",
   "version": "3.10.9"
  },
  "orig_nbformat": 4
 },
 "nbformat": 4,
 "nbformat_minor": 2
}
