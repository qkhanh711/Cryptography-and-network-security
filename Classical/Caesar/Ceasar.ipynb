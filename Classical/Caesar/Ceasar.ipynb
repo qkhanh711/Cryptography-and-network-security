{
 "cells": [
  {
   "cell_type": "code",
   "execution_count": 1,
   "metadata": {},
   "outputs": [],
   "source": [
    "def encrypt(plaintext,k):\n",
    "    result = \"\"\n",
    "    # traverse text\n",
    "    for i in range(len(plaintext)):\n",
    "        char = plaintext[i]\n",
    "        # Encrypt uppercase characters\n",
    "        if (char.isupper()):\n",
    "            result += chr((ord(char) + k-65) % 26 + 65)\n",
    "        # Encrypt lowercase characters\n",
    "        else:\n",
    "            result += chr((ord(char) + k - 97) % 26 + 97)\n",
    "    return result"
   ]
  },
  {
   "cell_type": "code",
   "execution_count": 2,
   "metadata": {},
   "outputs": [
    {
     "data": {
      "text/plain": [
       "12"
      ]
     },
     "execution_count": 2,
     "metadata": {},
     "output_type": "execute_result"
    }
   ],
   "source": [
    "ord('a')-97 + 12"
   ]
  },
  {
   "cell_type": "code",
   "execution_count": 3,
   "metadata": {},
   "outputs": [
    {
     "name": "stdout",
     "output_type": "stream",
     "text": [
      "Ciphertext: abhu\n"
     ]
    }
   ],
   "source": [
    "#check encrypt function\n",
    "plaintext = \"tuan\"\n",
    "k = 7\n",
    "print (\"Ciphertext: \" + encrypt(plaintext,k))"
   ]
  },
  {
   "cell_type": "code",
   "execution_count": 4,
   "metadata": {},
   "outputs": [],
   "source": [
    "def decrypt(ciphertext,k):\n",
    "    result = \"\"\n",
    "    # traverse text\n",
    "    for i in range(len(ciphertext)):\n",
    "        char = ciphertext[i]\n",
    "        # Decrypt uppercase characters\n",
    "        if (char.isupper()):\n",
    "            result += chr((ord(char) - k-65) % 26 + 65)\n",
    "        # Encrypt lowercase characters\n",
    "        else:\n",
    "            result += chr((ord(char) - k - 97) % 26 + 97)\n",
    "    return result"
   ]
  },
  {
   "cell_type": "code",
   "execution_count": 5,
   "metadata": {},
   "outputs": [
    {
     "name": "stdout",
     "output_type": "stream",
     "text": [
      "Plaintext : HOCDELAMVIECVALAMNGUOI\n"
     ]
    }
   ],
   "source": [
    "#check decrypt function\n",
    "ciphertext = \"BIWXYFUGPCYWPUFUGHAOIC\"\n",
    "k = 20\n",
    "print (\"Plaintext : \" + decrypt(ciphertext,k))"
   ]
  },
  {
   "cell_type": "code",
   "execution_count": 8,
   "metadata": {},
   "outputs": [
    {
     "name": "stdout",
     "output_type": "stream",
     "text": [
      "For key =  0 plaintext=\n",
      "For key =  1 plaintext=\n",
      "For key =  2 plaintext=\n",
      "For key =  3 plaintext=\n",
      "For key =  4 plaintext=\n",
      "For key =  5 plaintext=\n",
      "For key =  6 plaintext=\n",
      "For key =  7 plaintext=\n",
      "For key =  8 plaintext=\n",
      "For key =  9 plaintext=\n",
      "For key =  10 plaintext=\n",
      "For key =  11 plaintext=\n",
      "For key =  12 plaintext=\n",
      "For key =  13 plaintext=\n",
      "For key =  14 plaintext=\n",
      "For key =  15 plaintext=\n",
      "For key =  16 plaintext=\n",
      "For key =  17 plaintext=\n",
      "For key =  18 plaintext=\n",
      "For key =  19 plaintext=\n",
      "For key =  20 plaintext=\n",
      "For key =  21 plaintext=\n",
      "For key =  22 plaintext=\n",
      "For key =  23 plaintext=\n",
      "For key =  24 plaintext=\n",
      "For key =  25 plaintext=\n"
     ]
    }
   ],
   "source": [
    "# Caesar Crack\n",
    "\n",
    "ciphertext=input('Type ciphertext:')\n",
    "for k in range(0,26):\n",
    "    plaintext=decrypt(ciphertext,k)\n",
    "    print(\"For key = \",k,\"plaintext=\"+plaintext.lower())"
   ]
  }
 ],
 "metadata": {
  "kernelspec": {
   "display_name": "base",
   "language": "python",
   "name": "python3"
  },
  "language_info": {
   "codemirror_mode": {
    "name": "ipython",
    "version": 3
   },
   "file_extension": ".py",
   "mimetype": "text/x-python",
   "name": "python",
   "nbconvert_exporter": "python",
   "pygments_lexer": "ipython3",
   "version": "3.10.9"
  },
  "orig_nbformat": 4
 },
 "nbformat": 4,
 "nbformat_minor": 2
}
