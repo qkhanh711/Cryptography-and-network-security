{
 "cells": [
  {
   "cell_type": "code",
   "execution_count": 7,
   "metadata": {},
   "outputs": [
    {
     "name": "stdout",
     "output_type": "stream",
     "text": [
      "00110001 00110010 00110011 00110100 \n"
     ]
    }
   ],
   "source": [
    "def convert_bstring_to_bin(bstring):\n",
    "    bin_str = \"\"\n",
    "    for char in bstring: \n",
    "        bin_str += f\"{char:08b} \"\n",
    "    return bin_str\n",
    "print(convert_bstring_to_bin(b'1234'))"
   ]
  },
  {
   "cell_type": "code",
   "execution_count": 6,
   "metadata": {},
   "outputs": [
    {
     "name": "stdout",
     "output_type": "stream",
     "text": [
      "110001 110010 110011 110100 \n"
     ]
    }
   ],
   "source": [
    "def convert_bstring_to_bin(bstring):\n",
    "  bin_str = \"\"\n",
    "  for char in bstring:\n",
    "    bin_str += bin(ord(char))[2:] + ' '\n",
    "  return bin_str\n",
    "\n",
    "\n",
    "print(convert_bstring_to_bin('1234'))\n"
   ]
  },
  {
   "cell_type": "code",
   "execution_count": 25,
   "metadata": {},
   "outputs": [
    {
     "name": "stdout",
     "output_type": "stream",
     "text": [
      "01000011 01001111 01001100 01000100 \n",
      "434f4c44\n",
      "62bf0eb2\n",
      "Encrypted Text: 21f042f6\n",
      "Decrypted Text: COLD\n"
     ]
    }
   ],
   "source": [
    "import random\n",
    "\n",
    "def generate_random_key(length):\n",
    "    key = [random.randint(0, 255) for _ in range(length)]\n",
    "    return bytes(key)\n",
    "\n",
    "def vernam_encrypt(plain_text, key):\n",
    "    encrypted_text = bytes([plain_byte ^ key_byte for plain_byte, key_byte in zip(plain_text, key)])\n",
    "    return encrypted_text\n",
    "\n",
    "def vernam_decrypt(encrypted_text, key):\n",
    "    decrypted_text = bytes([encrypted_byte ^ key_byte for encrypted_byte, key_byte in zip(encrypted_text, key)])\n",
    "    return decrypted_text\n",
    "\n",
    "plain_text = b\"COLD\"\n",
    "print(convert_bstring_to_bin(plain_text))\n",
    "print(plain_text.hex())\n",
    "\n",
    "key = generate_random_key(len(plain_text))\n",
    "print(key.hex())\n",
    "encrypted_text = vernam_encrypt(plain_text, key)\n",
    "print(\"Encrypted Text:\", encrypted_text.hex())\n",
    "\n",
    "decrypted_text = vernam_decrypt(encrypted_text, key)\n",
    "print(\"Decrypted Text:\", decrypted_text.decode())\n"
   ]
  }
 ],
 "metadata": {
  "kernelspec": {
   "display_name": "base",
   "language": "python",
   "name": "python3"
  },
  "language_info": {
   "codemirror_mode": {
    "name": "ipython",
    "version": 3
   },
   "file_extension": ".py",
   "mimetype": "text/x-python",
   "name": "python",
   "nbconvert_exporter": "python",
   "pygments_lexer": "ipython3",
   "version": "3.10.9"
  },
  "orig_nbformat": 4
 },
 "nbformat": 4,
 "nbformat_minor": 2
}
