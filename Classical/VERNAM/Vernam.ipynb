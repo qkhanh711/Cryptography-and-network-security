{
 "cells": [
  {
   "cell_type": "code",
   "execution_count": 124,
   "metadata": {},
   "outputs": [
    {
     "name": "stdout",
     "output_type": "stream",
     "text": [
      "3\n",
      "3\n",
      "3\n",
      "True\n",
      "True\n",
      "True\n"
     ]
    }
   ],
   "source": [
    "# 0x.. laf bieeur dieexn hex\n",
    "# 0b.. la bieu dien bit \n",
    "# 1, 2 la so nguyen\n",
    "# ^ la bieu dien cua XOR\n",
    "# XOR table:\n",
    "0 ^ 0 == 0\n",
    "0 ^ 1 == 1\n",
    "1 ^ 0 == 1\n",
    "1 ^ 1 == 0\n",
    "print(0x01 ^ 0x02)\n",
    "print(0b0001 ^ 0b0010) #XOR\n",
    "print(1 ^ 2)\n",
    "import random\n",
    "# Phep dich bit\n",
    "print(0b0001 << 1 == 0b0010) # Dich trai 1 dvi\n",
    "print(0b0010 >> 1 == 0b0001) # Dich phai 1 dvi\n",
    "print(0b0001 << 2 == 0b0100) # Dich trai 2 dvi\n"
   ]
  },
  {
   "cell_type": "code",
   "execution_count": 116,
   "metadata": {},
   "outputs": [
    {
     "name": "stdout",
     "output_type": "stream",
     "text": [
      "Message    : hello\n",
      "Cipher text: igohj\n",
      "Plain text : hello\n"
     ]
    }
   ],
   "source": [
    "def str2int(s):\n",
    "    return [int(hex(ord(c)),16) for c in s]\n",
    "\n",
    "def int2str(i):\n",
    "    return ''.join([chr(int(hex(c),16)) for c in i])\n",
    "\n",
    "def generate_key(length):\n",
    "    return [int(hex(random.randint(0, 255)), 16) for _ in range(length)]\n",
    "\n",
    "def Vernam(message, key):\n",
    "    return [m ^ k for m, k in zip(message, key)]\n",
    "\n",
    "message = str2int('hello')\n",
    "print(\"Message    : \"+int2str(message))\n",
    "key = generate_key(len(message))\n",
    "key = [0x01, 0x02, 0x03, 0x04, 0x05]\n",
    "encrypted = Vernam(message, key)\n",
    "print(\"Cipher text: \"+int2str(encrypted))\n",
    "decrypted = Vernam(encrypted, key)\n",
    "print(\"Plain text : \" +int2str(decrypted))"
   ]
  },
  {
   "cell_type": "code",
   "execution_count": 118,
   "metadata": {},
   "outputs": [
    {
     "name": "stdout",
     "output_type": "stream",
     "text": [
      "01000011 01001111 01001100 01000100 \n",
      "434f4c44\n",
      "84e9d191\n",
      "Encrypted Text: c7a69dd5\n",
      "Decrypted Text: COLD\n"
     ]
    }
   ],
   "source": [
    "import random\n",
    "\n",
    "def convert_bstring_to_bin(bstring):\n",
    "    bin_str = \"\"\n",
    "    for char in bstring: \n",
    "        bin_str += f\"{char:08b} \"\n",
    "    return bin_str\n",
    "\n",
    "def generate_random_key(length):\n",
    "    key = [random.randint(0, 255) for _ in range(length)]\n",
    "    return bytes(key)\n",
    "\n",
    "def vernam_encrypt(plain_text, key):\n",
    "    encrypted_text = bytes([plain_byte ^ key_byte for plain_byte, key_byte in zip(plain_text, key)])\n",
    "    return encrypted_text\n",
    "\n",
    "def vernam_decrypt(encrypted_text, key):\n",
    "    decrypted_text = bytes([encrypted_byte ^ key_byte for encrypted_byte, key_byte in zip(encrypted_text, key)])\n",
    "    return decrypted_text\n",
    "\n",
    "plain_text = b\"COLD\"\n",
    "print(convert_bstring_to_bin(plain_text))\n",
    "print(plain_text.hex())\n",
    "\n",
    "key = generate_random_key(len(plain_text))\n",
    "print(key.hex())\n",
    "encrypted_text = vernam_encrypt(plain_text, key)\n",
    "print(\"Encrypted Text:\", encrypted_text.hex())\n",
    "\n",
    "decrypted_text = vernam_decrypt(encrypted_text, key)\n",
    "print(\"Decrypted Text:\", decrypted_text.decode())\n"
   ]
  }
 ],
 "metadata": {
  "kernelspec": {
   "display_name": "base",
   "language": "python",
   "name": "python3"
  },
  "language_info": {
   "codemirror_mode": {
    "name": "ipython",
    "version": 3
   },
   "file_extension": ".py",
   "mimetype": "text/x-python",
   "name": "python",
   "nbconvert_exporter": "python",
   "pygments_lexer": "ipython3",
   "version": "3.10.9"
  },
  "orig_nbformat": 4
 },
 "nbformat": 4,
 "nbformat_minor": 2
}
