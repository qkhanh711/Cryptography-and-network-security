{
 "cells": [
  {
   "cell_type": "code",
   "execution_count": 2,
   "metadata": {
    "ExecuteTime": {
     "end_time": "2023-09-15T00:02:16.610295285Z",
     "start_time": "2023-09-15T00:02:16.604011877Z"
    }
   },
   "outputs": [
    {
     "name": "stdout",
     "output_type": "stream",
     "text": [
      "110001 110010 110011 110100 \n"
     ]
    }
   ],
   "source": [
    "def convert_bstring_to_bin(bstring):\n",
    "  bin_str = \"\"\n",
    "  for char in bstring:\n",
    "    bin_str += bin(ord(char))[2:] + ' '\n",
    "  return bin_str\n",
    "\n",
    "\n",
    "print(convert_bstring_to_bin('1234'))\n"
   ]
  }
 ],
 "metadata": {
  "kernelspec": {
   "display_name": "base",
   "language": "python",
   "name": "python3"
  },
  "language_info": {
   "codemirror_mode": {
    "name": "ipython",
    "version": 3
   },
   "file_extension": ".py",
   "mimetype": "text/x-python",
   "name": "python",
   "nbconvert_exporter": "python",
   "pygments_lexer": "ipython3",
   "version": "3.10.9"
  },
  "orig_nbformat": 4
 },
 "nbformat": 4,
 "nbformat_minor": 2
}
