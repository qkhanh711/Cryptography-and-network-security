{
 "cells": [
  {
   "cell_type": "code",
   "execution_count": 14,
   "metadata": {},
   "outputs": [],
   "source": [
    "def encrypt(plaintext,k):\n",
    "    result = \"\"\n",
    "    # traverse text\n",
    "    for i in range(len(plaintext)):\n",
    "        char = plaintext[i]\n",
    "        # Encrypt uppercase characters\n",
    "        if (char.isupper()):\n",
    "            result += chr((ord(char) + k-65) % 26 + 65)\n",
    "        # Encrypt lowercase characters\n",
    "        else:\n",
    "            result += chr((ord(char) + k - 97) % 26 + 97)\n",
    "    return result"
   ]
  },
  {
   "cell_type": "code",
   "execution_count": 15,
   "metadata": {},
   "outputs": [
    {
     "name": "stdout",
     "output_type": "stream",
     "text": [
      "Ciphertext: iqyqqffayaddai\n"
     ]
    }
   ],
   "source": [
    "#check encrypt function\n",
    "plaintext = \"wemeettomorrow\"\n",
    "k = 12\n",
    "print (\"Ciphertext: \" + encrypt(plaintext,k))"
   ]
  },
  {
   "cell_type": "code",
   "execution_count": 16,
   "metadata": {},
   "outputs": [],
   "source": [
    "def decrypt(ciphertext,k):\n",
    "    result = \"\"\n",
    "    # traverse text\n",
    "    for i in range(len(ciphertext)):\n",
    "        char = ciphertext[i]\n",
    "        # Decrypt uppercase characters\n",
    "        if (char.isupper()):\n",
    "            result += chr((ord(char) - k-65) % 26 + 65)\n",
    "        # Encrypt lowercase characters\n",
    "        else:\n",
    "            result += chr((ord(char) - k - 97) % 26 + 97)\n",
    "    return result"
   ]
  },
  {
   "cell_type": "code",
   "execution_count": 17,
   "metadata": {},
   "outputs": [
    {
     "name": "stdout",
     "output_type": "stream",
     "text": [
      "Plaintext : HOCDELAMVIECVALAMNGUOI\n"
     ]
    }
   ],
   "source": [
    "#check decrypt function\n",
    "ciphertext = \"BIWXYFUGPCYWPUFUGHAOIC\"\n",
    "k = 20\n",
    "print (\"Plaintext : \" + decrypt(ciphertext,k))"
   ]
  },
  {
   "cell_type": "code",
   "execution_count": 19,
   "metadata": {},
   "outputs": [
    {
     "name": "stdout",
     "output_type": "stream",
     "text": [
      "For key =  0 plaintext=ucjamkcrmnfclgiyy\n",
      "For key =  1 plaintext=tbizljbqlmebkfhxx\n",
      "For key =  2 plaintext=sahykiapkldajegww\n",
      "For key =  3 plaintext=rzgxjhzojkczidfvv\n",
      "For key =  4 plaintext=qyfwigynijbyhceuu\n",
      "For key =  5 plaintext=pxevhfxmhiaxgbdtt\n",
      "For key =  6 plaintext=owdugewlghzwfacss\n",
      "For key =  7 plaintext=nvctfdvkfgyvezbrr\n",
      "For key =  8 plaintext=mubsecujefxudyaqq\n",
      "For key =  9 plaintext=ltardbtidewtcxzpp\n",
      "For key =  10 plaintext=kszqcashcdvsbwyoo\n",
      "For key =  11 plaintext=jrypbzrgbcuravxnn\n",
      "For key =  12 plaintext=iqxoayqfabtqzuwmm\n",
      "For key =  13 plaintext=hpwnzxpezaspytvll\n",
      "For key =  14 plaintext=govmywodyzroxsukk\n",
      "For key =  15 plaintext=fnulxvncxyqnwrtjj\n",
      "For key =  16 plaintext=emtkwumbwxpmvqsii\n",
      "For key =  17 plaintext=dlsjvtlavwoluprhh\n",
      "For key =  18 plaintext=ckriuskzuvnktoqgg\n",
      "For key =  19 plaintext=bjqhtrjytumjsnpff\n",
      "For key =  20 plaintext=aipgsqixstlirmoee\n",
      "For key =  21 plaintext=zhofrphwrskhqlndd\n",
      "For key =  22 plaintext=ygneqogvqrjgpkmcc\n",
      "For key =  23 plaintext=xfmdpnfupqifojlbb\n",
      "For key =  24 plaintext=welcometophenikaa\n",
      "For key =  25 plaintext=vdkbnldsnogdmhjzz\n"
     ]
    }
   ],
   "source": [
    "# Caesar Crack\n",
    "ciphertext=input('Type ciphertext:')\n",
    "for k in range(0,26):\n",
    "    plaintext=decrypt(ciphertext,k)\n",
    "    print(\"For key = \",k,\"plaintext=\"+plaintext.lower())"
   ]
  },
  {
   "cell_type": "code",
   "execution_count": 20,
   "metadata": {},
   "outputs": [
    {
     "data": {
      "text/plain": [
       "16.0"
      ]
     },
     "execution_count": 20,
     "metadata": {},
     "output_type": "execute_result"
    }
   ],
   "source": [
    "128/8"
   ]
  }
 ],
 "metadata": {
  "kernelspec": {
   "display_name": "base",
   "language": "python",
   "name": "python3"
  },
  "language_info": {
   "codemirror_mode": {
    "name": "ipython",
    "version": 3
   },
   "file_extension": ".py",
   "mimetype": "text/x-python",
   "name": "python",
   "nbconvert_exporter": "python",
   "pygments_lexer": "ipython3",
   "version": "3.10.9"
  },
  "orig_nbformat": 4
 },
 "nbformat": 4,
 "nbformat_minor": 2
}
