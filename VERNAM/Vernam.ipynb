{
 "cells": [
  {
   "cell_type": "code",
   "execution_count": 7,
   "metadata": {},
   "outputs": [
    {
     "name": "stdout",
     "output_type": "stream",
     "text": [
      "cd170d56193392fc111d034f34\n",
      "Encrypted Text: 80762d3e7652b2aa746f6d2e59\n",
      "Decrypted Text: Ma hoa Vernam\n"
     ]
    }
   ],
   "source": [
    "import random\n",
    "\n",
    "def generate_random_key(length):\n",
    "    key = [random.randint(0, 255) for _ in range(length)]\n",
    "    return bytes(key)\n",
    "\n",
    "def vernam_encrypt(plain_text, key):\n",
    "    encrypted_text = bytes([plain_byte ^ key_byte for plain_byte, key_byte in zip(plain_text, key)])\n",
    "    return encrypted_text\n",
    "\n",
    "def vernam_decrypt(encrypted_text, key):\n",
    "    decrypted_text = bytes([encrypted_byte ^ key_byte for encrypted_byte, key_byte in zip(encrypted_text, key)])\n",
    "    return decrypted_text\n",
    "\n",
    "plain_text = b\"Ma hoa Vernam\"\n",
    "\n",
    "key = generate_random_key(len(plain_text))\n",
    "print(key.hex())\n",
    "encrypted_text = vernam_encrypt(plain_text, key)\n",
    "print(\"Encrypted Text:\", encrypted_text.hex())\n",
    "\n",
    "decrypted_text = vernam_decrypt(encrypted_text, key)\n",
    "print(\"Decrypted Text:\", decrypted_text.decode())\n"
   ]
  }
 ],
 "metadata": {
  "kernelspec": {
   "display_name": "base",
   "language": "python",
   "name": "python3"
  },
  "language_info": {
   "codemirror_mode": {
    "name": "ipython",
    "version": 3
   },
   "file_extension": ".py",
   "mimetype": "text/x-python",
   "name": "python",
   "nbconvert_exporter": "python",
   "pygments_lexer": "ipython3",
   "version": "3.10.9"
  },
  "orig_nbformat": 4
 },
 "nbformat": 4,
 "nbformat_minor": 2
}
