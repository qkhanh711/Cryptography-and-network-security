{
 "cells": [
  {
   "cell_type": "code",
   "execution_count": 48,
   "metadata": {},
   "outputs": [],
   "source": [
    "from config import *\n",
    "from utils import *"
   ]
  },
  {
   "cell_type": "code",
   "execution_count": 49,
   "metadata": {},
   "outputs": [],
   "source": [
    "# print(sbox)\n",
    "# for row in range(16):\n",
    "#     for col in range(16):\n",
    "#         print(sbox[row * 4 + col], end=' ')\n",
    "#     print()\n",
    "# print()"
   ]
  },
  {
   "cell_type": "markdown",
   "metadata": {},
   "source": [
    "# Plaintext->State"
   ]
  },
  {
   "cell_type": "code",
   "execution_count": 50,
   "metadata": {},
   "outputs": [
    {
     "name": "stdout",
     "output_type": "stream",
     "text": [
      "['48', '61', '68', '6f', '63', '61', '6e', '74', '6f', '61', '6e', '74', '68', '6f', '6e', '67']\n",
      "['74', '69', '6e', '20', '20', '20', '20', '20', '20', '20', '20', '20', '20', '20', '20', '20']\n",
      "State 0\n",
      "48 61 68 6f \n",
      "63 61 6e 74 \n",
      "6f 61 6e 74 \n",
      "68 6f 6e 67 \n",
      "\n",
      "State 1\n",
      "74 69 6e 20 \n",
      "20 20 20 20 \n",
      "20 20 20 20 \n",
      "20 20 20 20 \n",
      "\n"
     ]
    }
   ],
   "source": [
    "plaintext = \"Hahocantoanthongtin\"\n",
    "char_hex_states = text_to_states(plaintext)\n",
    "for i in range(len(char_hex_states)):\n",
    "    print(f\"State {i}\")\n",
    "    # print(state)\n",
    "    for row in range(4):\n",
    "        for col in range(4):\n",
    "            print(char_hex_states[i][row * 4 + col], end=' ')\n",
    "        print()\n",
    "    print()\n",
    "\n",
    "# hex_states = text_to_states(plaintext, option= \"int value\")\n",
    "# for i in range(len(hex_states)):\n",
    "#     print(f\"State {i}\")\n",
    "#     # print(state)\n",
    "#     for row in range(4):\n",
    "#         for col in range(4):\n",
    "#             print(hex_states[i][row * 4 + col], end=' ')\n",
    "#         print()\n",
    "#     print()"
   ]
  },
  {
   "cell_type": "markdown",
   "metadata": {},
   "source": [
    "# State-> PlainText"
   ]
  },
  {
   "cell_type": "code",
   "execution_count": 51,
   "metadata": {},
   "outputs": [
    {
     "name": "stdout",
     "output_type": "stream",
     "text": [
      "Hahocantoanthong\n"
     ]
    }
   ],
   "source": [
    "hex_states = [\n",
    "    0x48, 0x61, 0x68, 0x6f,\n",
    "    0x63, 0x61, 0x6e, 0x74,\n",
    "    0x6f, 0x61, 0x6e, 0x74,\n",
    "    0x68, 0x6f, 0x6e, 0x67\n",
    "]\n",
    "plaintext = states_to_text(hex_states)\n",
    "print(plaintext)"
   ]
  },
  {
   "cell_type": "markdown",
   "metadata": {},
   "source": [
    "# Subbytes"
   ]
  },
  {
   "cell_type": "code",
   "execution_count": 52,
   "metadata": {},
   "outputs": [
    {
     "name": "stdout",
     "output_type": "stream",
     "text": [
      "['48', '61', '68', '6f', '63', '61', '6e', '74', '6f', '61', '6e', '74', '68', '6f', '6e', '67']\n",
      "State 0\n",
      "48 61 68 6f \n",
      "63 61 6e 74 \n",
      "6f 61 6e 74 \n",
      "68 6f 6e 67 \n",
      "\n"
     ]
    }
   ],
   "source": [
    "# plaintext='Khanhdeptrainhatquadat'\n",
    "char_hex_states = text_to_states(plaintext)\n",
    "for i in range(len(char_hex_states)):\n",
    "    print(f\"State {i}\")\n",
    "    # print(state)\n",
    "    for row in range(4):\n",
    "        for col in range(4):\n",
    "            print(char_hex_states[i][row * 4 + col], end=' ')\n",
    "        print()\n",
    "    print()"
   ]
  },
  {
   "cell_type": "code",
   "execution_count": 53,
   "metadata": {},
   "outputs": [
    {
     "name": "stdout",
     "output_type": "stream",
     "text": [
      "['52', 'ef', '45', 'a8', 'fb', 'ef', '9f', '92', 'a8', 'ef', '9f', '92', '45', 'a8', '9f', '85']"
     ]
    }
   ],
   "source": [
    "print(substitute_bytes(char_hex_states[0]), end = '')"
   ]
  },
  {
   "cell_type": "markdown",
   "metadata": {},
   "source": [
    "#  Shift Row"
   ]
  },
  {
   "cell_type": "code",
   "execution_count": 54,
   "metadata": {},
   "outputs": [
    {
     "name": "stdout",
     "output_type": "stream",
     "text": [
      "4b 68 61 6e\n",
      "64 65 70 68\n",
      "61 69 74 72\n",
      "74 6e 68 61\n"
     ]
    }
   ],
   "source": [
    "matrix = [\n",
    "    0x4b, 0x68, 0x61, 0x6e,\n",
    "    0x68, 0x64, 0x65, 0x70,\n",
    "    0x74, 0x72, 0x61, 0x69,\n",
    "    0x6e, 0x68, 0x61, 0x74\n",
    "]\n",
    "\n",
    "# Gọi hàm shift_rows để đảo hàng\n",
    "shift_rows(matrix)\n",
    "\n",
    "# In ma trận đã đảo hàng\n",
    "for i in range(4):\n",
    "    print(\" \".join([f\"{matrix[i*4+j]:02x}\" for j in range(4)]))\n"
   ]
  },
  {
   "cell_type": "markdown",
   "metadata": {},
   "source": [
    "# Mix columns"
   ]
  },
  {
   "cell_type": "code",
   "execution_count": 55,
   "metadata": {},
   "outputs": [],
   "source": [
    "matrix = [\n",
    "    0xd4, 0xe0, 0xb8, 0x1e, \n",
    "    0xbf, 0xb4, 0x41, 0x27, \n",
    "    0x5d, 0x52, 0x11, 0x98, \n",
    "    0x30, 0xae, 0xf1, 0xe5\n",
    "]"
   ]
  },
  {
   "cell_type": "code",
   "execution_count": 56,
   "metadata": {},
   "outputs": [
    {
     "name": "stdout",
     "output_type": "stream",
     "text": [
      "04 e0 48 28\n",
      "66 cb f8 06\n",
      "81 19 d3 26\n",
      "e5 9a 7a 4c\n"
     ]
    }
   ],
   "source": [
    "mixColumns(matrix)\n",
    "\n",
    "for i in range(4):\n",
    "    print(\" \".join([f\"{matrix[i * 4 + j]:02x}\" for j in range(4)]))"
   ]
  },
  {
   "cell_type": "markdown",
   "metadata": {},
   "source": [
    "# Add round key"
   ]
  },
  {
   "cell_type": "code",
   "execution_count": 57,
   "metadata": {},
   "outputs": [
    {
     "name": "stdout",
     "output_type": "stream",
     "text": [
      "a4 68 6b 02\n",
      "9c 9f 5b 6a\n",
      "7f 35 ea 50\n",
      "f2 2b 43 49\n"
     ]
    }
   ],
   "source": [
    "state = [\n",
    "    0x04, 0xe0, 0x48, 0x28,\n",
    "    0x66, 0xcb, 0xf8, 0x06,\n",
    "    0x81, 0x19, 0xd3, 0x26,\n",
    "    0xe5, 0x9a, 0x7a, 0x4c\n",
    "]\n",
    "\n",
    "key = [\n",
    "    0xa0, 0x88, 0x23, 0x2a,\n",
    "    0xfa, 0x54, 0xa3, 0x6c,\n",
    "    0xfe, 0x2c, 0x39, 0x76,\n",
    "    0x17, 0xb1, 0x39, 0x05\n",
    "]\n",
    "\n",
    "add_round_key(state, key)\n",
    "\n",
    "for i in range(0, len(state), 4):\n",
    "    print(\" \".join([f\"{state[i + j]:02x}\" for j in range(4)]))"
   ]
  },
  {
   "cell_type": "markdown",
   "metadata": {},
   "source": [
    "# Key schedule"
   ]
  },
  {
   "cell_type": "code",
   "execution_count": 58,
   "metadata": {},
   "outputs": [],
   "source": [
    "# def expandKey(cipherKey, key_length, rounds):\n",
    "#     expandedKeySize = 16 * (rounds + 1)\n",
    "#     expandedKey = [0] * expandedKeySize\n",
    "#     currentSize = 0\n",
    "#     rconIter = 1\n",
    "#     t = [0] * 4\n",
    "\n",
    "#     for i in range(key_length):\n",
    "#         expandedKey[i] = cipherKey[i]\n",
    "#     currentSize += key_length\n",
    "\n",
    "#     while currentSize < expandedKeySize:\n",
    "#         for i in range(4):\n",
    "#             t[i] = expandedKey[currentSize - 4 + i]\n",
    "#         if currentSize % key_length == 0:\n",
    "#             t = keyScheduleCore(t, rconIter)\n",
    "#             rconIter += 1\n",
    "#         if key_length == 32 and currentSize % key_length == 16:\n",
    "#             for i in range(4):\n",
    "#                 t[i] = sbox[t[i]]\n",
    "#         for i in range(4):\n",
    "#             expandedKey[currentSize] = expandedKey[currentSize - key_length] ^ t[i]\n",
    "#             currentSize += 1\n",
    "\n",
    "#     return expandedKey\n",
    "# expanded_key = expandKey(key, 176, 10)"
   ]
  },
  {
   "cell_type": "code",
   "execution_count": 59,
   "metadata": {},
   "outputs": [
    {
     "name": "stdout",
     "output_type": "stream",
     "text": [
      "2b 28 ab 09 a0 88 23 2a f2 7a 59 73 3d 47 1e \n",
      "7e ae f7 cf fa 54 a3 6c c2 96 35 59 80 16 23 \n",
      "15 d2 15 4f fe 2c 39 76 95 b9 80 f6 47 fe 7e \n",
      "16 a6 88 3c 17 b1 39 05 f2 43 7a 7f 7d 3e 44 \n"
     ]
    }
   ],
   "source": [
    "key = [\n",
    "    0x2b, 0x7e, 0x15, 0x16,\n",
    "    0x28, 0xae, 0xd2, 0xa6,\n",
    "    0xab, 0xf7, 0x15, 0x88,\n",
    "    0x09, 0xcf, 0x4f, 0x3c\n",
    "]\n",
    "expanded_key = expandKey(key, key_length=240)\n",
    "\n",
    "for j in range(4):\n",
    "    for i in range(15):\n",
    "        print(f\"{expanded_key[i * 4 + j]:02x}\", end=\" \")\n",
    "    print()"
   ]
  },
  {
   "cell_type": "code",
   "execution_count": 60,
   "metadata": {},
   "outputs": [
    {
     "name": "stdout",
     "output_type": "stream",
     "text": [
      "2b 28 ab 09 a0 88 23 2a f2 7a 59 73 3d 47 1e 6d ef a8 b6 db d4 7c ca 11 6d 11 db ca 4e 5f 84 4e ea b5 31 7f ac 19 28 57 d0 c9 e1 b6 47 8e 6f d9 f5 7b 14 cd 15 6e 7a b7 b8 d6 ac 1b \n"
     ]
    }
   ],
   "source": [
    "for j in range(1):\n",
    "    for i in range(60):\n",
    "        print(f\"{expanded_key[i * 4 + j]:02x}\", end=\" \")\n",
    "    print()"
   ]
  },
  {
   "cell_type": "code",
   "execution_count": 61,
   "metadata": {},
   "outputs": [
    {
     "name": "stdout",
     "output_type": "stream",
     "text": [
      "[43, 126, 21, 22, 40, 174, 210, 166, 171, 247, 21, 136, 9, 207, 79, 60, 160, 250, 254, 23, 136, 84, 44, 177, 35, 163, 57, 57, 42, 108, 118, 5, 242, 194, 149, 242, 122, 150, 185, 67, 89, 53, 128, 122, 115, 89, 246, 127, 61, 128, 71, 125, 71, 22, 254, 62, 30, 35, 126, 68, 109, 122, 136, 59, 239, 68, 165, 65, 168, 82, 91, 127, 182, 113, 37, 59, 219, 11, 173, 0, 212, 209, 198, 248, 124, 131, 157, 135, 202, 242, 184, 188, 17, 249, 21, 188, 109, 136, 163, 122, 17, 11, 62, 253, 219, 249, 134, 65, 202, 0, 147, 253, 78, 84, 247, 14, 95, 95, 201, 243, 132, 166, 79, 178, 78, 166, 220, 79, 234, 210, 115, 33, 181, 141, 186, 210, 49, 43, 245, 96, 127, 141, 41, 47, 172, 119, 102, 243, 25, 250, 220, 33, 40, 209, 41, 65, 87, 92, 0, 110, 208, 20, 249, 168, 201, 238, 37, 137, 225, 63, 12, 200, 182, 99, 12, 166, 71, 234, 221, 230, 142, 4, 248, 111, 111, 59, 244, 167, 217, 88, 248, 1, 245, 171, 161, 211, 123, 175, 89, 188, 20, 148, 173, 27, 205, 204, 85, 26, 21, 87, 3, 110, 110, 248, 90, 210, 122, 108, 247, 201, 183, 160, 162, 211, 184, 109, 101, 199, 214, 149, 63, 21, 172, 249, 200, 220, 27, 89, 106, 15]\n"
     ]
    }
   ],
   "source": [
    "print(expanded_key)"
   ]
  },
  {
   "cell_type": "markdown",
   "metadata": {},
   "source": [
    "# EnCriptor"
   ]
  },
  {
   "cell_type": "code",
   "execution_count": 62,
   "metadata": {},
   "outputs": [],
   "source": [
    "def encryptBlock(state, roundKeys):\n",
    "    roundKeyIndex = 0\n",
    "\n",
    "    add_round_key(state, roundKeys[:16])\n",
    "\n",
    "    for round in range(1, 10):\n",
    "        substitute_bytes(state)\n",
    "        shift_rows(state)\n",
    "        mixColumns(state)\n",
    "        add_round_key(state, roundKeys[roundKeyIndex + 16:roundKeyIndex + 32])\n",
    "        roundKeyIndex += 16\n",
    "\n",
    "    substitute_bytes(state)\n",
    "    shift_rows(state)\n",
    "    add_round_key(state, roundKeys[160:])\n",
    "\n",
    "    # Chuyển đổi trạng thái trở lại dạng hex\n",
    "    state = [format(byte, '02x') for byte in state]\n",
    "    \n",
    "    return state"
   ]
  },
  {
   "cell_type": "code",
   "execution_count": 67,
   "metadata": {},
   "outputs": [
    {
     "name": "stdout",
     "output_type": "stream",
     "text": [
      "['30', '31', '32', '33', '34', '35', '36', '37', '38', '39', '61', '62', '63', '64', '65', '66']\n",
      "['66', '65', '64', '63', '62', '61', '39', '38', '37', '36', '35', '34', '33', '32', '31', '30']\n",
      "[[48, 49, 50, 51, 52, 53, 54, 55, 56, 57, 97, 98, 99, 100, 101, 102], [102, 101, 100, 99, 98, 97, 57, 56, 55, 54, 53, 52, 51, 50, 49, 48]]\n",
      "[[48, 102, 49, 53, 55, 49, 99, 57, 52, 55, 100, 57, 101, 56, 53, 57], [48, 99, 98, 55, 97, 100, 100, 54, 97, 102, 55, 102, 54, 55, 57, 56]]\n"
     ]
    },
    {
     "ename": "TypeError",
     "evalue": "unsupported operand type(s) for ^=: 'int' and 'str'",
     "output_type": "error",
     "traceback": [
      "\u001b[0;31m---------------------------------------------------------------------------\u001b[0m",
      "\u001b[0;31mTypeError\u001b[0m                                 Traceback (most recent call last)",
      "Cell \u001b[0;32mIn[67], line 19\u001b[0m\n\u001b[1;32m     16\u001b[0m plaintext \u001b[39m=\u001b[39m \u001b[39m\"\u001b[39m\u001b[39m0123456789abcdeffedcba9876543210\u001b[39m\u001b[39m\"\u001b[39m\n\u001b[1;32m     17\u001b[0m key \u001b[39m=\u001b[39m \u001b[39m\"\u001b[39m\u001b[39m0f1571c947d9e8590cb7add6af7f6798\u001b[39m\u001b[39m\"\u001b[39m\n\u001b[0;32m---> 19\u001b[0m ciphertext \u001b[39m=\u001b[39m encrypt(plaintext, key, key_length\u001b[39m=\u001b[39;49m\u001b[39m16\u001b[39;49m)\n\u001b[1;32m     20\u001b[0m \u001b[39mprint\u001b[39m(\u001b[39m\"\u001b[39m\u001b[39mMã hóa:\u001b[39m\u001b[39m\"\u001b[39m, ciphertext)\n",
      "Cell \u001b[0;32mIn[67], line 11\u001b[0m, in \u001b[0;36mencrypt\u001b[0;34m(plaintext, cipherKey, key_length)\u001b[0m\n\u001b[1;32m      8\u001b[0m ciphertext \u001b[39m=\u001b[39m []\n\u001b[1;32m     10\u001b[0m \u001b[39mfor\u001b[39;00m state \u001b[39min\u001b[39;00m states:\n\u001b[0;32m---> 11\u001b[0m     state \u001b[39m=\u001b[39m encryptBlock(state, expandedKey)\n\u001b[1;32m     12\u001b[0m     ciphertext\u001b[39m.\u001b[39mextend(state)\n\u001b[1;32m     14\u001b[0m \u001b[39mreturn\u001b[39;00m \u001b[39m\"\u001b[39m\u001b[39m\"\u001b[39m\u001b[39m.\u001b[39mjoin(ciphertext)\n",
      "Cell \u001b[0;32mIn[62], line 4\u001b[0m, in \u001b[0;36mencryptBlock\u001b[0;34m(state, roundKeys)\u001b[0m\n\u001b[1;32m      1\u001b[0m \u001b[39mdef\u001b[39;00m \u001b[39mencryptBlock\u001b[39m(state, roundKeys):\n\u001b[1;32m      2\u001b[0m     roundKeyIndex \u001b[39m=\u001b[39m \u001b[39m0\u001b[39m\n\u001b[0;32m----> 4\u001b[0m     add_round_key(state, roundKeys[:\u001b[39m16\u001b[39;49m])\n\u001b[1;32m      6\u001b[0m     \u001b[39mfor\u001b[39;00m \u001b[39mround\u001b[39m \u001b[39min\u001b[39;00m \u001b[39mrange\u001b[39m(\u001b[39m1\u001b[39m, \u001b[39m10\u001b[39m):\n\u001b[1;32m      7\u001b[0m         substitute_bytes(state)\n",
      "File \u001b[0;32m~/Uni/Cryptography-and-network-security/AES/utils.py:84\u001b[0m, in \u001b[0;36madd_round_key\u001b[0;34m(state, round_key)\u001b[0m\n\u001b[1;32m     82\u001b[0m \u001b[39mdef\u001b[39;00m \u001b[39madd_round_key\u001b[39m(state, round_key):\n\u001b[1;32m     83\u001b[0m     \u001b[39mfor\u001b[39;00m i \u001b[39min\u001b[39;00m \u001b[39mrange\u001b[39m(\u001b[39m16\u001b[39m):\n\u001b[0;32m---> 84\u001b[0m         state[i] \u001b[39m^\u001b[39m\u001b[39m=\u001b[39m round_key[i]\n",
      "\u001b[0;31mTypeError\u001b[0m: unsupported operand type(s) for ^=: 'int' and 'str'"
     ]
    }
   ],
   "source": [
    "def encrypt(plaintext, cipherKey, key_length=176):\n",
    "    expandedKey = expandKey(cipherKey, key_length)\n",
    "    visualize = text_to_states(plaintext)\n",
    "    states = text_to_states(plaintext, option=\"int\")\n",
    "    cipherKey = text_to_states(cipherKey, option=\"int\")\n",
    "    print(states)\n",
    "    print (cipherKey)\n",
    "    ciphertext = []\n",
    "\n",
    "    for state in states:\n",
    "        state = encryptBlock(state, expandedKey)\n",
    "        ciphertext.extend(state)\n",
    "\n",
    "    return \"\".join(ciphertext)\n",
    "\n",
    "plaintext = \"0123456789abcdeffedcba9876543210\"\n",
    "key = \"0f1571c947d9e8590cb7add6af7f6798\"\n",
    "\n",
    "ciphertext = encrypt(plaintext, key, key_length=16)\n",
    "print(\"Mã hóa:\", ciphertext)\n"
   ]
  }
 ],
 "metadata": {
  "kernelspec": {
   "display_name": "base",
   "language": "python",
   "name": "python3"
  },
  "language_info": {
   "codemirror_mode": {
    "name": "ipython",
    "version": 3
   },
   "file_extension": ".py",
   "mimetype": "text/x-python",
   "name": "python",
   "nbconvert_exporter": "python",
   "pygments_lexer": "ipython3",
   "version": "3.10.9"
  },
  "orig_nbformat": 4
 },
 "nbformat": 4,
 "nbformat_minor": 2
}
