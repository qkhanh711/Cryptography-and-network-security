{
 "cells": [
  {
   "cell_type": "markdown",
   "metadata": {},
   "source": [
    "# <h1 style=\"color:red; text-align:center\">San pham nay la cua Nguyen Quoc Khanh<h1>"
   ]
  },
  {
   "cell_type": "code",
   "execution_count": 60,
   "metadata": {
    "ExecuteTime": {
     "end_time": "2023-09-14T23:54:51.595151807Z",
     "start_time": "2023-09-14T23:54:51.430734235Z"
    }
   },
   "outputs": [
    {
     "name": "stdout",
     "output_type": "stream",
     "text": [
      "config.py  main.py  __pycache__  scratch.ipynb\ttest  utils.py\n"
     ]
    }
   ],
   "source": [
    "!ls"
   ]
  },
  {
   "cell_type": "code",
   "execution_count": 61,
   "metadata": {
    "ExecuteTime": {
     "end_time": "2023-09-14T23:54:55.397748496Z",
     "start_time": "2023-09-14T23:54:55.378902049Z"
    }
   },
   "outputs": [],
   "source": [
    "from config import *\n",
    "from utils import *"
   ]
  },
  {
   "cell_type": "code",
   "execution_count": 62,
   "metadata": {
    "ExecuteTime": {
     "end_time": "2023-09-14T23:54:55.848930101Z",
     "start_time": "2023-09-14T23:54:55.844330798Z"
    }
   },
   "outputs": [],
   "source": [
    "# print(sbox)\n",
    "# for row in range(16):\n",
    "#     for col in range(16):\n",
    "#         print(sbox[row * 4 + col], end=' ')\n",
    "#     print()\n",
    "# print()"
   ]
  },
  {
   "cell_type": "markdown",
   "metadata": {},
   "source": [
    "# Plaintext->State"
   ]
  },
  {
   "cell_type": "code",
   "execution_count": 63,
   "metadata": {
    "ExecuteTime": {
     "end_time": "2023-09-14T23:54:56.718401385Z",
     "start_time": "2023-09-14T23:54:56.683141813Z"
    }
   },
   "outputs": [
    {
     "name": "stdout",
     "output_type": "stream",
     "text": [
      "Plaintext:  Hahocantoanthongtin\n",
      "char_hex_states\n",
      "State 0\n",
      "48 61 68 6f \n",
      "63 61 6e 74 \n",
      "6f 61 6e 74 \n",
      "68 6f 6e 67 \n",
      "\n",
      "State 1\n",
      "74 69 6e 20 \n",
      "20 20 20 20 \n",
      "20 20 20 20 \n",
      "20 20 20 20 \n",
      "\n",
      "int_hex_states\n",
      "State 0\n",
      "72 97 104 111 \n",
      "99 97 110 116 \n",
      "111 97 110 116 \n",
      "104 111 110 103 \n",
      "\n",
      "State 1\n",
      "116 105 110 32 \n",
      "32 32 32 32 \n",
      "32 32 32 32 \n",
      "32 32 32 32 \n",
      "\n"
     ]
    }
   ],
   "source": [
    "plaintext = \"Hahocantoanthongtin\"\n",
    "char_hex_states = text_to_states(plaintext)\n",
    "print(f\"Plaintext:  {plaintext}\")\n",
    "print(\"char_hex_states\")\n",
    "for i in range(len(char_hex_states)):\n",
    "    print(f\"State {i}\")\n",
    "    # print(state)\n",
    "    for row in range(4):\n",
    "        for col in range(4):\n",
    "            print(char_hex_states[i][row * 4 + col], end=' ')\n",
    "        print()\n",
    "    print()\n",
    "print(\"int_hex_states\")\n",
    "hex_states = text_to_states(plaintext, option= \"int value\")\n",
    "for i in range(len(hex_states)):\n",
    "    print(f\"State {i}\")\n",
    "    # print(state)\n",
    "    for row in range(4):\n",
    "        for col in range(4):\n",
    "            print(hex_states[i][row * 4 + col], end=' ')\n",
    "        print()\n",
    "    print()"
   ]
  },
  {
   "cell_type": "markdown",
   "metadata": {},
   "source": [
    "# State-> PlainText"
   ]
  },
  {
   "cell_type": "code",
   "execution_count": 64,
   "metadata": {
    "ExecuteTime": {
     "end_time": "2023-09-14T23:54:57.541563725Z",
     "start_time": "2023-09-14T23:54:57.503756778Z"
    }
   },
   "outputs": [
    {
     "name": "stdout",
     "output_type": "stream",
     "text": [
      "Hahocantoanthong\n"
     ]
    }
   ],
   "source": [
    "test_hex_states = [\n",
    "    0x48, 0x61, 0x68, 0x6f,\n",
    "    0x63, 0x61, 0x6e, 0x74,\n",
    "    0x6f, 0x61, 0x6e, 0x74,\n",
    "    0x68, 0x6f, 0x6e, 0x67\n",
    "]\n",
    "plaintext = states_to_text(test_hex_states)\n",
    "print(plaintext)"
   ]
  },
  {
   "cell_type": "markdown",
   "metadata": {},
   "source": [
    "# Subbytes"
   ]
  },
  {
   "cell_type": "code",
   "execution_count": 65,
   "metadata": {},
   "outputs": [
    {
     "name": "stdout",
     "output_type": "stream",
     "text": [
      "[[72, 97, 104, 111, 99, 97, 110, 116, 111, 97, 110, 116, 104, 111, 110, 103], [116, 105, 110, 32, 32, 32, 32, 32, 32, 32, 32, 32, 32, 32, 32, 32]] "
     ]
    }
   ],
   "source": [
    "print(hex_states, end=' ')"
   ]
  },
  {
   "cell_type": "code",
   "execution_count": 66,
   "metadata": {
    "ExecuteTime": {
     "end_time": "2023-09-14T23:54:58.449621885Z",
     "start_time": "2023-09-14T23:54:58.434812192Z"
    }
   },
   "outputs": [
    {
     "name": "stdout",
     "output_type": "stream",
     "text": [
      "State 0\n",
      "48 61 68 6f \n",
      "63 61 6e 74 \n",
      "6f 61 6e 74 \n",
      "68 6f 6e 67 \n",
      "\n",
      "State 1\n",
      "74 69 6e 20 \n",
      "20 20 20 20 \n",
      "20 20 20 20 \n",
      "20 20 20 20 \n",
      "\n"
     ]
    }
   ],
   "source": [
    "# plaintext='Khanhdeptrainhatquadat'\n",
    "# char_hex_states = text_to_states(plaintext)\n",
    "for i in range(len(char_hex_states)):\n",
    "    print(f\"State {i}\")\n",
    "    # print(state)\n",
    "    for row in range(4):\n",
    "        for col in range(4):\n",
    "            print(char_hex_states[i][row * 4 + col], end=' ')\n",
    "        print()\n",
    "    print()"
   ]
  },
  {
   "cell_type": "code",
   "execution_count": 67,
   "metadata": {},
   "outputs": [
    {
     "data": {
      "text/plain": [
       "[72, 97, 104, 111, 99, 97, 110, 116, 111, 97, 110, 116, 104, 111, 110, 103]"
      ]
     },
     "execution_count": 67,
     "metadata": {},
     "output_type": "execute_result"
    }
   ],
   "source": [
    "hex_states[0]"
   ]
  },
  {
   "cell_type": "code",
   "execution_count": 68,
   "metadata": {},
   "outputs": [],
   "source": [
    "def substitute_bytes(state):\n",
    "    result_hex = []\n",
    "    for byte_hex in state:\n",
    "        # byte_int = int(byte_hex, 16)\n",
    "        substituted_byte = sbox[byte_hex]\n",
    "        result_hex.append(format(substituted_byte, '02x'))  \n",
    "    return result_hex"
   ]
  },
  {
   "cell_type": "code",
   "execution_count": 69,
   "metadata": {
    "ExecuteTime": {
     "end_time": "2023-09-14T23:54:59.029442496Z",
     "start_time": "2023-09-14T23:54:59.011310867Z"
    }
   },
   "outputs": [
    {
     "name": "stdout",
     "output_type": "stream",
     "text": [
      "['52', 'ef', '45', 'a8', 'fb', 'ef', '9f', '92', 'a8', 'ef', '9f', '92', '45', 'a8', '9f', '85']\n",
      "52 ef 45 a8\n",
      "fb ef 9f 92\n",
      "a8 ef 9f 92\n",
      "45 a8 9f 85\n"
     ]
    }
   ],
   "source": [
    "sub_state = substitute_bytes(hex_states[0])\n",
    "print(sub_state, end = '')\n",
    "int_sub_state = [int(element, 16) for element in sub_state]\n",
    "int_sub_state\n",
    "print()\n",
    "for i in range(4):\n",
    "    print(\" \".join([f\"{int_sub_state[i*4+j]:02x}\" for j in range(4)]))"
   ]
  },
  {
   "cell_type": "markdown",
   "metadata": {},
   "source": [
    "#  Shift Row"
   ]
  },
  {
   "cell_type": "code",
   "execution_count": 70,
   "metadata": {
    "ExecuteTime": {
     "end_time": "2023-09-14T23:55:00.041096010Z",
     "start_time": "2023-09-14T23:55:00.034134995Z"
    }
   },
   "outputs": [
    {
     "name": "stdout",
     "output_type": "stream",
     "text": [
      "52 ef 45 a8\n",
      "ef 9f 92 fb\n",
      "9f 92 a8 ef\n",
      "85 45 a8 9f\n"
     ]
    }
   ],
   "source": [
    "shift_state = shift_rows(int_sub_state)\n",
    "for i in range(4):\n",
    "    print(\" \".join([f\"{shift_state[i*4+j]:02x}\" for j in range(4)]))"
   ]
  },
  {
   "cell_type": "code",
   "execution_count": 71,
   "metadata": {
    "ExecuteTime": {
     "end_time": "2023-09-14T23:55:00.378001892Z",
     "start_time": "2023-09-14T23:55:00.364857083Z"
    }
   },
   "outputs": [
    {
     "name": "stdout",
     "output_type": "stream",
     "text": [
      "4b 68 61 6e\n",
      "64 65 70 68\n",
      "61 69 74 72\n",
      "74 6e 68 61\n"
     ]
    }
   ],
   "source": [
    "# TEST TRUE FUNCTION\n",
    "matrix = [\n",
    "    0x4b, 0x68, 0x61, 0x6e,\n",
    "    0x68, 0x64, 0x65, 0x70,\n",
    "    0x74, 0x72, 0x61, 0x69,\n",
    "    0x6e, 0x68, 0x61, 0x74\n",
    "]\n",
    "\n",
    "shift_rows(matrix)\n",
    "\n",
    "for i in range(4):\n",
    "    print(\" \".join([f\"{matrix[i*4+j]:02x}\" for j in range(4)]))\n"
   ]
  },
  {
   "cell_type": "markdown",
   "metadata": {},
   "source": [
    "# Mix columns"
   ]
  },
  {
   "cell_type": "code",
   "execution_count": 72,
   "metadata": {
    "ExecuteTime": {
     "end_time": "2023-09-14T23:55:01.198383542Z",
     "start_time": "2023-09-14T23:55:01.192199194Z"
    }
   },
   "outputs": [
    {
     "name": "stdout",
     "output_type": "stream",
     "text": [
      "94 a8 27 2d\n",
      "a8 22 31 f0\n",
      "0c 80 7f 2c\n",
      "97 ad be d2\n"
     ]
    }
   ],
   "source": [
    "mix_state = mixColumns(shift_state)\n",
    "\n",
    "for i in range(4):\n",
    "    print(\" \".join([f\"{shift_state[i * 4 + j]:02x}\" for j in range(4)]))"
   ]
  },
  {
   "cell_type": "code",
   "execution_count": 73,
   "metadata": {
    "ExecuteTime": {
     "end_time": "2023-09-14T23:55:01.743601611Z",
     "start_time": "2023-09-14T23:55:01.732619907Z"
    }
   },
   "outputs": [
    {
     "name": "stdout",
     "output_type": "stream",
     "text": [
      "04 e0 48 28\n",
      "66 cb f8 06\n",
      "81 19 d3 26\n",
      "e5 9a 7a 4c\n"
     ]
    }
   ],
   "source": [
    "# TEST TRUE FUNCTION\n",
    "matrix = [\n",
    "    0xd4, 0xe0, 0xb8, 0x1e, \n",
    "    0xbf, 0xb4, 0x41, 0x27, \n",
    "    0x5d, 0x52, 0x11, 0x98, \n",
    "    0x30, 0xae, 0xf1, 0xe5\n",
    "]\n",
    "\n",
    "mixColumns(matrix)\n",
    "\n",
    "for i in range(4):\n",
    "    print(\" \".join([f\"{matrix[i * 4 + j]:02x}\" for j in range(4)]))"
   ]
  },
  {
   "cell_type": "markdown",
   "metadata": {},
   "source": [
    "# Add round key"
   ]
  },
  {
   "cell_type": "code",
   "execution_count": 74,
   "metadata": {
    "ExecuteTime": {
     "end_time": "2023-09-14T23:55:02.595056832Z",
     "start_time": "2023-09-14T23:55:02.575444637Z"
    }
   },
   "outputs": [
    {
     "name": "stdout",
     "output_type": "stream",
     "text": [
      "34 20 04 07\n",
      "52 76 92 9c\n",
      "f2 ac 46 5a\n",
      "80 1c 87 d7\n"
     ]
    }
   ],
   "source": [
    "key = [\n",
    "    0xa0, 0x88, 0x23, 0x2a,\n",
    "    0xfa, 0x54, 0xa3, 0x6c,\n",
    "    0xfe, 0x2c, 0x39, 0x76,\n",
    "    0x17, 0xb1, 0x39, 0x05\n",
    "]\n",
    "\n",
    "added_key = add_round_key(mix_state, key)\n",
    "for i in range(0, len(added_key), 4):\n",
    "    print(\" \".join([f\"{added_key[i + j]:02x}\" for j in range(4)]))"
   ]
  },
  {
   "cell_type": "code",
   "execution_count": 75,
   "metadata": {
    "ExecuteTime": {
     "end_time": "2023-09-14T23:55:03.488261507Z",
     "start_time": "2023-09-14T23:55:03.470180632Z"
    }
   },
   "outputs": [
    {
     "name": "stdout",
     "output_type": "stream",
     "text": [
      "a4 68 6b 02\n",
      "9c 9f 5b 6a\n",
      "7f 35 ea 50\n",
      "f2 2b 43 49\n"
     ]
    }
   ],
   "source": [
    "# TEST TRUE FUNCTION\n",
    "state = [\n",
    "    0x04, 0xe0, 0x48, 0x28,\n",
    "    0x66, 0xcb, 0xf8, 0x06,\n",
    "    0x81, 0x19, 0xd3, 0x26,\n",
    "    0xe5, 0x9a, 0x7a, 0x4c\n",
    "]\n",
    "\n",
    "key = [\n",
    "    0xa0, 0x88, 0x23, 0x2a,\n",
    "    0xfa, 0x54, 0xa3, 0x6c,\n",
    "    0xfe, 0x2c, 0x39, 0x76,\n",
    "    0x17, 0xb1, 0x39, 0x05\n",
    "]\n",
    "\n",
    "add_round_key(state, key)\n",
    "\n",
    "for i in range(0, len(state), 4):\n",
    "    print(\" \".join([f\"{state[i + j]:02x}\" for j in range(4)]))"
   ]
  },
  {
   "cell_type": "markdown",
   "metadata": {},
   "source": [
    "# Key schedule"
   ]
  },
  {
   "cell_type": "code",
   "execution_count": 76,
   "metadata": {
    "ExecuteTime": {
     "end_time": "2023-09-14T23:57:20.605105281Z",
     "start_time": "2023-09-14T23:57:20.592920740Z"
    }
   },
   "outputs": [],
   "source": [
    "# def expandKey(cipherKey, key_length, rounds):\n",
    "#     expandedKeySize = 16 * (rounds + 1)\n",
    "#     expandedKey = [0] * expandedKeySize\n",
    "#     currentSize = 0\n",
    "#     rconIter = 1\n",
    "#     t = [0] * 4\n",
    "\n",
    "#     for i in range(key_length):\n",
    "#         expandedKey[i] = cipherKey[i]\n",
    "#     currentSize += key_length\n",
    "\n",
    "#     while currentSize < expandedKeySize:\n",
    "#         for i in range(4):\n",
    "#             t[i] = expandedKey[currentSize - 4 + i]\n",
    "#         if currentSize % key_length == 0:\n",
    "#             t = keyScheduleCore(t, rconIter)\n",
    "#             rconIter += 1\n",
    "#         if key_length == 32 and currentSize % key_length == 16:\n",
    "#             for i in range(4):\n",
    "#                 t[i] = sbox[t[i]]\n",
    "#         for i in range(4):\n",
    "#             expandedKey[currentSize] = expandedKey[currentSize - key_length] ^ t[i]\n",
    "#             currentSize += 1\n",
    "\n",
    "#     return expandedKey\n",
    "# expanded_key = expandKey(key, 176, 10)\n",
    "def convert_bstring_to_bin(bstring):\n",
    "  bin_str = \"\"\n",
    "  for char in bstring:\n",
    "    bin_str += bin(ord(char))[2:] + ' '\n",
    "  return bin_str\n",
    "\n",
    "\n",
    "# print(convert_bstring_to_bin('1234'))\n"
   ]
  },
  {
   "cell_type": "code",
   "execution_count": 77,
   "metadata": {
    "ExecuteTime": {
     "end_time": "2023-09-14T23:59:17.189615366Z",
     "start_time": "2023-09-14T23:59:17.176508289Z"
    }
   },
   "outputs": [
    {
     "name": "stdout",
     "output_type": "stream",
     "text": [
      "[43, 126, 21, 22, 40, 174, 210, 166, 171, 247, 21, 136, 9, 207, 79, 60]\n",
      "240\n",
      "\n",
      "Hex values:\n",
      "2b 28 ab 09 a0 88 23 2a f2 7a 59 73 3d 47 1e \n",
      "7e ae f7 cf fa 54 a3 6c c2 96 35 59 80 16 23 \n",
      "15 d2 15 4f fe 2c 39 76 95 b9 80 f6 47 fe 7e \n",
      "16 a6 88 3c 17 b1 39 05 f2 43 7a 7f 7d 3e 44 \n",
      "\n",
      "Integer values:\n",
      "43 40 171 9 160 136 35 42 242 122 89 115 61 71 30 \n",
      "126 174 247 207 250 84 163 108 194 150 53 89 128 22 35 \n",
      "21 210 21 79 254 44 57 118 149 185 128 246 71 254 126 \n",
      "22 166 136 60 23 177 57 5 242 67 122 127 125 62 68 \n",
      "\n",
      "Bit values:\n",
      "101011 1111110 10101 10110 101000 10101110 11010010 10100110 10101011 11110111 10101 10001000 1001 11001111 1001111 111100 10100000 11111010 11111110 10111 10001000 1010100 101100 10110001 100011 10100011 111001 111001 101010 1101100 1110110 101 11110010 11000010 10010101 11110010 1111010 10010110 10111001 1000011 1011001 110101 10000000 1111010 1110011 1011001 11110110 1111111 111101 10000000 1000111 1111101 1000111 10110 11111110 111110 11110 100011 1111110 1000100 1101101 1111010 10001000 111011 11101111 1000100 10100101 1000001 10101000 1010010 1011011 1111111 10110110 1110001 100101 111011 11011011 1011 10101101 0 11010100 11010001 11000110 11111000 1111100 10000011 10011101 10000111 11001010 11110010 10111000 10111100 10001 11111001 10101 10111100 1101101 10001000 10100011 1111010 10001 1011 111110 11111101 11011011 11111001 10000110 1000001 11001010 0 10010011 11111101 1001110 1010100 11110111 1110 1011111 1011111 11001001 11110011 10000100 10100110 1001111 10110010 1001110 10100110 11011100 1001111 11101010 11010010 1110011 100001 10110101 10001101 10111010 11010010 110001 101011 11110101 1100000 1111111 10001101 101001 101111 10101100 1110111 1100110 11110011 11001 11111010 11011100 100001 101000 11010001 101001 1000001 1010111 1011100 0 1101110 11010000 10100 11111001 10101000 11001001 11101110 100101 10001001 11100001 111111 1100 11001000 10110110 1100011 1100 10100110 1000111 11101010 11011101 11100110 10001110 100 11111000 1101111 1101111 111011 11110100 10100111 11011001 1011000 11111000 1 11110101 10101011 10100001 11010011 1111011 10101111 1011001 10111100 10100 10010100 10101101 11011 11001101 11001100 1010101 11010 10101 1010111 11 1101110 1101110 11111000 1011010 11010010 1111010 1101100 11110111 11001001 10110111 10100000 10100010 11010011 10111000 1101101 1100101 11000111 11010110 10010101 111111 10101 10101100 11111001 11001000 11011100 11011 1011001 1101010 1111 \n"
     ]
    }
   ],
   "source": [
    "key = [\n",
    "    0x2b, 0x7e, 0x15, 0x16,\n",
    "    0x28, 0xae, 0xd2, 0xa6,\n",
    "    0xab, 0xf7, 0x15, 0x88,\n",
    "    0x09, 0xcf, 0x4f, 0x3c\n",
    "]\n",
    "print(key)\n",
    "expanded_key = expandKey(key, key_length=240)\n",
    "print(len(expanded_key))\n",
    "# print(f\"Expanded key: {expanded_key}\")\n",
    "print()\n",
    "print(\"Hex values:\")\n",
    "for j in range(4):\n",
    "    for i in range(15):\n",
    "        print(f\"{expanded_key[i * 4 + j]:02x}\", end=\" \")\n",
    "    print()\n",
    "print()\n",
    "print(\"Integer values:\")\n",
    "for j in range(4):\n",
    "    for i in range(15):\n",
    "        print(f\"{expanded_key[i * 4 + j]}\", end=\" \")\n",
    "    print()\n",
    "print()\n",
    "print(\"Bit values:\")\n",
    "print(convert_bstring_to_bin(states_to_text(expanded_key)))\n"
   ]
  },
  {
   "cell_type": "code",
   "execution_count": 78,
   "metadata": {},
   "outputs": [
    {
     "name": "stdout",
     "output_type": "stream",
     "text": [
      "[43, 126, 21, 22, 40, 174, 210, 166, 171, 247, 21, 136, 9, 207, 79, 60, 160, 250, 254, 23, 136, 84, 44, 177, 35, 163, 57, 57, 42, 108, 118, 5, 242, 194, 149, 242, 122, 150, 185, 67, 89, 53, 128, 122, 115, 89, 246, 127, 61, 128, 71, 125, 71, 22, 254, 62, 30, 35, 126, 68, 109, 122, 136, 59, 239, 68, 165, 65, 168, 82, 91, 127, 182, 113, 37, 59, 219, 11, 173, 0, 212, 209, 198, 248, 124, 131, 157, 135, 202, 242, 184, 188, 17, 249, 21, 188, 109, 136, 163, 122, 17, 11, 62, 253, 219, 249, 134, 65, 202, 0, 147, 253, 78, 84, 247, 14, 95, 95, 201, 243, 132, 166, 79, 178, 78, 166, 220, 79, 234, 210, 115, 33, 181, 141, 186, 210, 49, 43, 245, 96, 127, 141, 41, 47, 172, 119, 102, 243, 25, 250, 220, 33, 40, 209, 41, 65, 87, 92, 0, 110, 208, 20, 249, 168, 201, 238, 37, 137, 225, 63, 12, 200, 182, 99, 12, 166, 71, 234, 221, 230, 142, 4, 248, 111, 111, 59, 244, 167, 217, 88, 248, 1, 245, 171, 161, 211, 123, 175, 89, 188, 20, 148, 173, 27, 205, 204, 85, 26, 21, 87, 3, 110, 110, 248, 90, 210, 122, 108, 247, 201, 183, 160, 162, 211, 184, 109, 101, 199, 214, 149, 63, 21, 172, 249, 200, 220, 27, 89, 106, 15]\n"
     ]
    }
   ],
   "source": [
    "print(expanded_key)\n",
    "\n",
    "def splitExpandedKey(expandedKey, key_length):\n",
    "    subkeys = []\n",
    "    num_subkeys = key_length // 16\n",
    "\n",
    "    for i in range(num_subkeys):\n",
    "        subkey = expandedKey[i* 16 :i*16 + 16]\n",
    "        # print(subkey)\n",
    "        subkeys.append(subkey)\n",
    "    return subkeys\n",
    "\n",
    "subkeys = splitExpandedKey(expanded_key, 240)"
   ]
  },
  {
   "cell_type": "code",
   "execution_count": 79,
   "metadata": {},
   "outputs": [
    {
     "name": "stdout",
     "output_type": "stream",
     "text": [
      "15\n",
      "43 40 171 9 \n",
      "126 174 247 207 \n",
      "21 210 21 79 \n",
      "22 166 136 60 \n",
      "\n",
      "160 136 35 42 \n",
      "250 84 163 108 \n",
      "254 44 57 118 \n",
      "23 177 57 5 \n",
      "\n",
      "242 122 89 115 \n",
      "194 150 53 89 \n",
      "149 185 128 246 \n",
      "242 67 122 127 \n",
      "\n",
      "61 71 30 109 \n",
      "128 22 35 122 \n",
      "71 254 126 136 \n",
      "125 62 68 59 \n",
      "\n",
      "239 168 182 219 \n",
      "68 82 113 11 \n",
      "165 91 37 173 \n",
      "65 127 59 0 \n",
      "\n",
      "212 124 202 17 \n",
      "209 131 242 249 \n",
      "198 157 184 21 \n",
      "248 135 188 188 \n",
      "\n",
      "109 17 219 202 \n",
      "136 11 249 0 \n",
      "163 62 134 147 \n",
      "122 253 65 253 \n",
      "\n",
      "78 95 132 78 \n",
      "84 95 166 166 \n",
      "247 201 79 220 \n",
      "14 243 178 79 \n",
      "\n",
      "234 181 49 127 \n",
      "210 141 43 141 \n",
      "115 186 245 41 \n",
      "33 210 96 47 \n",
      "\n",
      "172 25 40 87 \n",
      "119 250 209 92 \n",
      "102 220 41 0 \n",
      "243 33 65 110 \n",
      "\n",
      "208 201 225 182 \n",
      "20 238 63 99 \n",
      "249 37 12 12 \n",
      "168 137 200 166 \n",
      "\n",
      "71 142 111 217 \n",
      "234 4 59 88 \n",
      "221 248 244 248 \n",
      "230 111 167 1 \n",
      "\n",
      "245 123 20 205 \n",
      "171 175 148 204 \n",
      "161 89 173 85 \n",
      "211 188 27 26 \n",
      "\n",
      "21 110 122 183 \n",
      "87 248 108 160 \n",
      "3 90 247 162 \n",
      "110 210 201 211 \n",
      "\n",
      "184 214 172 27 \n",
      "109 149 249 89 \n",
      "101 63 200 106 \n",
      "199 21 220 15 \n",
      "\n"
     ]
    }
   ],
   "source": [
    "print(len(subkeys))\n",
    "\n",
    "\n",
    "for i in range(len(subkeys)):\n",
    "    for j in range(4):\n",
    "        for k in range(4):\n",
    "            print(f\"{subkeys[i][k * 4 + j]}\", end=\" \")\n",
    "        print()\n",
    "    print()"
   ]
  },
  {
   "cell_type": "markdown",
   "metadata": {},
   "source": [
    "# Encryptor"
   ]
  },
  {
   "cell_type": "code",
   "execution_count": 97,
   "metadata": {
    "ExecuteTime": {
     "end_time": "2023-09-14T05:01:03.315003409Z",
     "start_time": "2023-09-14T05:01:03.306152402Z"
    }
   },
   "outputs": [],
   "source": [
    "def encryptBlock(state, roundKeys):\n",
    "    # print(\"Initial transformation: \")\n",
    "    roundKeyIndex = 0\n",
    "    # print(\"Current state: \", state)\n",
    "    add_round_key(state, roundKeys[:16])\n",
    "    # print(\"Added round key: \", state)\n",
    "    for round in range(1, 10):\n",
    "        # print(\"Round\", round)\n",
    "        substitute_bytes(state)\n",
    "        # print(state)\n",
    "        state = [int(element, 16) for element in sub_state]\n",
    "        # print(state)\n",
    "        shift_rows(state)\n",
    "        # print(state)\n",
    "        mixColumns(state)\n",
    "        # print(state)\n",
    "        add_round_key(state, roundKeys[roundKeyIndex + 16:roundKeyIndex + 32])\n",
    "        # print(state)\n",
    "        roundKeyIndex += 16\n",
    "\n",
    "    substitute_bytes(state)\n",
    "    shift_rows(state)\n",
    "    add_round_key(state, roundKeys[160:])\n",
    "\n",
    "    # Chuyển đổi trạng thái trở lại dạng hex\n",
    "    state = [format(byte, '02x') for byte in state]\n",
    "    \n",
    "    return state"
   ]
  },
  {
   "cell_type": "code",
   "execution_count": 98,
   "metadata": {},
   "outputs": [
    {
     "name": "stdout",
     "output_type": "stream",
     "text": [
      "[48, 102, 49, 53, 55, 49, 99, 57, 52, 55, 100, 57, 101, 56, 53, 57, 48, 99, 98, 55, 97, 100, 100, 54, 97, 102, 55, 102, 54, 55, 57, 56] \n"
     ]
    }
   ],
   "source": [
    "cipherKey = text_to_states(\"0f1571c947d9e8590cb7add6af7f6798\", option=\"int\", key=True)\n",
    "print(cipherKey, '')\n",
    "# expandedKey = expandKey(cipherKey, 176)"
   ]
  },
  {
   "cell_type": "code",
   "execution_count": 101,
   "metadata": {
    "ExecuteTime": {
     "end_time": "2023-09-14T05:01:03.546334247Z",
     "start_time": "2023-09-14T05:01:03.487445220Z"
    }
   },
   "outputs": [
    {
     "name": "stdout",
     "output_type": "stream",
     "text": [
      "State [48, 49, 50, 51, 52, 53, 54, 55, 56, 57, 97, 98, 99, 100, 101, 102]\n",
      "State [102, 101, 100, 99, 98, 97, 57, 56, 55, 54, 53, 52, 51, 50, 49, 48]\n",
      "Mã hóa: 3f9c727202b7b3b1ef30600f367d50053f9c727202b7b3b1ef30600f367d5005\n"
     ]
    }
   ],
   "source": [
    "def encrypt(plaintext, cipherKey, key_length=240):\n",
    "    cipherKey = text_to_states(cipherKey, option=\"int\", key=True)\n",
    "    expandedKey = expandKey(cipherKey, key_length)\n",
    "    # print(\"State to hex: \", text_to_states(plaintext))\n",
    "    states = text_to_states(plaintext, option=\"int\")\n",
    "    # print(\"States: \", states)\n",
    "    # print (\"Cipherkey to int: \", cipherKey)\n",
    "    ciphertext = []\n",
    "\n",
    "    for state in states:\n",
    "        print(f\"State {state}\")\n",
    "        state = encryptBlock(state, expandedKey)\n",
    "        ciphertext.extend(state)\n",
    "        # print(ciphertext)\n",
    "    return \"\".join(ciphertext)\n",
    "\n",
    "plaintext = \"0123456789abcdeffedcba9876543210\"\n",
    "key = \"0f1571c947d9e8590cb7add6af7f6798\"\n",
    "\n",
    "ciphertext = encrypt(plaintext, key, key_length=240)\n",
    "print(\"Mã hóa:\", ciphertext)\n"
   ]
  },
  {
   "cell_type": "code",
   "execution_count": 83,
   "metadata": {
    "ExecuteTime": {
     "end_time": "2023-09-14T05:01:03.697901057Z",
     "start_time": "2023-09-14T05:01:03.652492556Z"
    }
   },
   "outputs": [
    {
     "name": "stdout",
     "output_type": "stream",
     "text": [
      "2b 28 ab 09 a0 88 23 2a f2 7a 59 73 3d 47 1e 6d ef a8 b6 db d4 7c ca 11 6d 11 db ca 4e 5f 84 4e ea b5 31 7f ac 19 28 57 d0 c9 e1 b6 \n",
      "7e ae f7 cf fa 54 a3 6c c2 96 35 59 80 16 23 7a 44 52 71 0b d1 83 f2 f9 88 0b f9 00 54 5f a6 a6 d2 8d 2b 8d 77 fa d1 5c 14 ee 3f 63 \n",
      "15 d2 15 4f fe 2c 39 76 95 b9 80 f6 47 fe 7e 88 a5 5b 25 ad c6 9d b8 15 a3 3e 86 93 f7 c9 4f dc 73 ba f5 29 66 dc 29 00 f9 25 0c 0c \n",
      "16 a6 88 3c 17 b1 39 05 f2 43 7a 7f 7d 3e 44 3b 41 7f 3b 00 f8 87 bc bc 7a fd 41 fd 0e f3 b2 4f 21 d2 60 2f f3 21 41 6e a8 89 c8 a6 \n"
     ]
    }
   ],
   "source": [
    "cipherKey = cvrt_hex(\"0f1571c947d9e8590cb7add6af7f6798\")\n",
    "# for i in range(len(cipherKey)):\n",
    "#     print(cipherKey[i])\n",
    "expandedKey = expandKey(cipherKey, key_length = 176)\n",
    "for j in range(4):\n",
    "    for i in range(44):\n",
    "        print(f\"{expanded_key[i * 4 + j]:02x}\", end=\" \")\n",
    "    print()"
   ]
  },
  {
   "cell_type": "code",
   "execution_count": 84,
   "metadata": {},
   "outputs": [
    {
     "data": {
      "text/plain": [
       "[[48, 49, 50, 51, 52, 53, 54, 55, 56, 57, 97, 98, 99, 100, 101, 102],\n",
       " [102, 101, 100, 99, 98, 97, 57, 56, 55, 54, 53, 52, 51, 50, 49, 48]]"
      ]
     },
     "execution_count": 84,
     "metadata": {},
     "output_type": "execute_result"
    }
   ],
   "source": [
    "states = text_to_states(\"0123456789abcdeffedcba9876543210\", option=\"int\")\n",
    "states"
   ]
  },
  {
   "cell_type": "code",
   "execution_count": 85,
   "metadata": {},
   "outputs": [
    {
     "name": "stdout",
     "output_type": "stream",
     "text": [
      "Initial transformation: \n",
      "Current state:  [164, 104, 107, 2, 156, 159, 91, 106, 127, 53, 234, 80, 242, 43, 67, 73]\n",
      "Added round key:  [148, 14, 90, 55, 171, 174, 56, 83, 75, 2, 142, 105, 151, 19, 118, 112]\n",
      "Round 1\n",
      "[148, 14, 90, 55, 171, 174, 56, 83, 75, 2, 142, 105, 151, 19, 118, 112]\n",
      "[82, 239, 69, 168, 251, 239, 159, 146, 168, 239, 159, 146, 69, 168, 159, 133]\n",
      "[82, 239, 69, 168, 239, 159, 146, 251, 159, 146, 168, 239, 133, 69, 168, 159]\n",
      "[148, 168, 39, 45, 168, 34, 49, 240, 12, 128, 127, 44, 151, 173, 190, 210]\n",
      "[164, 203, 69, 26, 201, 70, 85, 198, 109, 230, 72, 74, 161, 154, 135, 234]\n",
      "Round 2\n",
      "[164, 203, 69, 26, 201, 70, 85, 198, 109, 230, 72, 74, 161, 154, 135, 234]\n",
      "[82, 239, 69, 168, 251, 239, 159, 146, 168, 239, 159, 146, 69, 168, 159, 133]\n",
      "[82, 239, 69, 168, 239, 159, 146, 251, 159, 146, 168, 239, 133, 69, 168, 159]\n",
      "[148, 168, 39, 45, 168, 34, 49, 240, 12, 128, 127, 44, 151, 173, 190, 210]\n",
      "[63, 220, 17, 29, 52, 103, 100, 249, 164, 242, 78, 28, 90, 231, 186, 219]\n",
      "Round 3\n",
      "[63, 220, 17, 29, 52, 103, 100, 249, 164, 242, 78, 28, 90, 231, 186, 219]\n",
      "[82, 239, 69, 168, 251, 239, 159, 146, 168, 239, 159, 146, 69, 168, 159, 133]\n",
      "[82, 239, 69, 168, 239, 159, 146, 251, 159, 146, 168, 239, 133, 69, 168, 159]\n",
      "[148, 168, 39, 45, 168, 34, 49, 240, 12, 128, 127, 44, 151, 173, 190, 210]\n",
      "[105, 129, 65, 19, 52, 111, 51, 248, 241, 171, 74, 66, 92, 177, 178, 132]\n",
      "Round 4\n",
      "[105, 129, 65, 19, 52, 111, 51, 248, 241, 171, 74, 66, 92, 177, 178, 132]\n",
      "[82, 239, 69, 168, 251, 239, 159, 146, 168, 239, 159, 146, 69, 168, 159, 133]\n",
      "[82, 239, 69, 168, 239, 159, 146, 251, 159, 146, 168, 239, 133, 69, 168, 159]\n",
      "[148, 168, 39, 45, 168, 34, 49, 240, 12, 128, 127, 44, 151, 173, 190, 210]\n",
      "[161, 34, 160, 2, 1, 237, 227, 214, 13, 61, 156, 58, 91, 90, 89, 205]\n",
      "Round 5\n",
      "[161, 34, 160, 2, 1, 237, 227, 214, 13, 61, 156, 58, 91, 90, 89, 205]\n",
      "[82, 239, 69, 168, 251, 239, 159, 146, 168, 239, 159, 146, 69, 168, 159, 133]\n",
      "[82, 239, 69, 168, 239, 159, 146, 251, 159, 146, 168, 239, 133, 69, 168, 159]\n",
      "[148, 168, 39, 45, 168, 34, 49, 240, 12, 128, 127, 44, 151, 173, 190, 210]\n",
      "[165, 118, 166, 12, 5, 177, 178, 217, 92, 56, 201, 107, 12, 9, 4, 195]\n",
      "Round 6\n",
      "[165, 118, 166, 12, 5, 177, 178, 217, 92, 56, 201, 107, 12, 9, 4, 195]\n",
      "[82, 239, 69, 168, 251, 239, 159, 146, 168, 239, 159, 146, 69, 168, 159, 133]\n",
      "[82, 239, 69, 168, 239, 159, 146, 251, 159, 146, 168, 239, 133, 69, 168, 159]\n",
      "[148, 168, 39, 45, 168, 34, 49, 240, 12, 128, 127, 44, 151, 173, 190, 210]\n",
      "[236, 214, 34, 22, 121, 147, 230, 237, 220, 140, 75, 39, 139, 86, 109, 198]\n",
      "Round 7\n",
      "[236, 214, 34, 22, 121, 147, 230, 237, 220, 140, 75, 39, 139, 86, 109, 198]\n",
      "[82, 239, 69, 168, 251, 239, 159, 146, 168, 239, 159, 146, 69, 168, 159, 133]\n",
      "[82, 239, 69, 168, 239, 159, 146, 251, 159, 146, 168, 239, 133, 69, 168, 159]\n",
      "[148, 168, 39, 45, 168, 34, 49, 240, 12, 128, 127, 44, 151, 173, 190, 210]\n",
      "[185, 141, 117, 24, 40, 148, 224, 236, 220, 142, 24, 119, 220, 7, 99, 152]\n",
      "Round 8\n",
      "[185, 141, 117, 24, 40, 148, 224, 236, 220, 142, 24, 119, 220, 7, 99, 152]\n",
      "[82, 239, 69, 168, 251, 239, 159, 146, 168, 239, 159, 146, 69, 168, 159, 133]\n",
      "[82, 239, 69, 168, 239, 159, 146, 251, 159, 146, 168, 239, 133, 69, 168, 159]\n",
      "[148, 168, 39, 45, 168, 34, 49, 240, 12, 128, 127, 44, 151, 173, 190, 210]\n",
      "[72, 23, 244, 165, 165, 44, 53, 101, 209, 130, 79, 178, 86, 84, 93, 88]\n",
      "Round 9\n",
      "[72, 23, 244, 165, 165, 44, 53, 101, 209, 130, 79, 178, 86, 84, 93, 88]\n",
      "[82, 239, 69, 168, 251, 239, 159, 146, 168, 239, 159, 146, 69, 168, 159, 133]\n",
      "[82, 239, 69, 168, 239, 159, 146, 251, 159, 146, 168, 239, 133, 69, 168, 159]\n",
      "[148, 168, 39, 45, 168, 34, 49, 240, 12, 128, 127, 44, 151, 173, 190, 210]\n",
      "[120, 116, 150, 146, 196, 72, 81, 83, 176, 228, 120, 212, 96, 99, 100, 96]\n"
     ]
    }
   ],
   "source": [
    "ciphertext = []\n",
    "state = encryptBlock(state, expandedKey)\n",
    "ciphertext.extend(state)"
   ]
  },
  {
   "cell_type": "code",
   "execution_count": 86,
   "metadata": {},
   "outputs": [
    {
     "name": "stdout",
     "output_type": "stream",
     "text": [
      "110001 110010 110011 110100 \n"
     ]
    }
   ],
   "source": [
    "def convert_bstring_to_bin(bstring):\n",
    "  bin_str = \"\"\n",
    "  for char in bstring:\n",
    "    bin_str += bin(ord(char))[2:] + ' '\n",
    "  return bin_str\n",
    "\n",
    "\n",
    "print(convert_bstring_to_bin('1234'))\n"
   ]
  }
 ],
 "metadata": {
  "kernelspec": {
   "display_name": "Python 3 (ipykernel)",
   "language": "python",
   "name": "python3"
  },
  "language_info": {
   "codemirror_mode": {
    "name": "ipython",
    "version": 3
   },
   "file_extension": ".py",
   "mimetype": "text/x-python",
   "name": "python",
   "nbconvert_exporter": "python",
   "pygments_lexer": "ipython3",
   "version": "3.10.9"
  }
 },
 "nbformat": 4,
 "nbformat_minor": 2
}
