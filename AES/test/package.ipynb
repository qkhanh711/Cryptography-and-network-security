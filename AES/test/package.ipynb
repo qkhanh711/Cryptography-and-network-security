{
 "cells": [
  {
   "cell_type": "code",
   "execution_count": 2,
   "metadata": {},
   "outputs": [
    {
     "name": "stdout",
     "output_type": "stream",
     "text": [
      "b'Hello, AES encryption!'\n",
      "Cipher Text: b'\\x99\\x8b\\xf8\\x9a\\xfe\\x94\\xf4\\x08\\xe2\"K18\\x06{\\xa1\\xca\\xe3g\\xe8e\\xf7\\x91g\\x02\\x0eXId\\xef}\\x8c'\n",
      "Decrypted Message: Hello, AES encryption!\n"
     ]
    }
   ],
   "source": [
    "from Crypto.Cipher import AES\n",
    "from Crypto.Random import get_random_bytes\n",
    "from Crypto.Util.Padding import pad, unpad\n",
    "\n",
    "# Khởi tạo một khóa và vectơ khởi tạo (IV) ngẫu nhiên\n",
    "key = get_random_bytes(16)\n",
    "iv = get_random_bytes(16)\n",
    "\n",
    "# Tạo một đối tượng AES cipher với chế độ AES.MODE_CBC\n",
    "cipher = AES.new(key, AES.MODE_CBC, iv)\n",
    "\n",
    "# Chuỗi bạn muốn mã hóa\n",
    "message = \"Hello, AES encryption!\".encode('utf-8')\n",
    "\n",
    "# Mã hóa thông điệp và thêm IV vào đầu kết quả\n",
    "ciphertext = cipher.encrypt(pad(message, AES.block_size))\n",
    "print(message)\n",
    "# In kết quả mã hóa\n",
    "print(\"Cipher Text:\", ciphertext)\n",
    "\n",
    "# Giải mã thông điệp\n",
    "decipher = AES.new(key, AES.MODE_CBC, iv)\n",
    "decrypted_message = unpad(decipher.decrypt(ciphertext), AES.block_size)\n",
    "\n",
    "# In thông điệp đã giải mã\n",
    "print(\"Decrypted Message:\", decrypted_message.decode('utf-8'))"
   ]
  }
 ],
 "metadata": {
  "kernelspec": {
   "display_name": "base",
   "language": "python",
   "name": "python3"
  },
  "language_info": {
   "codemirror_mode": {
    "name": "ipython",
    "version": 3
   },
   "file_extension": ".py",
   "mimetype": "text/x-python",
   "name": "python",
   "nbconvert_exporter": "python",
   "pygments_lexer": "ipython3",
   "version": "3.9.16"
  },
  "orig_nbformat": 4
 },
 "nbformat": 4,
 "nbformat_minor": 2
}
