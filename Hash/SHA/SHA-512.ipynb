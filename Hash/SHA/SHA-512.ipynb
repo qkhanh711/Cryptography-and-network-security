{
 "cells": [
  {
   "cell_type": "code",
   "execution_count": 17,
   "metadata": {},
   "outputs": [
    {
     "name": "stdout",
     "output_type": "stream",
     "text": [
      "011000010110001001100011\n",
      "Number bits of message: 24\n",
      "616263\n"
     ]
    }
   ],
   "source": [
    "# SecureHashAlgorithm512\n",
    "# 512-bit hash function\n",
    "# 64-bit words\n",
    "# 80 rounds\n",
    "# 8 64-bit words\n",
    "\n",
    "# 1. Initial Hash Values\n",
    "# 2. Preprocessing\n",
    "# 3. Hash Computation\n",
    "# 4. Output\n",
    "\n",
    "# 1. Initial Hash Values\n",
    "# 8 64-bit words\n",
    "# first 64 bits of the fractional parts of the square roots of the first 8 primes 2..19\n",
    "# 64-bit words\n",
    "# 0x6a09e667f3bcc908\n",
    "# 0xbb67ae8584caa73b\n",
    "# 0x3c6ef372fe94f82b\n",
    "# 0xa54ff53a5f1d36f1\n",
    "# 0x510e527fade682d1\n",
    "# 0x9b05688c2b3e6c1f\n",
    "# 0x1f83d9abfb41bd6b\n",
    "# 0x5be0cd19137e2179\n",
    "\n",
    "# 2. Preprocessing\n",
    "# 1. Padding\n",
    "# 2. Parsing\n",
    "# 3. Hash Computation\n",
    "# 4. Output\n",
    "\n",
    "# 1. Padding\n",
    "# 1. Append a single 1 bit\n",
    "# 2. Append K 0 bits, where K is the minimum number >= 0 such that L + 1 + K + 128 is a multiple of 1024\n",
    "# 3. Append L as a 128-bit big-endian integer, making the total post-processed length a multiple of 1024 bits\n",
    "\n",
    "# 2. Parsing\n",
    "# 1. Break message into 1024-bit blocks\n",
    "# 2. Break each block into 16 64-bit words\n",
    "# 3. Extend the first 16 words into the remaining 64 words w[16..79] of the message schedule array\n",
    "# 4. Initialize working variables to current hash value\n",
    "# 5. Compression function main loop\n",
    "\n",
    "# 3. Hash Computation\n",
    "# 1. Compression function main loop\n",
    "# 2. Prepare the message schedule\n",
    "# 3. Compression function main loop\n",
    "# 4. Add the compressed chunk to the current hash value\n",
    "# 5. Produce the final hash value (big-endian)\n",
    "\n",
    "# 4. Output\n",
    "# 1. Produce the final hash value (big-endian)\n",
    "# 2. Produce the final hash value (little-endian)\n",
    "\n",
    "\n",
    "# Practice\n",
    "\n",
    "# 1. Initial Hash Values\n",
    "message = 'abc'\n",
    "\n",
    "# 2. Preprocessing message\n",
    "\n",
    "def convert_to_bin(message):\n",
    "    message = message.encode('utf-8')\n",
    "    message = message.hex()\n",
    "    message = bin(int(message, 16))\n",
    "    message = message[2:]\n",
    "    return '0' + message\n",
    "\n",
    "def convert_to_hex(message):\n",
    "    message = message.encode('utf-8')\n",
    "    message = message.hex()\n",
    "    return message\n",
    "\n",
    "print(convert_to_bin(message))\n",
    "L = len(convert_to_bin(message))\n",
    "print(f\"Number bits of message: {L}\")\n",
    "print(convert_to_hex(message))"
   ]
  },
  {
   "cell_type": "code",
   "execution_count": null,
   "metadata": {},
   "outputs": [],
   "source": []
  }
 ],
 "metadata": {
  "kernelspec": {
   "display_name": "base",
   "language": "python",
   "name": "python3"
  },
  "language_info": {
   "codemirror_mode": {
    "name": "ipython",
    "version": 3
   },
   "file_extension": ".py",
   "mimetype": "text/x-python",
   "name": "python",
   "nbconvert_exporter": "python",
   "pygments_lexer": "ipython3",
   "version": "3.10.9"
  },
  "orig_nbformat": 4
 },
 "nbformat": 4,
 "nbformat_minor": 2
}
