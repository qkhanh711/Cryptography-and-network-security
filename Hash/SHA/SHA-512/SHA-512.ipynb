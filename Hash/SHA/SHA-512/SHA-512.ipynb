{
 "cells": [
  {
   "cell_type": "markdown",
   "metadata": {
    "collapsed": false
   },
   "source": [
    "# SHA-512"
   ]
  },
  {
   "cell_type": "code",
   "execution_count": 5,
   "metadata": {
    "ExecuteTime": {
     "end_time": "2023-09-25T08:51:30.179103056Z",
     "start_time": "2023-09-25T08:51:29.790848548Z"
    },
    "collapsed": false
   },
   "outputs": [],
   "source": [
    "from utils import *\n",
    "from config import *\n",
    "from convertEverything import *"
   ]
  },
  {
   "cell_type": "markdown",
   "metadata": {
    "collapsed": false
   },
   "source": [
    "## Step 1: ADD PADDING"
   ]
  },
  {
   "cell_type": "code",
   "execution_count": 6,
   "metadata": {
    "ExecuteTime": {
     "end_time": "2023-09-25T08:51:30.422403363Z",
     "start_time": "2023-09-25T08:51:29.804116479Z"
    }
   },
   "outputs": [],
   "source": [
    "# Practice\n",
    "# 1. Initial Hash Values\n",
    "message = 'abc'\n"
   ]
  },
  {
   "cell_type": "code",
   "execution_count": 7,
   "metadata": {
    "ExecuteTime": {
     "end_time": "2023-09-25T08:51:30.465877638Z",
     "start_time": "2023-09-25T08:51:29.850367038Z"
    }
   },
   "outputs": [
    {
     "name": "stdout",
     "output_type": "stream",
     "text": [
      "011000010110001001100011\n",
      "Number bits of message: 24\n",
      "616263\n"
     ]
    }
   ],
   "source": [
    "\n",
    "L = len(convert_to_bin(message))\n",
    "print(convert_to_bin(message))\n",
    "print(f\"Number bits of message: {L}\")\n",
    "print(convert_to_hex(message))"
   ]
  },
  {
   "cell_type": "code",
   "execution_count": 8,
   "metadata": {
    "ExecuteTime": {
     "end_time": "2023-09-25T08:51:30.467023200Z",
     "start_time": "2023-09-25T08:51:29.850958352Z"
    },
    "collapsed": false
   },
   "outputs": [
    {
     "name": "stdout",
     "output_type": "stream",
     "text": [
      "256\n",
      "1024\n"
     ]
    }
   ],
   "source": [
    "padding_message = add_padding(message, N)\n",
    "print(len(add_padding(message, N)))\n",
    "print(len(add_padding(message, N, 'bin')))\n",
    "# type(padding_message)"
   ]
  },
  {
   "cell_type": "markdown",
   "metadata": {
    "collapsed": false
   },
   "source": [
    "## Step 2: INITIAL HASH VALUES (IV)"
   ]
  },
  {
   "cell_type": "code",
   "execution_count": 9,
   "metadata": {
    "ExecuteTime": {
     "end_time": "2023-09-25T08:54:20.794636760Z",
     "start_time": "2023-09-25T08:54:20.758407325Z"
    },
    "collapsed": false
   },
   "outputs": [
    {
     "name": "stdout",
     "output_type": "stream",
     "text": [
      "0x6a09e667f3bcc908\n"
     ]
    }
   ],
   "source": [
    "# from the mpmath library\n",
    "# print(mp) # precision\n",
    "mp.dps = 50\n",
    "int(fmul(frac(sqrt(2)), pow(2, 64)))\n",
    "print(hex(int(fmul(frac(sqrt(2)), pow(2, 64)))))"
   ]
  },
  {
   "cell_type": "code",
   "execution_count": 10,
   "metadata": {
    "ExecuteTime": {
     "end_time": "2023-09-25T08:54:21.367138658Z",
     "start_time": "2023-09-25T08:54:21.324802317Z"
    },
    "collapsed": false
   },
   "outputs": [],
   "source": [
    "s.sieve[1] # the first prime\n",
    "first_eight_primes = s.sieve[1:9] # the first 8 primes"
   ]
  },
  {
   "cell_type": "code",
   "execution_count": 12,
   "metadata": {
    "ExecuteTime": {
     "end_time": "2023-09-25T08:53:30.816109487Z",
     "start_time": "2023-09-25T08:53:30.766710906Z"
    },
    "collapsed": false
   },
   "outputs": [
    {
     "data": {
      "text/plain": [
       "['6a09e667f3bcc908',\n",
       " 'bb67ae8584caa73b',\n",
       " '3c6ef372fe94f82b',\n",
       " 'a54ff53a5f1d36f1',\n",
       " '510e527fade682d1',\n",
       " '9b05688c2b3e6c1f',\n",
       " '1f83d9abfb41bd6b',\n",
       " '5be0cd19137e2179']"
      ]
     },
     "execution_count": 12,
     "metadata": {},
     "output_type": "execute_result"
    }
   ],
   "source": [
    "bin_fraction_8primes = [sqrt_64bits_hex(i) for i in first_eight_primes]\n",
    "bin_fraction_8primes\n"
   ]
  },
  {
   "cell_type": "code",
   "execution_count": 13,
   "metadata": {},
   "outputs": [
    {
     "data": {
      "text/plain": [
       "['6a09e667f3bcc908',\n",
       " 'bb67ae8584caa73b',\n",
       " '3c6ef372fe94f82b',\n",
       " 'a54ff53a5f1d36f1',\n",
       " '510e527fade682d1',\n",
       " '9b05688c2b3e6c1f',\n",
       " '1f83d9abfb41bd6b',\n",
       " '5be0cd19137e2179']"
      ]
     },
     "execution_count": 13,
     "metadata": {},
     "output_type": "execute_result"
    }
   ],
   "source": [
    "initial_hash = [\n",
    "    0x6a09e667f3bcc908,\n",
    "    0xbb67ae8584caa73b,\n",
    "    0x3c6ef372fe94f82b,\n",
    "    0xa54ff53a5f1d36f1,\n",
    "    0x510e527fade682d1,\n",
    "    0x9b05688c2b3e6c1f,\n",
    "    0x1f83d9abfb41bd6b,\n",
    "    0x5be0cd19137e2179,\n",
    "]\n",
    "[hex(i)[2:] for i in initial_hash]\n"
   ]
  },
  {
   "cell_type": "code",
   "execution_count": 16,
   "metadata": {
    "ExecuteTime": {
     "end_time": "2023-09-25T08:53:31.549240812Z",
     "start_time": "2023-09-25T08:53:31.501325606Z"
    },
    "collapsed": false
   },
   "outputs": [
    {
     "name": "stdout",
     "output_type": "stream",
     "text": [
      "6a09e667f3bcc908\n",
      "7640891576956012808\n"
     ]
    }
   ],
   "source": [
    "initial_hash = {\n",
    "    'a': 0x6a09e667f3bcc908,\n",
    "    'b': 0xbb67ae8584caa73b,\n",
    "    'c': 0x3c6ef372fe94f82b,\n",
    "    'd': 0xa54ff53a5f1d36f1,\n",
    "    'e': 0x510e527fade682d1,\n",
    "    'f': 0x9b05688c2b3e6c1f,\n",
    "    'g': 0x1f83d9abfb41bd6b,\n",
    "    'h': 0x5be0cd19137e2179,\n",
    "}\n",
    "initial_hash_hex = {k: hex(v)[2:] for k, v in initial_hash.items()}\n",
    "print(initial_hash_hex['a'])\n",
    "print(initial_hash['a'])"
   ]
  },
  {
   "cell_type": "markdown",
   "metadata": {
    "collapsed": false
   },
   "source": [
    "## Step 3: \n",
    "Process message in 1024 bits (128 byte) blocks: The heart of the algorithm is a module that consists of 80 rounds; this module is labeled F in Figure 11.9. The logic is illustrated in Figure 11.10. \n",
    "\n",
    "Each round takes as input the 512-bit buffer value, abcdefgh, and updates the contents of the buffer. At input to the first round, the buffer has the value of the intermediate hash value, Hi - 1 . \n",
    "\n",
    "Each round t makes use of a 64-bit value Wt, derived from the current 1024-bit block being processed (Mi). These values are derived using a message schedule described subsequently. Each round also makes use of an additive constant Kt, where 0 … t … 79 indicates one of the 80 rounds. These words represent the first 64 bits of the fractional parts of the cube roots of the first 80 prime numbers. The constants provide a “randomized” set of 64-bit patterns, which should eliminate any regularities in the input data. Table 11.4 shows these constants in hexadecimal format (from left to right)\n",
    "\n"
   ]
  },
  {
   "cell_type": "markdown",
   "metadata": {
    "collapsed": false
   },
   "source": [
    "# <div style=\"display:flex; justify-content: space-around\"> <img src=\"./images/img.png\" width=\"400\" height=\"400\"> <img src=\"./images/img_1.png\" width=\"400\" height=\"400\"> </div>"
   ]
  },
  {
   "cell_type": "code",
   "execution_count": null,
   "metadata": {
    "ExecuteTime": {
     "end_time": "2023-09-25T08:53:33.665292781Z",
     "start_time": "2023-09-25T08:53:33.633106869Z"
    },
    "collapsed": false
   },
   "outputs": [],
   "source": []
  },
  {
   "cell_type": "code",
   "execution_count": 17,
   "metadata": {
    "ExecuteTime": {
     "end_time": "2023-09-25T08:53:34.626328773Z",
     "start_time": "2023-09-25T08:53:34.602321688Z"
    },
    "collapsed": false
   },
   "outputs": [
    {
     "name": "stdout",
     "output_type": "stream",
     "text": [
      "6162638000000000\n",
      "0000000000000000\n",
      "0000000000000000\n",
      "0000000000000000\n",
      "0000000000000000\n",
      "0000000000000000\n",
      "0000000000000000\n",
      "0000000000000000\n",
      "0000000000000000\n",
      "0000000000000000\n",
      "0000000000000000\n",
      "0000000000000000\n",
      "0000000000000000\n",
      "0000000000000000\n",
      "0000000000000000\n",
      "0000000000000018\n"
     ]
    }
   ],
   "source": [
    "# Practice\n",
    "def SHA512(message):\n",
    "    for i in range(0, len(message), 16):\n",
    "        block = message[i:i+16]\n",
    "        print(block)\n",
    "        for i in range(0, 80):\n",
    "            break\n",
    "SHA512(padding_message)\n"
   ]
  }
 ],
 "metadata": {
  "kernelspec": {
   "display_name": "base",
   "language": "python",
   "name": "python3"
  },
  "language_info": {
   "codemirror_mode": {
    "name": "ipython",
    "version": 3
   },
   "file_extension": ".py",
   "mimetype": "text/x-python",
   "name": "python",
   "nbconvert_exporter": "python",
   "pygments_lexer": "ipython3",
   "version": "3.10.9"
  },
  "orig_nbformat": 4
 },
 "nbformat": 4,
 "nbformat_minor": 2
}
