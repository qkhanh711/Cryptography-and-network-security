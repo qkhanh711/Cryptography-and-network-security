{
 "cells": [
  {
   "cell_type": "markdown",
   "metadata": {
    "collapsed": false
   },
   "source": [
    "# SHA-512"
   ]
  },
  {
   "cell_type": "code",
   "execution_count": 2,
   "metadata": {
    "ExecuteTime": {
     "end_time": "2023-09-26T08:41:08.646943250Z",
     "start_time": "2023-09-26T08:41:08.157216216Z"
    },
    "collapsed": false
   },
   "outputs": [],
   "source": [
    "from utils import *\n",
    "from config import *\n",
    "from convertEverything import *"
   ]
  },
  {
   "cell_type": "markdown",
   "metadata": {
    "collapsed": false
   },
   "source": [
    "## Step 1: ADD PADDING"
   ]
  },
  {
   "cell_type": "code",
   "execution_count": 3,
   "metadata": {
    "ExecuteTime": {
     "end_time": "2023-09-26T08:41:08.648766618Z",
     "start_time": "2023-09-26T08:41:08.646121985Z"
    }
   },
   "outputs": [],
   "source": [
    "# Practice\n",
    "# 1. Initial Hash Values\n",
    "message = 'abc'\n"
   ]
  },
  {
   "cell_type": "code",
   "execution_count": 4,
   "metadata": {
    "ExecuteTime": {
     "end_time": "2023-09-26T08:41:08.663497763Z",
     "start_time": "2023-09-26T08:41:08.649142746Z"
    }
   },
   "outputs": [
    {
     "name": "stdout",
     "output_type": "stream",
     "text": [
      "011000010110001001100011\n",
      "Number bits of message: 24\n",
      "616263\n"
     ]
    }
   ],
   "source": [
    "\n",
    "L = len(convert_to_bin(message))\n",
    "print(convert_to_bin(message))\n",
    "print(f\"Number bits of message: {L}\")\n",
    "print(convert_to_hex(message))"
   ]
  },
  {
   "cell_type": "code",
   "execution_count": 5,
   "metadata": {
    "ExecuteTime": {
     "end_time": "2023-09-26T08:41:08.664216081Z",
     "start_time": "2023-09-26T08:41:08.656398010Z"
    },
    "collapsed": false
   },
   "outputs": [
    {
     "name": "stdout",
     "output_type": "stream",
     "text": [
      "256\n",
      "1024\n"
     ]
    }
   ],
   "source": [
    "padding_message = add_padding(message, N)\n",
    "print(len(add_padding(message, N)))\n",
    "print(len(add_padding(message, N, 'bin')))\n",
    "# type(padding_message)"
   ]
  },
  {
   "cell_type": "markdown",
   "metadata": {
    "collapsed": false
   },
   "source": [
    "## Step 2: INITIAL HASH VALUES (IV)"
   ]
  },
  {
   "cell_type": "code",
   "execution_count": 6,
   "metadata": {
    "ExecuteTime": {
     "end_time": "2023-09-26T08:41:08.766988232Z",
     "start_time": "2023-09-26T08:41:08.714797620Z"
    },
    "collapsed": false
   },
   "outputs": [
    {
     "name": "stdout",
     "output_type": "stream",
     "text": [
      "7640891576956012808\n",
      "6a09e667f3bcc908\n",
      "7640891576956012808\n"
     ]
    }
   ],
   "source": [
    "# from the mpmath library\n",
    "# print(mp) # precision\n",
    "mp.dps = 50\n",
    "int_type = int(fmul(frac(sqrt(2)), pow(2, 64)))\n",
    "hex_type = hex(int(fmul(frac(sqrt(2)), pow(2, 64))))\n",
    "print(int_type)\n",
    "print(hex_type[2:])\n",
    "print(hex2int(hex_type))"
   ]
  },
  {
   "cell_type": "code",
   "execution_count": 7,
   "metadata": {
    "ExecuteTime": {
     "end_time": "2023-09-26T08:41:08.767518843Z",
     "start_time": "2023-09-26T08:41:08.715084239Z"
    },
    "collapsed": false
   },
   "outputs": [
    {
     "data": {
      "text/plain": [
       "array('l', [2, 3, 5, 7, 11, 13, 17, 19])"
      ]
     },
     "execution_count": 7,
     "metadata": {},
     "output_type": "execute_result"
    }
   ],
   "source": [
    "s.sieve[1] # the first prime\n",
    "first_eight_primes = s.sieve[1:9] # the first 8 primes\n",
    "first_eight_primes"
   ]
  },
  {
   "cell_type": "code",
   "execution_count": 8,
   "metadata": {
    "ExecuteTime": {
     "end_time": "2023-09-26T08:41:08.955556954Z",
     "start_time": "2023-09-26T08:41:08.954583815Z"
    },
    "collapsed": false
   },
   "outputs": [
    {
     "name": "stdout",
     "output_type": "stream",
     "text": [
      "['6a09e667f3bcc908', 'bb67ae8584caa73b', '3c6ef372fe94f82b', 'a54ff53a5f1d36f1', '510e527fade682d1', '9b05688c2b3e6c1f', '1f83d9abfb41bd6b', '5be0cd19137e2179']\n",
      "[7640891576956012808, 13503953896175478587, 4354685564936845355, 11912009170470909681, 5840696475078001361, 11170449401992604703, 2270897969802886507, 6620516959819538809]\n"
     ]
    }
   ],
   "source": [
    "bin_fraction_8primes = [sqrt_64bits_hex(i) for i in first_eight_primes]\n",
    "print(bin_fraction_8primes)\n",
    "bin_fraction_int = [hex2int(i) for i in bin_fraction_8primes]\n",
    "print(bin_fraction_int)\n"
   ]
  },
  {
   "cell_type": "code",
   "execution_count": 9,
   "metadata": {
    "ExecuteTime": {
     "end_time": "2023-09-26T08:41:09.169618739Z",
     "start_time": "2023-09-26T08:41:09.100810859Z"
    },
    "collapsed": false
   },
   "outputs": [
    {
     "name": "stdout",
     "output_type": "stream",
     "text": [
      "7640891576956012808\n",
      "6a09e667f3bcc908\n",
      "7640891576956012808\n"
     ]
    }
   ],
   "source": [
    "initial_hash = {\n",
    "    'a': 0x6a09e667f3bcc908,\n",
    "    'b': 0xbb67ae8584caa73b,\n",
    "    'c': 0x3c6ef372fe94f82b,\n",
    "    'd': 0xa54ff53a5f1d36f1,\n",
    "    'e': 0x510e527fade682d1,\n",
    "    'f': 0x9b05688c2b3e6c1f,\n",
    "    'g': 0x1f83d9abfb41bd6b,\n",
    "    'h': 0x5be0cd19137e2179,\n",
    "}\n",
    "def convert_initial_hash_hex(initial_hash):\n",
    "    return {k: hex(v)[2:] for k, v in initial_hash.items()}\n",
    "\n",
    "initial_hash_hex = convert_initial_hash_hex(initial_hash)\n",
    "\n",
    "print(hex2int(initial_hash_hex['a']))\n",
    "print(initial_hash_hex['a'])\n",
    "print(initial_hash['a'])"
   ]
  },
  {
   "cell_type": "markdown",
   "metadata": {
    "collapsed": false
   },
   "source": [
    "## Step 3: \n"
   ]
  },
  {
   "cell_type": "code",
   "execution_count": 10,
   "metadata": {
    "ExecuteTime": {
     "end_time": "2023-09-26T08:41:10.284703432Z",
     "start_time": "2023-09-26T08:41:10.278981799Z"
    },
    "collapsed": false
   },
   "outputs": [],
   "source": [
    "def ROTR(x, n, w=64):\n",
    "    # print(type(x))\n",
    "    # print(type(n))\n",
    "    return ((x >> n) | (x << (w - n))) & (2 ** w - 1)\n",
    "\n",
    "def SHR(x, n):\n",
    "    return x >> n\n",
    "\n",
    "def Sigma_0(x):\n",
    "    return ROTR(x, 1) ^ ROTR(x, 8) ^ SHR(x, 7)\n",
    "\n",
    "def Sigma_1(x):\n",
    "    return ROTR(x, 19) ^ ROTR(x, 61) ^ SHR(x, 6)"
   ]
  },
  {
   "cell_type": "code",
   "execution_count": 15,
   "metadata": {
    "ExecuteTime": {
     "end_time": "2023-09-26T08:41:10.751321461Z",
     "start_time": "2023-09-26T08:41:10.743661652Z"
    },
    "collapsed": false
   },
   "outputs": [
    {
     "name": "stdout",
     "output_type": "stream",
     "text": [
      "<class 'int'>\n",
      "80\n",
      "['6162638000000000', '0', '0', '0', '0', '0', '0', '0', '0', '0', '0', '0', '0', '0', '0', '18', '6162638000000000', '180000000000000c', '3012976480000000', '28000000000006', '18597c0bed800000', '614780000000003', 'c045581eaf68018', 'e162640800000001', '3616263e77445b98', '120a52c0c98000000', '83792975793be126', 'ab8cf57e47280000', '6c4d97c12316bcb3', '603f45228c53f818', 'fef48160d2ee65a9', '8ee8a101190163b4', '1d9a8ecc060000080', '1a6ba0ee4f66793b0', '15072943837c80044', 'da30b6a464369e25', '1e8629f56cd90503b', '1ec952a2928e9d5e8', '257897335b9967cb9', '35adba4a8c849b22b', '2843fd0a549557421', '357d39ebf905ac0b7', '2967877ddca413cd7', '2b3936e29f04444f1', '29b2958bef13bf7cd', '33e5f1832901d6400', '553f16723e6728250', '41c546e2cf2b56dc2', '6893ff519dd97f951', '5ed0b300720b29200', '56b80c77fcb709e88', '53a167cc18c49cd95', '575bdc4eab2a163ac', '75707b842160e19ad', '711a0c454b04f40b0', 'ad32a16cfbe901004', '8bd3f400f189d06d4', '94fbb8f126ed5749f', '89304d90d76251d82', '85a9815e3604e266d', 'b5ed5e01fd391890d', 'c16b01f8f6d083cba', '119db3d7c77b0c71c8', 'e24fc48b6f732bf51', '11062d491bd9b1391c', 'f83a00c8d9d3d96d2', 'e847ab59f71215156', '10b781676d1e9c36e6', '11989a8e7505ea8aba', '19b2b6438f6f7fbc36', '15fe626b10550932f5', '1d423d3cb65bb6cc60', '188c1feae9d22fe5a5', '198d467fbe83b76540', '1a65c5b895fdaa98c0', '1b55f127e7b2549253', '269b3c9619ab17ff24', '2310984ad7a81950c4', '2fd73743b776ba0e24', '2796b694ac3709784e'] \n",
      " <class 'str'>\n",
      "[7017280570803617792, 0, 0, 0, 0, 0, 0, 0, 0, 0, 0, 0, 0, 0, 0, 24, 7017280570803617792, 1729382256910270476, 3463997521301340160, 11258999068426246, 1754569920508592128, 438107005157113859, 865911044843143192, 16240653191773945857, 3897344577266539416, 20799078886681870336, 9473648875672428838, 12361524999933657088, 7804060585076112563, 6935337965859371032, 18371451032806778281, 10297657574069199796, 34130790087015792768, 30460675406223086512, 24243602713263734852, 15722267116322594341, 35191865633391267899, 35494322394458871272, 43201187575112301753, 61887239749263536683, 46423052892276880417, 61668808668112142519, 47736036044778323159, 49833295428188390641, 48074053274457339853, 59834569779712975872, 98282449546970825296, 75828353965273476546, 120570357240426920273, 109314519187451974144, 99980131079312940680, 96419390442959392149, 100717874153881953196, 135398392116080941485, 130397439478899622064, 199683440109631311876, 161210641219959195348, 171766039722358830239, 158167783464998608258, 154101944315867440749, 209747799247707801869, 222995770250120150202, 324958312789611147720, 260919502062098759505, 314039741575207139612, 286185755723253520082, 267800559088501346646, 308370868878651963110, 324590907326502439610, 474046156310581328950, 405711956699142238965, 539728616071580011616, 452818904948591814053, 471348566306686723392, 486948816439036516544, 504254864828851851859, 712162255412433256228, 646831830570999828676, 882504909761472499236, 730283049893501696078] \n",
      " <class 'int'>\n",
      "[<class 'int'>, <class 'int'>, <class 'int'>, <class 'int'>, <class 'int'>, <class 'int'>, <class 'int'>, <class 'int'>, <class 'int'>, <class 'int'>, <class 'int'>, <class 'int'>, <class 'int'>, <class 'int'>, <class 'int'>, <class 'int'>, <class 'int'>, <class 'int'>, <class 'int'>, <class 'int'>, <class 'int'>, <class 'int'>, <class 'int'>, <class 'int'>, <class 'int'>, <class 'int'>, <class 'int'>, <class 'int'>, <class 'int'>, <class 'int'>, <class 'int'>, <class 'int'>, <class 'int'>, <class 'int'>, <class 'int'>, <class 'int'>, <class 'int'>, <class 'int'>, <class 'int'>, <class 'int'>, <class 'int'>, <class 'int'>, <class 'int'>, <class 'int'>, <class 'int'>, <class 'int'>, <class 'int'>, <class 'int'>, <class 'int'>, <class 'int'>, <class 'int'>, <class 'int'>, <class 'int'>, <class 'int'>, <class 'int'>, <class 'int'>, <class 'int'>, <class 'int'>, <class 'int'>, <class 'int'>, <class 'int'>, <class 'int'>, <class 'int'>, <class 'int'>, <class 'int'>, <class 'int'>, <class 'int'>, <class 'int'>, <class 'int'>, <class 'int'>, <class 'int'>, <class 'int'>, <class 'int'>, <class 'int'>, <class 'int'>, <class 'int'>, <class 'int'>, <class 'int'>, <class 'int'>, <class 'int'>]\n",
      "['0110000101100010011000111000000000000000000000000000000000000000', '0000000000000000000000000000000000000000000000000000000000000000', '0000000000000000000000000000000000000000000000000000000000000000', '0000000000000000000000000000000000000000000000000000000000000000', '0000000000000000000000000000000000000000000000000000000000000000', '0000000000000000000000000000000000000000000000000000000000000000', '0000000000000000000000000000000000000000000000000000000000000000', '0000000000000000000000000000000000000000000000000000000000000000', '0000000000000000000000000000000000000000000000000000000000000000', '0000000000000000000000000000000000000000000000000000000000000000', '0000000000000000000000000000000000000000000000000000000000000000', '0000000000000000000000000000000000000000000000000000000000000000', '0000000000000000000000000000000000000000000000000000000000000000', '0000000000000000000000000000000000000000000000000000000000000000', '0000000000000000000000000000000000000000000000000000000000000000', '0000000000000000000000000000000000000000000000000000000000011000', '0110000101100010011000111000000000000000000000000000000000000000', '0001100000000000000000000000000000000000000000000000000000001100', '0011000000010010100101110110010010000000000000000000000000000000', '0000000000101000000000000000000000000000000000000000000000000110', '0001100001011001011111000000101111101101100000000000000000000000', '0000011000010100011110000000000000000000000000000000000000000011', '0000110000000100010101011000000111101010111101101000000000011000', '1110000101100010011001000000100000000000000000000000000000000001', '0011011000010110001001100011111001110111010001000101101110011000', '10010000010100101001011000000110010011000000000000000000000000000', '1000001101111001001010010111010101111001001110111110000100100110', '1010101110001100111101010111111001000111001010000000000000000000', '0110110001001101100101111100000100100011000101101011110010110011', '0110000000111111010001010010001010001100010100111111100000011000', '1111111011110100100000010110000011010010111011100110010110101001', '1000111011101000101000010000000100011001000000010110001110110100', '11101100110101000111011001100000001100000000000000000000010000000', '11010011010111010000011101110010011110110011001111001001110110000', '10101000001110010100101000011100000110111110010000000000001000100', '1101101000110000101101101010010001100100001101101001111000100101', '11110100001100010100111110101011011001101100100000101000000111011', '11110110010010101001010100010100100101000111010011101010111101000', '100101011110001001011100110011010110111001100101100111110010111001', '110101101011011011101001001010100011001000010010011011001000101011', '101000010000111111110100001010010101001001010101010111010000100001', '110101011111010011100111101011111110010000010110101100000010110111', '101001011001111000011101111101110111001010010000010011110011010111', '101011001110010011011011100010100111110000010001000100010011110001', '101001101100101001010110001011111011110001001110111111011111001101', '110011111001011111000110000011001010010000000111010110010000000000', '1010101001111110001011001110010001111100110011100101000001001010000', '1000001110001010100011011100010110011110010101101010110110111000010', '1101000100100111111111101010001100111011101100101111111100101010001', '1011110110100001011001100000000011100100000101100101001001000000000', '1010110101110000000110001110111111111001011011100001001111010001000', '1010011101000010110011111001100000110001100010010011100110110010101', '1010111010110111101110001001110101010110010101000010110001110101100', '1110101011100000111101110000100001000010110000011100001100110101101', '1110001000110100000110001000101010010110000010011110100000010110000', '10101101001100101010000101101100111110111110100100000001000000000100', '10001011110100111111010000000000111100011000100111010000011011010100', '10010100111110111011100011110001001001101110110101010111010010011111', '10001001001100000100110110010000110101110110001001010001110110000010', '10000101101010011000000101011110001101100000010011100010011001101101', '10110101111011010101111000000001111111010011100100011000100100001101', '11000001011010110000000111111000111101101101000010000011110010111010', '100011001110110110011110101111100011101111011000011000111000111001000', '11100010010011111100010010001011011011110111001100101011111101010001', '100010000011000101101010010010001101111011001101100010011100100011100', '11111000001110100000000011001000110110011101001111011001011011010010', '11101000010001111010101101011001111101110001001000010101000101010110', '100001011011110000001011001110110110100011110100111000011011011100110', '100011001100010011010100011100111010100000101111010101000101010111010', '110011011001010110110010000111000111101101111011111111011110000110110', '101011111111001100010011010110001000001010101000010010011001011110101', '111010100001000111101001111001011011001011011101101101100110001100000', '110001000110000011111111010101110100111010010001011111110010110100101', '110011000110101000110011111111011111010000011101101110110010101000000', '110100110010111000101101110001001010111111101101010101001100011000000', '110110101010111110001001001111110011110110010010101001001001001010011', '1001101001101100111100100101100001100110101011000101111111111100100100', '1000110001000010011000010010101101011110101000000110010101000011000100', '1011111101011100110111010000111011011101110110101110100000111000100100', '1001111001011010110110100101001010110000110111000010010111100001001110'] \n",
      " <class 'str'>\n"
     ]
    }
   ],
   "source": [
    "# Practice\n",
    "def prepare_message(message):\n",
    "    Word = []\n",
    "    for i in range(0, len(message), 16):\n",
    "        block = message[i:i+16]\n",
    "        # print(hex2int(block))\n",
    "        block = hex2int(block)\n",
    "        Word.append(block)\n",
    "    for i in range(16, 80):\n",
    "        block =Sigma_0(Word[i-2]) + Word[i-7] + Sigma_0(Word[i-15]) + Word[i-16]\n",
    "        Word.append(block)\n",
    "    return Word\n",
    "\n",
    "Words = prepare_message(padding_message)\n",
    "print(type(Words[0]))\n",
    "print(len(prepare_message(padding_message)))\n",
    "hex_Word = [hex(i)[2:] for i in Words]\n",
    "print(hex_Word, \"\\n\", type(hex_Word[0]))\n",
    "print(Words, \"\\n\", type(Words[0]))\n",
    "print([type(i) for i in Words])\n",
    "bin64bitsWord = [bin64bits(i) for i in hex_Word]\n",
    "print(bin64bitsWord, \"\\n\", type(bin64bitsWord[0]))"
   ]
  },
  {
   "cell_type": "code",
   "execution_count": 12,
   "metadata": {
    "ExecuteTime": {
     "end_time": "2023-09-26T08:41:11.419243389Z",
     "start_time": "2023-09-26T08:41:11.412199627Z"
    }
   },
   "outputs": [],
   "source": [
    "def Ch(initial_hash):\n",
    "    return (initial_hash['e'] & initial_hash['f']) ^ (~initial_hash['e'] & initial_hash['g']) \n",
    "\n",
    "def Maj(initial_hash):\n",
    "    return (initial_hash['a'] & initial_hash['b']) ^ (initial_hash['a'] & initial_hash['c']) ^ (initial_hash['b'] & initial_hash['c'])\n",
    "\n",
    "def T1(initial_hash, t, Word):\n",
    "    return initial_hash['h'] + Ch(initial_hash) + Sigma_1(initial_hash['e']) + Ch(initial_hash) + Key[t] + Word[t]\n",
    "\n",
    "def T2(initial_hash, t):\n",
    "    return Sigma_0(initial_hash['a']) + Maj(initial_hash) + Sigma_0(initial_hash['a']) + Maj(initial_hash)\n"
   ]
  },
  {
   "cell_type": "code",
   "execution_count": 13,
   "metadata": {
    "ExecuteTime": {
     "end_time": "2023-09-26T08:41:33.934187936Z",
     "start_time": "2023-09-26T08:41:33.931384955Z"
    },
    "collapsed": false
   },
   "outputs": [
    {
     "name": "stdout",
     "output_type": "stream",
     "text": [
      "Round:  0\n",
      "{'a': '6a09e667f3bcc908', 'b': 'bb67ae8584caa73b', 'c': '3c6ef372fe94f82b', 'd': 'a54ff53a5f1d36f1', 'e': '510e527fade682d1', 'f': '9b05688c2b3e6c1f', 'g': '1f83d9abfb41bd6b', 'h': '5be0cd19137e2179'}\n",
      "Round:  1\n",
      "{'a': '2889b12e2cd90d962', 'b': '6a09e667f3bcc908', 'c': 'bb67ae8584caa73b', 'd': '3c6ef372fe94f82b', 'e': '23d95691a9bdefa3f', 'f': '510e527fade682d1', 'g': '9b05688c2b3e6c1f', 'h': '1f83d9abfb41bd6b'}\n",
      "Round:  2\n",
      "{'a': '38d9e30989b2976cc', 'b': '2889b12e2cd90d962', 'c': '6a09e667f3bcc908', 'd': 'bb67ae8584caa73b', 'e': '22e4d8daf8b4f20ef', 'f': '23d95691a9bdefa3f', 'g': '510e527fade682d1', 'h': '9b05688c2b3e6c1f'}\n",
      "Round:  3\n",
      "{'a': 'c1787b3964d2feae9', 'b': '38d9e30989b2976cc', 'c': '2889b12e2cd90d962', 'd': '6a09e667f3bcc908', 'e': '7a505881a52155d9a', 'f': '22e4d8daf8b4f20ef', 'g': '23d95691a9bdefa3f', 'h': '510e527fade682d1'}\n",
      "Round:  4\n",
      "{'a': 'c6a30a9f162c6981a', 'b': 'c1787b3964d2feae9', 'c': '38d9e30989b2976cc', 'd': '2889b12e2cd90d962', 'e': '6bb0588f483ae60bc', 'f': '7a505881a52155d9a', 'g': '22e4d8daf8b4f20ef', 'h': '23d95691a9bdefa3f'}\n",
      "Round:  5\n",
      "{'a': '2856d839b9fdfd6209', 'b': 'c6a30a9f162c6981a', 'c': 'c1787b3964d2feae9', 'd': '38d9e30989b2976cc', 'e': '1258f9df76efa63691', 'f': '6bb0588f483ae60bc', 'g': '7a505881a52155d9a', 'h': '22e4d8daf8b4f20ef'}\n",
      "Round:  6\n",
      "{'a': '2c9d1984ff4bf6f746', 'b': '2856d839b9fdfd6209', 'c': 'c6a30a9f162c6981a', 'd': 'c1787b3964d2feae9', 'e': '15d8675908a14f2cbc', 'f': '1258f9df76efa63691', 'g': '6bb0588f483ae60bc', 'h': '7a505881a52155d9a'}\n",
      "Round:  7\n",
      "{'a': '874e5ed2ae2c956952', 'b': '2c9d1984ff4bf6f746', 'c': '2856d839b9fdfd6209', 'd': 'c6a30a9f162c6981a', 'e': '39b75d606c5988aeb3', 'f': '15d8675908a14f2cbc', 'g': '1258f9df76efa63691', 'h': '6bb0588f483ae60bc'}\n",
      "Round:  8\n",
      "{'a': '8b1c7adbc922101432', 'b': '874e5ed2ae2c956952', 'c': '2c9d1984ff4bf6f746', 'd': '2856d839b9fdfd6209', 'e': '3bcbff4ff9e06dcfa4', 'f': '39b75d606c5988aeb3', 'g': '15d8675908a14f2cbc', 'h': '1258f9df76efa63691'}\n",
      "Round:  9\n",
      "{'a': '1aedfc8115f0bd4ebfe', 'b': '8b1c7adbc922101432', 'c': '874e5ed2ae2c956952', 'd': '2c9d1984ff4bf6f746', 'e': 'b6b7b6e0291fccef19', 'f': '3bcbff4ff9e06dcfa4', 'g': '39b75d606c5988aeb3', 'h': '15d8675908a14f2cbc'}\n",
      "Round:  10\n",
      "{'a': '1b64345a9fa0c8b8de0', 'b': '1aedfc8115f0bd4ebfe', 'c': '8b1c7adbc922101432', 'd': '874e5ed2ae2c956952', 'e': 'bc8aa0e622396da0bc', 'f': 'b6b7b6e0291fccef19', 'g': '3bcbff4ff9e06dcfa4', 'h': '39b75d606c5988aeb3'}\n",
      "Round:  11\n",
      "{'a': '50fac2845bfe016046a', 'b': '1b64345a9fa0c8b8de0', 'c': '1aedfc8115f0bd4ebfe', 'd': '8b1c7adbc922101432', 'e': '232c527b0a9e6e99d0c', 'f': 'bc8aa0e622396da0bc', 'g': 'b6b7b6e0291fccef19', 'h': '3bcbff4ff9e06dcfa4'}\n",
      "Round:  12\n",
      "{'a': '521448d0948018f3865', 'b': '50fac2845bfe016046a', 'c': '1b64345a9fa0c8b8de0', 'd': '1aedfc8115f0bd4ebfe', 'e': '23974b72cf0b21bc051', 'f': '232c527b0a9e6e99d0c', 'g': 'bc8aa0e622396da0bc', 'h': 'b6b7b6e0291fccef19'}\n",
      "Round:  13\n",
      "{'a': '108c9219d3f7d354581d', 'b': '521448d0948018f3865', 'c': '50fac2845bfe016046a', 'd': '1b64345a9fa0c8b8de0', 'e': '7d7deb1a9e32c811067', 'f': '23974b72cf0b21bc051', 'g': '232c527b0a9e6e99d0c', 'h': 'bc8aa0e622396da0bc'}\n",
      "Round:  14\n",
      "{'a': 'f9ce27f877a7cca0314', 'b': '108c9219d3f7d354581d', 'c': '521448d0948018f3865', 'd': '50fac2845bfe016046a', 'e': '6f5823d26552369be4e', 'f': '7d7deb1a9e32c811067', 'g': '23974b72cf0b21bc051', 'h': '232c527b0a9e6e99d0c'}\n",
      "Round:  15\n",
      "{'a': '1b646b15ccea5d3f349f', 'b': 'f9ce27f877a7cca0314', 'c': '108c9219d3f7d354581d', 'd': '521448d0948018f3865', 'e': '151aead0854c37f849c1', 'f': '6f5823d26552369be4e', 'g': '7d7deb1a9e32c811067', 'h': '23974b72cf0b21bc051'}\n",
      "Round:  16\n",
      "{'a': '47c061f4cd9753b9772e', 'b': '1b646b15ccea5d3f349f', 'c': 'f9ce27f877a7cca0314', 'd': '108c9219d3f7d354581d', 'e': '155addd696aa799ad935', 'f': '151aead0854c37f849c1', 'g': '6f5823d26552369be4e', 'h': '7d7deb1a9e32c811067'}\n",
      "Round:  17\n",
      "{'a': '58561cab67c1c71257d0', 'b': '47c061f4cd9753b9772e', 'c': '1b646b15ccea5d3f349f', 'd': 'f9ce27f877a7cca0314', 'e': '483b2b28a88abe9f6195', 'f': '155addd696aa799ad935', 'g': '151aead0854c37f849c1', 'h': '6f5823d26552369be4e'}\n",
      "Round:  18\n",
      "{'a': 'ea3632c6b5228cb507ef', 'b': '58561cab67c1c71257d0', 'c': '47c061f4cd9753b9772e', 'd': '1b646b15ccea5d3f349f', 'e': '41e958fa04851787e1a7', 'f': '483b2b28a88abe9f6195', 'g': '155addd696aa799ad935', 'h': '151aead0854c37f849c1'}\n",
      "Round:  19\n",
      "{'a': '156ee59c1f495fcb72e86', 'b': 'ea3632c6b5228cb507ef', 'c': '58561cab67c1c71257d0', 'd': '47c061f4cd9753b9772e', 'e': 'd9fe4ea1d3dc86f4f94b', 'f': '41e958fa04851787e1a7', 'g': '483b2b28a88abe9f6195', 'h': '155addd696aa799ad935'}\n",
      "Round:  20\n",
      "{'a': '156db5604d5b50859717b', 'b': '156ee59c1f495fcb72e86', 'c': 'ea3632c6b5228cb507ef', 'd': '58561cab67c1c71257d0', 'e': 'e4554a5c479a41e83cbd', 'f': 'd9fe4ea1d3dc86f4f94b', 'g': '41e958fa04851787e1a7', 'h': '483b2b28a88abe9f6195'}\n",
      "Round:  21\n",
      "{'a': '4831db27f777bf1a05b7f', 'b': '156db5604d5b50859717b', 'c': '156ee59c1f495fcb72e86', 'd': 'ea3632c6b5228cb507ef', 'e': '2281b5bb02489e8dfbd15', 'f': 'e4554a5c479a41e83cbd', 'g': 'd9fe4ea1d3dc86f4f94b', 'h': '41e958fa04851787e1a7'}\n",
      "Round:  22\n",
      "{'a': '4ee406d51204854b7fba2', 'b': '4831db27f777bf1a05b7f', 'c': '156db5604d5b50859717b', 'd': '156ee59c1f495fcb72e86', 'e': '318aabfb975b6068471ef', 'f': '2281b5bb02489e8dfbd15', 'g': 'e4554a5c479a41e83cbd', 'h': 'd9fe4ea1d3dc86f4f94b'}\n",
      "Round:  23\n",
      "{'a': '105f8bbc319159fc4c507b', 'b': '4ee406d51204854b7fba2', 'c': '4831db27f777bf1a05b7f', 'd': '156db5604d5b50859717b', 'e': '8160e8109d47372543c51', 'f': '318aabfb975b6068471ef', 'g': '2281b5bb02489e8dfbd15', 'h': 'e4554a5c479a41e83cbd'}\n",
      "Round:  24\n",
      "{'a': 'f5478ee4829cf514e6fd4', 'b': '105f8bbc319159fc4c507b', 'c': '4ee406d51204854b7fba2', 'd': '4831db27f777bf1a05b7f', 'e': '6cbc265b16892481930bf', 'f': '8160e8109d47372543c51', 'g': '318aabfb975b6068471ef', 'h': '2281b5bb02489e8dfbd15'}\n",
      "Round:  25\n",
      "{'a': 'd618408498fdc9bc88fcc', 'b': 'f5478ee4829cf514e6fd4', 'c': '105f8bbc319159fc4c507b', 'd': '4ee406d51204854b7fba2', 'e': '8eabeedf92b89f22228b3', 'f': '6cbc265b16892481930bf', 'g': '8160e8109d47372543c51', 'h': '318aabfb975b6068471ef'}\n",
      "Round:  26\n",
      "{'a': '1fd9f4f628f62ae3f8cda2', 'b': 'd618408498fdc9bc88fcc', 'c': 'f5478ee4829cf514e6fd4', 'd': '105f8bbc319159fc4c507b', 'e': '9e79c8a6ec7bb3587eca0', 'f': '8eabeedf92b89f22228b3', 'g': '6cbc265b16892481930bf', 'h': '8160e8109d47372543c51'}\n",
      "Round:  27\n",
      "{'a': '4536bd11cdf80ad26033b0', 'b': '1fd9f4f628f62ae3f8cda2', 'c': 'd618408498fdc9bc88fcc', 'd': 'f5478ee4829cf514e6fd4', 'e': '3672f8295225a9096a0595', 'f': '9e79c8a6ec7bb3587eca0', 'g': '8eabeedf92b89f22228b3', 'h': '6cbc265b16892481930bf'}\n",
      "Round:  28\n",
      "{'a': '35730f8f770e5173f66211', 'b': '4536bd11cdf80ad26033b0', 'c': '1fd9f4f628f62ae3f8cda2', 'd': 'd618408498fdc9bc88fcc', 'e': '28cf45bd81e7f030e63f8d', 'f': '3672f8295225a9096a0595', 'g': '9e79c8a6ec7bb3587eca0', 'h': '8eabeedf92b89f22228b3'}\n",
      "Round:  29\n",
      "{'a': '7810f65a33e2cd55b27fbd', 'b': '35730f8f770e5173f66211', 'c': '4536bd11cdf80ad26033b0', 'd': '1fd9f4f628f62ae3f8cda2', 'e': '59b531a54d3a1f74bbf0cd', 'f': '28cf45bd81e7f030e63f8d', 'g': '3672f8295225a9096a0595', 'h': '9e79c8a6ec7bb3587eca0'}\n",
      "Round:  30\n",
      "{'a': '15523c7619e5d56e82e5fee', 'b': '7810f65a33e2cd55b27fbd', 'c': '35730f8f770e5173f66211', 'd': '4536bd11cdf80ad26033b0', 'e': '88b7faa2e8346b29f27372', 'f': '59b531a54d3a1f74bbf0cd', 'g': '28cf45bd81e7f030e63f8d', 'h': '3672f8295225a9096a0595'}\n",
      "Round:  31\n",
      "{'a': '17a4c628623feac0591b415', 'b': '15523c7619e5d56e82e5fee', 'c': '7810f65a33e2cd55b27fbd', 'd': '35730f8f770e5173f66211', 'e': 'cfc7015ea84172d6262e1d', 'f': '88b7faa2e8346b29f27372', 'g': '59b531a54d3a1f74bbf0cd', 'h': '28cf45bd81e7f030e63f8d'}\n",
      "Round:  32\n",
      "{'a': '45367c11de85cc18269830d', 'b': '17a4c628623feac0591b415', 'c': '15523c7619e5d56e82e5fee', 'd': '7810f65a33e2cd55b27fbd', 'e': '192efd345c036ce7d6e13f8', 'f': 'cfc7015ea84172d6262e1d', 'g': '88b7faa2e8346b29f27372', 'h': '59b531a54d3a1f74bbf0cd'}\n",
      "Round:  33\n",
      "{'a': '42dcc6cbfdff6d09d8e91d5', 'b': '45367c11de85cc18269830d', 'c': '17a4c628623feac0591b415', 'd': '15523c7619e5d56e82e5fee', 'e': '1edc03d8b1af309eb88ed72', 'f': '192efd345c036ce7d6e13f8', 'g': 'cfc7015ea84172d6262e1d', 'h': '88b7faa2e8346b29f27372'}\n",
      "Round:  34\n",
      "{'a': 'c9d4d126c8900c527542554', 'b': '42dcc6cbfdff6d09d8e91d5', 'c': '45367c11de85cc18269830d', 'd': '17a4c628623feac0591b415', 'e': '4eb20e697f029b485abac68', 'f': '1edc03d8b1af309eb88ed72', 'g': '192efd345c036ce7d6e13f8', 'h': 'cfc7015ea84172d6262e1d'}\n",
      "Round:  35\n",
      "{'a': 'd4421a6d81ff2851cea12d2', 'b': 'c9d4d126c8900c527542554', 'c': '42dcc6cbfdff6d09d8e91d5', 'd': '45367c11de85cc18269830d', 'e': '6515e5458cf10e65a5ae6b3', 'f': '4eb20e697f029b485abac68', 'g': '1edc03d8b1af309eb88ed72', 'h': '192efd345c036ce7d6e13f8'}\n",
      "Round:  36\n",
      "{'a': '25d6e0ff2b9faa7e8a36aa8b', 'b': 'd4421a6d81ff2851cea12d2', 'c': 'c9d4d126c8900c527542554', 'd': '42dcc6cbfdff6d09d8e91d5', 'e': '11da9deaa1786f0bce639b34', 'f': '6515e5458cf10e65a5ae6b3', 'g': '4eb20e697f029b485abac68', 'h': '1edc03d8b1af309eb88ed72'}\n",
      "Round:  37\n",
      "{'a': '2757c22fd37785fd635859e8', 'b': '25d6e0ff2b9faa7e8a36aa8b', 'c': 'd4421a6d81ff2851cea12d2', 'd': 'c9d4d126c8900c527542554', 'e': 'f456fac98b14bc056f088a5', 'f': '11da9deaa1786f0bce639b34', 'g': '6515e5458cf10e65a5ae6b3', 'h': '4eb20e697f029b485abac68'}\n",
      "Round:  38\n",
      "{'a': '53139301afe537fce07784c4', 'b': '2757c22fd37785fd635859e8', 'c': '25d6e0ff2b9faa7e8a36aa8b', 'd': 'd4421a6d81ff2851cea12d2', 'e': '1465bfabb2923de686c3ec48', 'f': 'f456fac98b14bc056f088a5', 'g': '11da9deaa1786f0bce639b34', 'h': '6515e5458cf10e65a5ae6b3'}\n",
      "Round:  39\n",
      "{'a': '625d27d295a76fb5135c305c', 'b': '53139301afe537fce07784c4', 'c': '2757c22fd37785fd635859e8', 'd': '25d6e0ff2b9faa7e8a36aa8b', 'e': '1fa576cdf3d2a8f381227bc0', 'f': '1465bfabb2923de686c3ec48', 'g': 'f456fac98b14bc056f088a5', 'h': '11da9deaa1786f0bce639b34'}\n",
      "Round:  40\n",
      "{'a': '1035c2dc2dd79d81432e6759c', 'b': '625d27d295a76fb5135c305c', 'c': '53139301afe537fce07784c4', 'd': '2757c22fd37785fd635859e8', 'e': '60fa941c767075c3492d0593', 'f': '1fa576cdf3d2a8f381227bc0', 'g': '1465bfabb2923de686c3ec48', 'h': 'f456fac98b14bc056f088a5'}\n",
      "Round:  41\n",
      "{'a': 'c4db999b7dc0a404f891cfda', 'b': '1035c2dc2dd79d81432e6759c', 'c': '625d27d295a76fb5135c305c', 'd': '53139301afe537fce07784c4', 'e': '616b9b8fa9b65dd5acb59f6a', 'f': '60fa941c767075c3492d0593', 'g': '1fa576cdf3d2a8f381227bc0', 'h': '1465bfabb2923de686c3ec48'}\n",
      "Round:  42\n",
      "{'a': '19b9720c37adbf1ac20cfdbcc', 'b': 'c4db999b7dc0a404f891cfda', 'c': '1035c2dc2dd79d81432e6759c', 'd': '625d27d295a76fb5135c305c', 'e': '166dce9b8c83129a3b91bc95e', 'f': '616b9b8fa9b65dd5acb59f6a', 'g': '60fa941c767075c3492d0593', 'h': '1fa576cdf3d2a8f381227bc0'}\n",
      "Round:  43\n",
      "{'a': '3f442d59c0e86c2176b93fe7a', 'b': '19b9720c37adbf1ac20cfdbcc', 'c': 'c4db999b7dc0a404f891cfda', 'd': '1035c2dc2dd79d81432e6759c', 'e': '148734d63beb5283a5552f40a', 'f': '166dce9b8c83129a3b91bc95e', 'g': '616b9b8fa9b65dd5acb59f6a', 'h': '60fa941c767075c3492d0593'}\n",
      "Round:  44\n",
      "{'a': '6e246473c88fda8b04515dfe1', 'b': '3f442d59c0e86c2176b93fe7a', 'c': '19b9720c37adbf1ac20cfdbcc', 'd': 'c4db999b7dc0a404f891cfda', 'e': '42c2a4670e64fec208de9ff4b', 'f': '148734d63beb5283a5552f40a', 'g': '166dce9b8c83129a3b91bc95e', 'h': '616b9b8fa9b65dd5acb59f6a'}\n",
      "Round:  45\n",
      "{'a': 'b081fc4d298757afd982e821a', 'b': '6e246473c88fda8b04515dfe1', 'c': '3f442d59c0e86c2176b93fe7a', 'd': '19b9720c37adbf1ac20cfdbcc', 'e': '3cce5ba197ea6b855e904ef04', 'f': '42c2a4670e64fec208de9ff4b', 'g': '148734d63beb5283a5552f40a', 'h': '166dce9b8c83129a3b91bc95e'}\n",
      "Round:  46\n",
      "{'a': '97b2319d65195ab28f0744d03', 'b': 'b081fc4d298757afd982e821a', 'c': '6e246473c88fda8b04515dfe1', 'd': '3f442d59c0e86c2176b93fe7a', 'e': '32a0c304e53618186e99606c5', 'f': '3cce5ba197ea6b855e904ef04', 'g': '42c2a4670e64fec208de9ff4b', 'h': '148734d63beb5283a5552f40a'}\n",
      "Round:  47\n",
      "{'a': '26676382b2300729c68838daa5', 'b': '97b2319d65195ab28f0744d03', 'c': 'b081fc4d298757afd982e821a', 'd': '6e246473c88fda8b04515dfe1', 'e': '1361ab40396631bf9a510dc66d', 'f': '32a0c304e53618186e99606c5', 'g': '3cce5ba197ea6b855e904ef04', 'h': '42c2a4670e64fec208de9ff4b'}\n",
      "Round:  48\n",
      "{'a': '23422ef734ac0a283ca8aec8a2', 'b': '26676382b2300729c68838daa5', 'c': '97b2319d65195ab28f0744d03', 'd': 'b081fc4d298757afd982e821a', 'e': '12b490aec27e363de19e42cc03', 'f': '1361ab40396631bf9a510dc66d', 'g': '32a0c304e53618186e99606c5', 'h': '3cce5ba197ea6b855e904ef04'}\n",
      "Round:  49\n",
      "{'a': '71c020003e09f0a9658dc254e0', 'b': '23422ef734ac0a283ca8aec8a2', 'c': '26676382b2300729c68838daa5', 'd': '97b2319d65195ab28f0744d03', 'e': '3574efe1c72e75bd3db21a17a4', 'f': '12b490aec27e363de19e42cc03', 'g': '1361ab40396631bf9a510dc66d', 'h': '32a0c304e53618186e99606c5'}\n",
      "Round:  50\n",
      "{'a': '70b626b63e2abe550fda6eb828', 'b': '71c020003e09f0a9658dc254e0', 'c': '23422ef734ac0a283ca8aec8a2', 'd': '26676382b2300729c68838daa5', 'e': '31e6044ba71e8b22dce89e7ad1', 'f': '3574efe1c72e75bd3db21a17a4', 'g': '12b490aec27e363de19e42cc03', 'h': '1361ab40396631bf9a510dc66d'}\n",
      "Round:  51\n",
      "{'a': '160599324517c7974e4d85e49ca', 'b': '70b626b63e2abe550fda6eb828', 'c': '71c020003e09f0a9658dc254e0', 'd': '23422ef734ac0a283ca8aec8a2', 'e': 'a179d09faeacca7b5e54059377', 'f': '31e6044ba71e8b22dce89e7ad1', 'g': '3574efe1c72e75bd3db21a17a4', 'h': '12b490aec27e363de19e42cc03'}\n",
      "Round:  52\n",
      "{'a': '16724815e225afd168edc277160', 'b': '160599324517c7974e4d85e49ca', 'c': '70b626b63e2abe550fda6eb828', 'd': '71c020003e09f0a9658dc254e0', 'e': 'a34505c04925a5f02151a9fbb4', 'f': 'a179d09faeacca7b5e54059377', 'g': '31e6044ba71e8b22dce89e7ad1', 'h': '3574efe1c72e75bd3db21a17a4'}\n",
      "Round:  53\n",
      "{'a': '461cd9d82081e48ed1c5cade3e5', 'b': '16724815e225afd168edc277160', 'c': '160599324517c7974e4d85e49ca', 'd': '70b626b63e2abe550fda6eb828', 'e': '20d882510691b1bd46a3ea3a3af', 'f': 'a34505c04925a5f02151a9fbb4', 'g': 'a179d09faeacca7b5e54059377', 'h': '31e6044ba71e8b22dce89e7ad1'}\n",
      "Round:  54\n",
      "{'a': '451222881993bbf03ad7848b0bf', 'b': '461cd9d82081e48ed1c5cade3e5', 'c': '16724815e225afd168edc277160', 'd': '160599324517c7974e4d85e49ca', 'e': '1edb5f6b5cdc57d103184f2957b', 'f': '20d882510691b1bd46a3ea3a3af', 'g': 'a34505c04925a5f02151a9fbb4', 'h': 'a179d09faeacca7b5e54059377'}\n",
      "Round:  55\n",
      "{'a': '99c3e8ec1367e9efe034265cb13', 'b': '451222881993bbf03ad7848b0bf', 'c': '461cd9d82081e48ed1c5cade3e5', 'd': '16724815e225afd168edc277160', 'e': '2290a863f71a3f7e22acb0f2df7', 'f': '1edb5f6b5cdc57d103184f2957b', 'g': '20d882510691b1bd46a3ea3a3af', 'h': 'a34505c04925a5f02151a9fbb4'}\n",
      "Round:  56\n",
      "{'a': '9cfb891811b199e70705606ccd2', 'b': '99c3e8ec1367e9efe034265cb13', 'c': '451222881993bbf03ad7848b0bf', 'd': '461cd9d82081e48ed1c5cade3e5', 'e': '26e0effa2072dc3f0dd3769df1c', 'f': '2290a863f71a3f7e22acb0f2df7', 'g': '1edb5f6b5cdc57d103184f2957b', 'h': '20d882510691b1bd46a3ea3a3af'}\n",
      "Round:  57\n",
      "{'a': '1d4c6b60c6c9d93deecfce1cdd73', 'b': '9cfb891811b199e70705606ccd2', 'c': '99c3e8ec1367e9efe034265cb13', 'd': '451222881993bbf03ad7848b0bf', 'e': 'dcc850b0096bc7ec2580e4e55ba', 'f': '26e0effa2072dc3f0dd3769df1c', 'g': '2290a863f71a3f7e22acb0f2df7', 'h': '1edb5f6b5cdc57d103184f2957b'}\n",
      "Round:  58\n",
      "{'a': '1b0cabd865f9fe3f753b823cfc00', 'b': '1d4c6b60c6c9d93deecfce1cdd73', 'c': '9cfb891811b199e70705606ccd2', 'd': '99c3e8ec1367e9efe034265cb13', 'e': 'b502751e2417cd519b8ffc37a5d', 'f': 'dcc850b0096bc7ec2580e4e55ba', 'g': '26e0effa2072dc3f0dd3769df1c', 'h': '2290a863f71a3f7e22acb0f2df7'}\n",
      "Round:  59\n",
      "{'a': '4837f0d2745c6f3df73f65bc90c1', 'b': '1b0cabd865f9fe3f753b823cfc00', 'c': '1d4c6b60c6c9d93deecfce1cdd73', 'd': '9cfb891811b199e70705606ccd2', 'e': '1ecea51048475122164600b82d28', 'f': 'b502751e2417cd519b8ffc37a5d', 'g': 'dcc850b0096bc7ec2580e4e55ba', 'h': '26e0effa2072dc3f0dd3769df1c'}\n",
      "Round:  60\n",
      "{'a': '4ca44b2e785b4ab1a68eba0d50a6', 'b': '4837f0d2745c6f3df73f65bc90c1', 'c': '1b0cabd865f9fe3f753b823cfc00', 'd': '1d4c6b60c6c9d93deecfce1cdd73', 'e': '23394c5be5f0c174ad719cb94954', 'f': '1ecea51048475122164600b82d28', 'g': 'b502751e2417cd519b8ffc37a5d', 'h': 'dcc850b0096bc7ec2580e4e55ba'}\n",
      "Round:  61\n",
      "{'a': 'b466213e975211fdef3163464c59', 'b': '4ca44b2e785b4ab1a68eba0d50a6', 'c': '4837f0d2745c6f3df73f65bc90c1', 'd': '1b0cabd865f9fe3f753b823cfc00', 'e': '403623bdbb8735b1ec284f580988', 'f': '23394c5be5f0c174ad719cb94954', 'g': '1ecea51048475122164600b82d28', 'h': 'b502751e2417cd519b8ffc37a5d'}\n",
      "Round:  62\n",
      "{'a': 'e56063167fce477915c8d23b0066', 'b': 'b466213e975211fdef3163464c59', 'c': '4ca44b2e785b4ab1a68eba0d50a6', 'd': '4837f0d2745c6f3df73f65bc90c1', 'e': '654eb3ed02b6bea2d931ca5180f4', 'f': '403623bdbb8735b1ec284f580988', 'g': '23394c5be5f0c174ad719cb94954', 'h': '1ecea51048475122164600b82d28'}\n",
      "Round:  63\n",
      "{'a': '27131076924a4644a74db75552f33', 'b': 'e56063167fce477915c8d23b0066', 'c': 'b466213e975211fdef3163464c59', 'd': '4ca44b2e785b4ab1a68eba0d50a6', 'e': 'ed0ab032404da8ab1954961ba4c2', 'f': '654eb3ed02b6bea2d931ca5180f4', 'g': '403623bdbb8735b1ec284f580988', 'h': '23394c5be5f0c174ad719cb94954'}\n",
      "Round:  64\n",
      "{'a': '2e5efe9123a2d5db3d2a723c83443', 'b': '27131076924a4644a74db75552f33', 'c': 'e56063167fce477915c8d23b0066', 'd': 'b466213e975211fdef3163464c59', 'e': '13e0f29a69e69825ec3a148bc9a33', 'f': 'ed0ab032404da8ab1954961ba4c2', 'g': '654eb3ed02b6bea2d931ca5180f4', 'h': '403623bdbb8735b1ec284f580988'}\n",
      "Round:  65\n",
      "{'a': '6f61e4b031e13a809c05200379c2f', 'b': '2e5efe9123a2d5db3d2a723c83443', 'c': '27131076924a4644a74db75552f33', 'd': 'e56063167fce477915c8d23b0066', 'e': '1d429e678ef23f8928ba38bcb1ac8', 'f': '13e0f29a69e69825ec3a148bc9a33', 'g': 'ed0ab032404da8ab1954961ba4c2', 'h': '654eb3ed02b6bea2d931ca5180f4'}\n",
      "Round:  66\n",
      "{'a': '8ed0ccafe8c22bad4254e91e79dca', 'b': '6f61e4b031e13a809c05200379c2f', 'c': '2e5efe9123a2d5db3d2a723c83443', 'd': '27131076924a4644a74db75552f33', 'e': '3cc161ee2832c903ba49d3540f884', 'f': '1d429e678ef23f8928ba38bcb1ac8', 'g': '13e0f29a69e69825ec3a148bc9a33', 'h': 'ed0ab032404da8ab1954961ba4c2'}\n",
      "Round:  67\n",
      "{'a': 'ad61f20c73fa600064a97a2ba93e6', 'b': '8ed0ccafe8c22bad4254e91e79dca', 'c': '6f61e4b031e13a809c05200379c2f', 'd': '2e5efe9123a2d5db3d2a723c83443', 'e': '7597e5ee02dd10de26155ddbcbdfd', 'f': '3cc161ee2832c903ba49d3540f884', 'g': '1d429e678ef23f8928ba38bcb1ac8', 'h': '13e0f29a69e69825ec3a148bc9a33'}\n",
      "Round:  68\n",
      "{'a': '1f0b39b324febd7085939a3ded06ab', 'b': 'ad61f20c73fa600064a97a2ba93e6', 'c': '8ed0ccafe8c22bad4254e91e79dca', 'd': '6f61e4b031e13a809c05200379c2f', 'e': 'bd9948a25dfa62a2a866b8cd0f284', 'f': '7597e5ee02dd10de26155ddbcbdfd', 'g': '3cc161ee2832c903ba49d3540f884', 'h': '1d429e678ef23f8928ba38bcb1ac8'}\n",
      "Round:  69\n",
      "{'a': '1ed824a2ffb30c9b34ea3fcd80ee35', 'b': '1f0b39b324febd7085939a3ded06ab', 'c': 'ad61f20c73fa600064a97a2ba93e6', 'd': '8ed0ccafe8c22bad4254e91e79dca', 'e': 'fb3dac168bfd8e69014610877f1d4', 'f': 'bd9948a25dfa62a2a866b8cd0f284', 'g': '7597e5ee02dd10de26155ddbcbdfd', 'h': '3cc161ee2832c903ba49d3540f884'}\n",
      "Round:  70\n",
      "{'a': '59ee2a9f84e36e3f2e79be790c4086', 'b': '1ed824a2ffb30c9b34ea3fcd80ee35', 'c': '1f0b39b324febd7085939a3ded06ab', 'd': 'ad61f20c73fa600064a97a2ba93e6', 'e': '24ab5b9227f16b078ab98a6274e4b2', 'f': 'fb3dac168bfd8e69014610877f1d4', 'g': 'bd9948a25dfa62a2a866b8cd0f284', 'h': '7597e5ee02dd10de26155ddbcbdfd'}\n",
      "Round:  71\n",
      "{'a': '68cff2ef324729bc8fba1fefe30a1e', 'b': '59ee2a9f84e36e3f2e79be790c4086', 'c': '1ed824a2ffb30c9b34ea3fcd80ee35', 'd': '1f0b39b324febd7085939a3ded06ab', 'e': '32aa07fe318ceaea9f708e9b6aa7b2', 'f': '24ab5b9227f16b078ab98a6274e4b2', 'g': 'fb3dac168bfd8e69014610877f1d4', 'h': 'bd9948a25dfa62a2a866b8cd0f284'}\n",
      "Round:  72\n",
      "{'a': '11b5b78fc1c9c6203fabd1ebab4ca5d', 'b': '68cff2ef324729bc8fba1fefe30a1e', 'c': '59ee2a9f84e36e3f2e79be790c4086', 'd': '1ed824a2ffb30c9b34ea3fcd80ee35', 'e': '87272d84170ba8911dc0b56e1dfcba', 'f': '32aa07fe318ceaea9f708e9b6aa7b2', 'g': '24ab5b9227f16b078ab98a6274e4b2', 'h': 'fb3dac168bfd8e69014610877f1d4'}\n",
      "Round:  73\n",
      "{'a': '10f318a85f70f3c6f6697f92442cb62', 'b': '11b5b78fc1c9c6203fabd1ebab4ca5d', 'c': '68cff2ef324729bc8fba1fefe30a1e', 'd': '59ee2a9f84e36e3f2e79be790c4086', 'e': '75fd4b46dcc104154b6d69fd4fb47b', 'f': '87272d84170ba8911dc0b56e1dfcba', 'g': '32aa07fe318ceaea9f708e9b6aa7b2', 'h': '24ab5b9227f16b078ab98a6274e4b2'}\n",
      "Round:  74\n",
      "{'a': '24fc6283c317aebc5bee91ec857630d', 'b': '10f318a85f70f3c6f6697f92442cb62', 'c': '11b5b78fc1c9c6203fabd1ebab4ca5d', 'd': '68cff2ef324729bc8fba1fefe30a1e', 'e': '8ebf96d73263cd430a2414b102c8ff', 'f': '75fd4b46dcc104154b6d69fd4fb47b', 'g': '87272d84170ba8911dc0b56e1dfcba', 'h': '32aa07fe318ceaea9f708e9b6aa7b2'}\n",
      "Round:  75\n",
      "{'a': '26844c6ff13eb9e686ad65f3c8451fd', 'b': '24fc6283c317aebc5bee91ec857630d', 'c': '10f318a85f70f3c6f6697f92442cb62', 'd': '11b5b78fc1c9c6203fabd1ebab4ca5d', 'e': 'a92f4fd4eb3007dfd9a6d94cd3353b', 'f': '8ebf96d73263cd430a2414b102c8ff', 'g': '75fd4b46dcc104154b6d69fd4fb47b', 'h': '87272d84170ba8911dc0b56e1dfcba'}\n",
      "Round:  76\n",
      "{'a': '6ebf421063ba1bb005065cb2b6d38f1', 'b': '26844c6ff13eb9e686ad65f3c8451fd', 'c': '24fc6283c317aebc5bee91ec857630d', 'd': '10f318a85f70f3c6f6697f92442cb62', 'e': '35f25716bf516f13a51cb808f86345c', 'f': 'a92f4fd4eb3007dfd9a6d94cd3353b', 'g': '8ebf96d73263cd430a2414b102c8ff', 'h': '75fd4b46dcc104154b6d69fd4fb47b'}\n",
      "Round:  77\n",
      "{'a': '68a3181b6d43d9e481614ac13c4e8ef', 'b': '6ebf421063ba1bb005065cb2b6d38f1', 'c': '26844c6ff13eb9e686ad65f3c8451fd', 'd': '24fc6283c317aebc5bee91ec857630d', 'e': '2a62afb3c4a86de1c355d4f55e679f5', 'f': '35f25716bf516f13a51cb808f86345c', 'g': 'a92f4fd4eb3007dfd9a6d94cd3353b', 'h': '8ebf96d73263cd430a2414b102c8ff'}\n",
      "Round:  78\n",
      "{'a': '12a6b4f808e89fe3175543285d6ef1e2', 'b': '68a3181b6d43d9e481614ac13c4e8ef', 'c': '6ebf421063ba1bb005065cb2b6d38f1', 'd': '26844c6ff13eb9e686ad65f3c8451fd', 'e': '7076956d217769b7cc921d0b290f059', 'f': '2a62afb3c4a86de1c355d4f55e679f5', 'g': '35f25716bf516f13a51cb808f86345c', 'h': 'a92f4fd4eb3007dfd9a6d94cd3353b'}\n",
      "Round:  79\n",
      "{'a': '1321a9f1920cb9fc1e223e590f3c93c9', 'b': '12a6b4f808e89fe3175543285d6ef1e2', 'c': '68a3181b6d43d9e481614ac13c4e8ef', 'd': '6ebf421063ba1bb005065cb2b6d38f1', 'e': '7e9eaa2a30b87a528bdccc568455c3a', 'f': '7076956d217769b7cc921d0b290f059', 'g': '2a62afb3c4a86de1c355d4f55e679f5', 'h': '35f25716bf516f13a51cb808f86345c'}\n"
     ]
    }
   ],
   "source": [
    "def initial_variables(option = 'hex'):\n",
    "    if option == 'hex':\n",
    "        return [sqrt_64bits_hex(i) for i in first_eight_primes]\n",
    "    else:\n",
    "        return [hex2int(i) for i in bin_fraction_8primes]\n",
    "\n",
    "# print(initial_variables('hex'))\n",
    "\n",
    "def perform_main():\n",
    "    temp = initial_hash\n",
    "    \n",
    "    for i in range (len(Words)):\n",
    "        print(\"Round: \", i)\n",
    "        print(convert_initial_hash_hex(temp))\n",
    "        t1 = T1(temp, i, Words)\n",
    "        t2 = T2(temp, i)\n",
    "\n",
    "        temp['h'] = temp['g']\n",
    "        temp['g'] = temp['f']\n",
    "        temp['f'] = temp['e']\n",
    "        temp['e'] = temp['d'] + t1\n",
    "        temp['d'] = temp['c']\n",
    "        temp['c'] = temp['b']\n",
    "        temp['b'] = temp['a']\n",
    "        temp['a'] = t1 + t2\n",
    "        # print(temp)\n",
    "\n",
    "perform_main()"
   ]
  },
  {
   "cell_type": "code",
   "execution_count": 14,
   "metadata": {
    "ExecuteTime": {
     "end_time": "2023-09-26T08:41:36.395711240Z",
     "start_time": "2023-09-26T08:41:36.392436920Z"
    },
    "collapsed": false
   },
   "outputs": [
    {
     "data": {
      "text/plain": [
       "[7640891576956012808,\n",
       " 13503953896175478587,\n",
       " 4354685564936845355,\n",
       " 11912009170470909681,\n",
       " 5840696475078001361,\n",
       " 11170449401992604703,\n",
       " 2270897969802886507,\n",
       " 6620516959819538809]"
      ]
     },
     "execution_count": 14,
     "metadata": {},
     "output_type": "execute_result"
    }
   ],
   "source": [
    "initial_variables(option = 'int')\n",
    "# perform_main()"
   ]
  },
  {
   "cell_type": "code",
   "execution_count": null,
   "metadata": {},
   "outputs": [],
   "source": []
  }
 ],
 "metadata": {
  "kernelspec": {
   "display_name": "base",
   "language": "python",
   "name": "python3"
  },
  "language_info": {
   "codemirror_mode": {
    "name": "ipython",
    "version": 3
   },
   "file_extension": ".py",
   "mimetype": "text/x-python",
   "name": "python",
   "nbconvert_exporter": "python",
   "pygments_lexer": "ipython3",
   "version": "3.10.9"
  },
  "orig_nbformat": 4
 },
 "nbformat": 4,
 "nbformat_minor": 2
}
